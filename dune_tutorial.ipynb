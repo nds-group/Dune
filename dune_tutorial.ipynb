{
 "cells": [
  {
   "cell_type": "markdown",
   "id": "8d60f151",
   "metadata": {},
   "source": [
    "## Project Pipeline Tutorial\n",
    "\n",
    "This notebook walks through the full processing pipeline of DUNE, step by step.\n",
    "\n",
    "1. Data Generation\n",
    "    - Data preparation for the machine learning (ML) model that targets hybrid packet-and flow-level classification.\n",
    "2. Unconstrained Model Analysis\n",
    "    - Train an unconstrained ML model, and extract the relationships between input features and output variables, per class feature importance (PCFI).\n",
    "3. Model partitioning\n",
    "    - Partition a tree-based classification model into smaller sub-problems using set partitioning problem.\n",
    "4. Cluster Analysis\n",
    "    - Analyze the performance of each sub-model trained for smaller sub-tasks that are once an unconstrained ML model is partitioned into.\n",
    "5. Model Sequencing\n",
    "    - Determine an optimal execution sequence of sub-models by formulating the problem as a Travelling Salesman Problem (TSP) using Integer Linear Programming (ILP).\n",
    "\n",
    "\n",
    "- All generated files (outputs) are stored in the `tutorial_output` folder and are not removed by the pipeline, allowing for possible reuse or future reference.\n",
    "\n",
    "- Please follow the instructions carefully through the pipeline! :)"
   ]
  },
  {
   "cell_type": "code",
   "execution_count": 1,
   "id": "c6a98737",
   "metadata": {},
   "outputs": [],
   "source": [
    "import os\n",
    "import configparser\n",
    "from pathlib import Path\n",
    "import warnings\n",
    "warnings.filterwarnings('ignore')\n",
    "# Get the path of the tutorial notebook\n",
    "main_path = !pwd\n",
    "main_path = main_path[0]"
   ]
  },
  {
   "cell_type": "markdown",
   "id": "a09b1789",
   "metadata": {},
   "source": [
    "## Data generation"
   ]
  },
  {
   "cell_type": "markdown",
   "id": "05d9134c",
   "metadata": {},
   "source": [
    "---\n",
    "To ensure smooth execution of consecutive steps for generating ordered sub-models from a large unconstrained model to implement across distributed switches, please generate your data in advance using a format compatible with our code. \n",
    "\n",
    "Please follow the instructions provided in the README to prepare your data accordingly."
   ]
  },
  {
   "cell_type": "markdown",
   "id": "318fe686",
   "metadata": {},
   "source": [
    "## Unconstrained model analysis"
   ]
  },
  {
   "cell_type": "markdown",
   "id": "8b7acc93",
   "metadata": {},
   "source": [
    "---\n",
    "- Since running unconstrained model analysis for all search space defined in the file `run_unconstrained_model_analysis.py` takes for a long time, you can decrease the search space to include only the hyperparameters (max depth, max number of trees) of chosen best model after running model analysis for all space. You can define the search space as below to decrease search space and fasten the analysis.\n",
    "\n",
    "-   ToN-IoT --> `max_depth_list = list(range(24, 25))`, `n_trees_list = list(range(17, 18))`\n",
    "\n",
    "-   UNSW --> `max_depth_list = list(range(23, 24))`, `n_trees_list = list(range(32, 33))`\n",
    "\n",
    "-  And set 'results_dir_path' as `./tutorial_output/unconstrained_model_analysis_results` so that results will be stored under the folder.\n",
    "\n",
    "- Before running `run_unconstrained_model_analysis.py`, please modify other fields required as well in `params.ini`.\n",
    "#### output\n",
    "- `run_unconstrained_model_analysis.py` will generate two files:\n",
    "    - `importance_weights.csv`: Includes the importance of every feature for each class derived from the best unconstrained model chosen.\n",
    "    - `score_per_cluster_per_class_df.pdf`: Includes per class score derived from the best unconstrained model chosen."
   ]
  },
  {
   "cell_type": "code",
   "execution_count": 2,
   "id": "053c63c7",
   "metadata": {},
   "outputs": [
    {
     "name": "stdout",
     "output_type": "stream",
     "text": [
      "Defaulting to user installation because normal site-packages is not writeable\n",
      "Requirement already satisfied: joblib==1.4.2 in /home/beyzabutun/.local/lib/python3.10/site-packages (from -r unconstrained_model_analysis/requirements.txt (line 1)) (1.4.2)\n",
      "Requirement already satisfied: numpy==2.2.2 in /home/beyzabutun/.local/lib/python3.10/site-packages (from -r unconstrained_model_analysis/requirements.txt (line 2)) (2.2.2)\n",
      "Requirement already satisfied: pandas==2.2.3 in /home/beyzabutun/.local/lib/python3.10/site-packages (from -r unconstrained_model_analysis/requirements.txt (line 3)) (2.2.3)\n",
      "Requirement already satisfied: python-dateutil==2.9.0.post0 in /home/beyzabutun/.local/lib/python3.10/site-packages (from -r unconstrained_model_analysis/requirements.txt (line 4)) (2.9.0.post0)\n",
      "Requirement already satisfied: pytz==2025.1 in /home/beyzabutun/.local/lib/python3.10/site-packages (from -r unconstrained_model_analysis/requirements.txt (line 5)) (2025.1)\n",
      "Requirement already satisfied: scikit-learn==1.6.1 in /home/beyzabutun/.local/lib/python3.10/site-packages (from -r unconstrained_model_analysis/requirements.txt (line 6)) (1.6.1)\n",
      "Requirement already satisfied: scipy==1.15.1 in /home/beyzabutun/.local/lib/python3.10/site-packages (from -r unconstrained_model_analysis/requirements.txt (line 7)) (1.15.1)\n",
      "Requirement already satisfied: six==1.17.0 in /home/beyzabutun/.local/lib/python3.10/site-packages (from -r unconstrained_model_analysis/requirements.txt (line 8)) (1.17.0)\n",
      "Requirement already satisfied: tabulate==0.9.0 in /home/beyzabutun/.local/lib/python3.10/site-packages (from -r unconstrained_model_analysis/requirements.txt (line 9)) (0.9.0)\n",
      "Requirement already satisfied: threadpoolctl==3.5.0 in /home/beyzabutun/.local/lib/python3.10/site-packages (from -r unconstrained_model_analysis/requirements.txt (line 10)) (3.5.0)\n",
      "Requirement already satisfied: tzdata==2025.1 in /home/beyzabutun/.local/lib/python3.10/site-packages (from -r unconstrained_model_analysis/requirements.txt (line 11)) (2025.1)\n"
     ]
    }
   ],
   "source": [
    "# Install the requirements for unconstrained model analysis and create a folder to store the output files\n",
    "!pip3 install -r unconstrained_model_analysis/requirements.txt\n",
    "os.makedirs(main_path + '/tutorial_output/unconstrained_model_analysis_results', exist_ok=True)"
   ]
  },
  {
   "cell_type": "code",
   "execution_count": 3,
   "id": "00467efe",
   "metadata": {},
   "outputs": [
    {
     "name": "stdout",
     "output_type": "stream",
     "text": [
      "['normal', 'scanning', 'ddos', 'injection', 'password', 'xss', 'ransomware']\n",
      "INFO:TON-IOT:Will use 6 cores. Starting pool...\n",
      "INFO:TON-IOT:Starting analysis of: npoint 2\n",
      "INFO:TON-IOT:Starting analysis of: npoint 3\n",
      "INFO:TON-IOT:Starting analysis of: npoint 4\n",
      "INFO:TON-IOT:File tutorial_output/unconstrained_model_analysis_results/TON-IOT_models_2pkts.csv is present. To overwrite existing files pass force=True when running the analysis\n",
      "INFO:TON-IOT:Finished analyzing n=2, Results at: tutorial_output/unconstrained_model_analysis_results\n",
      "INFO:TON-IOT:File tutorial_output/unconstrained_model_analysis_results/TON-IOT_models_3pkts.csv is present. To overwrite existing files pass force=True when running the analysis\n",
      "INFO:TON-IOT:Finished analyzing n=3, Results at: tutorial_output/unconstrained_model_analysis_results\n",
      "INFO:TON-IOT:File tutorial_output/unconstrained_model_analysis_results/TON-IOT_models_4pkts.csv is present. To overwrite existing files pass force=True when running the analysis\n",
      "INFO:TON-IOT:Finished analyzing n=4, Results at: tutorial_output/unconstrained_model_analysis_results\n",
      "INFO:TON-IOT:Selecting the best unconstrained model\n",
      "INFO:TON-IOT:The best unconstrained model: {'depth': 24, 'tree': np.int64(17), 'feats': ['dstport', 'ip.len', 'Max Packet Length', 'Packet Length Total', 'udp.length', 'srcport', 'ip.ttl', 'Min Packet Length', 'tcp.hdr_len', 'tcp.window_size_value', 'PSH Flag Count', 'ip.proto', 'SYN Flag Count', 'ACK Flag Count', 'tcp.flags.push', 'FIN Flag Count', 'tcp.flags.ack', 'tcp.flags.fin', 'RST Flag Count', 'ECE Flag Count', 'tcp.flags.syn'], 'npkts': np.int64(3), 'macro_f1_FL': np.float64(0.6770124953864585), 'weighted_f1_FL': np.float64(0.7062833903157457), 'micro_f1_FL': np.float64(0.6933876028297726)}\n",
      "INFO:TON-IOT:Starting the best model generation and getting the importance weights by PCFI\n",
      "INFO:TON-IOT:Finished running PCFI, Results at: tutorial_output/unconstrained_model_analysis_results\n"
     ]
    }
   ],
   "source": [
    "# Run unconstrained model analysis\n",
    "!python3 -m unconstrained_model_analysis.src.run_unconstrained_model_analysis"
   ]
  },
  {
   "cell_type": "markdown",
   "id": "7f5a0977",
   "metadata": {},
   "source": [
    "## Model partitioning"
   ]
  },
  {
   "cell_type": "markdown",
   "id": "92440358",
   "metadata": {},
   "source": [
    "---\n",
    "- Please run the following cell to set `weights_file` and `f1_file` in `spp_params.ini` with the related file paths of `importance_weights.csv` and `score_per_cluster_per_class_df.pdf`, respectively, located in `./tutorial_output/unconstrained_model_analysis_results/perf_results` before running `model_partitioning.py`.\n",
    "- OR you can modify the  related fields manually.\n",
    "#### output\n",
    "- `model_partitioning.py` will generate one file:\n",
    "    - `[use_case]_SPP_solution_Level_[best_level]_[time].csv`: Shows the blocks in a partition with classes and features chosen for each block. You can find it under `./model_partitioning/src`."
   ]
  },
  {
   "cell_type": "code",
   "execution_count": 4,
   "id": "65987cfd",
   "metadata": {},
   "outputs": [],
   "source": [
    "# Load the config file, modify the related field, and save the changes back to the file\n",
    "config_file_path = main_path + '/model_partitioning/src/spp_params.ini.example'\n",
    "\n",
    "config = configparser.ConfigParser()\n",
    "config.read(config_file_path)\n",
    "\n",
    "config[config['DEFAULT']['use_case']]['weights_file'] = main_path +'/tutorial_output/unconstrained_model_analysis_results/perf_results/importance_weights.csv'\n",
    "config[config['DEFAULT']['use_case']]['f1_file'] = main_path + '/tutorial_output/unconstrained_model_analysis_results/perf_results/score_per_cluster_per_class_df.csv'\n",
    "\n",
    "with open(config_file_path, 'w') as configfile:\n",
    "    config.write(configfile)"
   ]
  },
  {
   "cell_type": "code",
   "execution_count": 5,
   "id": "5b89adc2",
   "metadata": {},
   "outputs": [
    {
     "name": "stdout",
     "output_type": "stream",
     "text": [
      "Defaulting to user installation because normal site-packages is not writeable\n",
      "Requirement already satisfied: anyio==4.3.0 in /home/beyzabutun/.local/lib/python3.10/site-packages (from -r model_partitioning/requirements.txt (line 1)) (4.3.0)\n",
      "Requirement already satisfied: argon2-cffi==23.1.0 in /home/beyzabutun/.local/lib/python3.10/site-packages (from -r model_partitioning/requirements.txt (line 2)) (23.1.0)\n",
      "Requirement already satisfied: argon2-cffi-bindings==21.2.0 in /home/beyzabutun/.local/lib/python3.10/site-packages (from -r model_partitioning/requirements.txt (line 3)) (21.2.0)\n",
      "Requirement already satisfied: asttokens==2.4.1 in /home/beyzabutun/.local/lib/python3.10/site-packages (from -r model_partitioning/requirements.txt (line 4)) (2.4.1)\n",
      "Requirement already satisfied: async-lru==2.0.4 in /home/beyzabutun/.local/lib/python3.10/site-packages (from -r model_partitioning/requirements.txt (line 5)) (2.0.4)\n",
      "Requirement already satisfied: attrs==23.2.0 in /home/beyzabutun/.local/lib/python3.10/site-packages (from -r model_partitioning/requirements.txt (line 6)) (23.2.0)\n",
      "Requirement already satisfied: Babel==2.15.0 in /home/beyzabutun/.local/lib/python3.10/site-packages (from -r model_partitioning/requirements.txt (line 7)) (2.15.0)\n",
      "Requirement already satisfied: backcall==0.2.0 in /home/beyzabutun/.local/lib/python3.10/site-packages (from -r model_partitioning/requirements.txt (line 8)) (0.2.0)\n",
      "Requirement already satisfied: beautifulsoup4==4.12.3 in /home/beyzabutun/.local/lib/python3.10/site-packages (from -r model_partitioning/requirements.txt (line 9)) (4.12.3)\n",
      "Requirement already satisfied: bleach==6.1.0 in /home/beyzabutun/.local/lib/python3.10/site-packages (from -r model_partitioning/requirements.txt (line 10)) (6.1.0)\n",
      "Requirement already satisfied: certifi==2024.2.2 in /home/beyzabutun/.local/lib/python3.10/site-packages (from -r model_partitioning/requirements.txt (line 11)) (2024.2.2)\n",
      "Requirement already satisfied: cffi==1.16.0 in /home/beyzabutun/.local/lib/python3.10/site-packages (from -r model_partitioning/requirements.txt (line 12)) (1.16.0)\n",
      "Requirement already satisfied: charset-normalizer==3.3.2 in /home/beyzabutun/.local/lib/python3.10/site-packages (from -r model_partitioning/requirements.txt (line 13)) (3.3.2)\n",
      "Requirement already satisfied: comm==0.2.2 in /home/beyzabutun/.local/lib/python3.10/site-packages (from -r model_partitioning/requirements.txt (line 14)) (0.2.2)\n",
      "Requirement already satisfied: contourpy==1.1.1 in /home/beyzabutun/.local/lib/python3.10/site-packages (from -r model_partitioning/requirements.txt (line 15)) (1.1.1)\n",
      "Requirement already satisfied: cycler==0.12.1 in /home/beyzabutun/.local/lib/python3.10/site-packages (from -r model_partitioning/requirements.txt (line 16)) (0.12.1)\n",
      "Requirement already satisfied: debugpy==1.8.1 in /home/beyzabutun/.local/lib/python3.10/site-packages (from -r model_partitioning/requirements.txt (line 17)) (1.8.1)\n",
      "Requirement already satisfied: decorator==5.1.1 in /home/beyzabutun/.local/lib/python3.10/site-packages (from -r model_partitioning/requirements.txt (line 18)) (5.1.1)\n",
      "Requirement already satisfied: defusedxml==0.7.1 in /home/beyzabutun/.local/lib/python3.10/site-packages (from -r model_partitioning/requirements.txt (line 19)) (0.7.1)\n",
      "Requirement already satisfied: exceptiongroup==1.2.1 in /home/beyzabutun/.local/lib/python3.10/site-packages (from -r model_partitioning/requirements.txt (line 20)) (1.2.1)\n",
      "Requirement already satisfied: executing==2.0.1 in /home/beyzabutun/.local/lib/python3.10/site-packages (from -r model_partitioning/requirements.txt (line 21)) (2.0.1)\n",
      "Requirement already satisfied: fastjsonschema==2.19.1 in /home/beyzabutun/.local/lib/python3.10/site-packages (from -r model_partitioning/requirements.txt (line 22)) (2.19.1)\n",
      "Requirement already satisfied: fonttools==4.51.0 in /home/beyzabutun/.local/lib/python3.10/site-packages (from -r model_partitioning/requirements.txt (line 23)) (4.51.0)\n",
      "Requirement already satisfied: h11==0.14.0 in /home/beyzabutun/.local/lib/python3.10/site-packages (from -r model_partitioning/requirements.txt (line 24)) (0.14.0)\n",
      "Requirement already satisfied: httpcore==1.0.5 in /home/beyzabutun/.local/lib/python3.10/site-packages (from -r model_partitioning/requirements.txt (line 25)) (1.0.5)\n",
      "Requirement already satisfied: httpx==0.27.0 in /home/beyzabutun/.local/lib/python3.10/site-packages (from -r model_partitioning/requirements.txt (line 26)) (0.27.0)\n",
      "Requirement already satisfied: idna==3.7 in /home/beyzabutun/.local/lib/python3.10/site-packages (from -r model_partitioning/requirements.txt (line 27)) (3.7)\n",
      "Requirement already satisfied: importlib-metadata==7.1.0 in /home/beyzabutun/.local/lib/python3.10/site-packages (from -r model_partitioning/requirements.txt (line 28)) (7.1.0)\n",
      "Requirement already satisfied: importlib-resources==6.4.0 in /home/beyzabutun/.local/lib/python3.10/site-packages (from -r model_partitioning/requirements.txt (line 29)) (6.4.0)\n",
      "Requirement already satisfied: ipykernel==6.29.4 in /home/beyzabutun/.local/lib/python3.10/site-packages (from -r model_partitioning/requirements.txt (line 30)) (6.29.4)\n",
      "Requirement already satisfied: ipython==8.12.3 in /home/beyzabutun/.local/lib/python3.10/site-packages (from -r model_partitioning/requirements.txt (line 31)) (8.12.3)\n",
      "Requirement already satisfied: ipywidgets==8.1.2 in /home/beyzabutun/.local/lib/python3.10/site-packages (from -r model_partitioning/requirements.txt (line 32)) (8.1.2)\n",
      "Requirement already satisfied: jedi==0.19.1 in /home/beyzabutun/.local/lib/python3.10/site-packages (from -r model_partitioning/requirements.txt (line 33)) (0.19.1)\n",
      "Requirement already satisfied: jinja2==3.1.4 in /home/beyzabutun/.local/lib/python3.10/site-packages (from -r model_partitioning/requirements.txt (line 34)) (3.1.4)\n",
      "Requirement already satisfied: json5==0.9.25 in /home/beyzabutun/.local/lib/python3.10/site-packages (from -r model_partitioning/requirements.txt (line 35)) (0.9.25)\n",
      "Requirement already satisfied: jsonschema==4.22.0 in /home/beyzabutun/.local/lib/python3.10/site-packages (from -r model_partitioning/requirements.txt (line 36)) (4.22.0)\n",
      "Requirement already satisfied: jsonschema-specifications==2023.12.1 in /home/beyzabutun/.local/lib/python3.10/site-packages (from -r model_partitioning/requirements.txt (line 37)) (2023.12.1)\n",
      "Requirement already satisfied: jupyter==1.0.0 in /home/beyzabutun/.local/lib/python3.10/site-packages (from -r model_partitioning/requirements.txt (line 38)) (1.0.0)\n",
      "Requirement already satisfied: jupyter-client==8.6.2 in /home/beyzabutun/.local/lib/python3.10/site-packages (from -r model_partitioning/requirements.txt (line 39)) (8.6.2)\n",
      "Requirement already satisfied: jupyter-console==6.6.3 in /home/beyzabutun/.local/lib/python3.10/site-packages (from -r model_partitioning/requirements.txt (line 40)) (6.6.3)\n",
      "Requirement already satisfied: jupyter-core==5.7.2 in /home/beyzabutun/.local/lib/python3.10/site-packages (from -r model_partitioning/requirements.txt (line 41)) (5.7.2)\n",
      "Requirement already satisfied: jupyter-events==0.10.0 in /home/beyzabutun/.local/lib/python3.10/site-packages (from -r model_partitioning/requirements.txt (line 42)) (0.10.0)\n",
      "Requirement already satisfied: jupyter-lsp==2.2.5 in /home/beyzabutun/.local/lib/python3.10/site-packages (from -r model_partitioning/requirements.txt (line 43)) (2.2.5)\n",
      "Requirement already satisfied: jupyter-server==2.14.0 in /home/beyzabutun/.local/lib/python3.10/site-packages (from -r model_partitioning/requirements.txt (line 44)) (2.14.0)\n",
      "Requirement already satisfied: jupyter-server-terminals==0.5.3 in /home/beyzabutun/.local/lib/python3.10/site-packages (from -r model_partitioning/requirements.txt (line 45)) (0.5.3)\n",
      "Requirement already satisfied: jupyterlab==4.2.1 in /home/beyzabutun/.local/lib/python3.10/site-packages (from -r model_partitioning/requirements.txt (line 46)) (4.2.1)\n",
      "Requirement already satisfied: jupyterlab-pygments==0.3.0 in /home/beyzabutun/.local/lib/python3.10/site-packages (from -r model_partitioning/requirements.txt (line 47)) (0.3.0)\n",
      "Requirement already satisfied: jupyterlab-server==2.27.2 in /home/beyzabutun/.local/lib/python3.10/site-packages (from -r model_partitioning/requirements.txt (line 48)) (2.27.2)\n",
      "Requirement already satisfied: jupyterlab-widgets==3.0.10 in /home/beyzabutun/.local/lib/python3.10/site-packages (from -r model_partitioning/requirements.txt (line 49)) (3.0.10)\n",
      "Requirement already satisfied: kiwisolver==1.4.5 in /home/beyzabutun/.local/lib/python3.10/site-packages (from -r model_partitioning/requirements.txt (line 50)) (1.4.5)\n",
      "Requirement already satisfied: MarkupSafe==2.1.5 in /home/beyzabutun/.local/lib/python3.10/site-packages (from -r model_partitioning/requirements.txt (line 51)) (2.1.5)\n",
      "Requirement already satisfied: matplotlib==3.7.5 in /home/beyzabutun/.local/lib/python3.10/site-packages (from -r model_partitioning/requirements.txt (line 52)) (3.7.5)\n",
      "Requirement already satisfied: matplotlib-inline==0.1.7 in /home/beyzabutun/.local/lib/python3.10/site-packages (from -r model_partitioning/requirements.txt (line 53)) (0.1.7)\n",
      "Requirement already satisfied: mistune==3.0.2 in /home/beyzabutun/.local/lib/python3.10/site-packages (from -r model_partitioning/requirements.txt (line 54)) (3.0.2)\n",
      "Requirement already satisfied: nbclient==0.10.0 in /home/beyzabutun/.local/lib/python3.10/site-packages (from -r model_partitioning/requirements.txt (line 55)) (0.10.0)\n",
      "Requirement already satisfied: nbconvert==7.16.4 in /home/beyzabutun/.local/lib/python3.10/site-packages (from -r model_partitioning/requirements.txt (line 56)) (7.16.4)\n",
      "Requirement already satisfied: nbformat==5.10.4 in /home/beyzabutun/.local/lib/python3.10/site-packages (from -r model_partitioning/requirements.txt (line 57)) (5.10.4)\n",
      "Requirement already satisfied: nest-asyncio==1.6.0 in /home/beyzabutun/.local/lib/python3.10/site-packages (from -r model_partitioning/requirements.txt (line 58)) (1.6.0)\n",
      "Requirement already satisfied: notebook==7.2.0 in /home/beyzabutun/.local/lib/python3.10/site-packages (from -r model_partitioning/requirements.txt (line 59)) (7.2.0)\n",
      "Requirement already satisfied: notebook-shim==0.2.4 in /home/beyzabutun/.local/lib/python3.10/site-packages (from -r model_partitioning/requirements.txt (line 60)) (0.2.4)\n",
      "Collecting numpy==1.24.4\n",
      "  Using cached numpy-1.24.4-cp310-cp310-manylinux_2_17_x86_64.manylinux2014_x86_64.whl (17.3 MB)\n",
      "Requirement already satisfied: overrides==7.7.0 in /home/beyzabutun/.local/lib/python3.10/site-packages (from -r model_partitioning/requirements.txt (line 62)) (7.7.0)\n",
      "Requirement already satisfied: packaging==24.0 in /home/beyzabutun/.local/lib/python3.10/site-packages (from -r model_partitioning/requirements.txt (line 63)) (24.0)\n",
      "Collecting pandas==2.0.3\n",
      "  Using cached pandas-2.0.3-cp310-cp310-manylinux_2_17_x86_64.manylinux2014_x86_64.whl (12.3 MB)\n",
      "Requirement already satisfied: pandocfilters==1.5.1 in /home/beyzabutun/.local/lib/python3.10/site-packages (from -r model_partitioning/requirements.txt (line 65)) (1.5.1)\n",
      "Requirement already satisfied: parso==0.8.4 in /home/beyzabutun/.local/lib/python3.10/site-packages (from -r model_partitioning/requirements.txt (line 66)) (0.8.4)\n",
      "Requirement already satisfied: pexpect==4.9.0 in /home/beyzabutun/.local/lib/python3.10/site-packages (from -r model_partitioning/requirements.txt (line 67)) (4.9.0)\n",
      "Requirement already satisfied: pickleshare==0.7.5 in /home/beyzabutun/.local/lib/python3.10/site-packages (from -r model_partitioning/requirements.txt (line 68)) (0.7.5)\n",
      "Requirement already satisfied: pillow==10.3.0 in /home/beyzabutun/.local/lib/python3.10/site-packages (from -r model_partitioning/requirements.txt (line 69)) (10.3.0)\n",
      "Requirement already satisfied: pkgutil-resolve-name==1.3.10 in /home/beyzabutun/.local/lib/python3.10/site-packages (from -r model_partitioning/requirements.txt (line 70)) (1.3.10)\n",
      "Requirement already satisfied: platformdirs==4.2.2 in /home/beyzabutun/.local/lib/python3.10/site-packages (from -r model_partitioning/requirements.txt (line 71)) (4.2.2)\n",
      "Requirement already satisfied: prometheus-client==0.20.0 in /home/beyzabutun/.local/lib/python3.10/site-packages (from -r model_partitioning/requirements.txt (line 72)) (0.20.0)\n",
      "Requirement already satisfied: prompt-toolkit==3.0.43 in /home/beyzabutun/.local/lib/python3.10/site-packages (from -r model_partitioning/requirements.txt (line 73)) (3.0.43)\n",
      "Requirement already satisfied: psutil==5.9.8 in /home/beyzabutun/.local/lib/python3.10/site-packages (from -r model_partitioning/requirements.txt (line 74)) (5.9.8)\n",
      "Requirement already satisfied: ptyprocess==0.7.0 in /usr/lib/python3/dist-packages (from -r model_partitioning/requirements.txt (line 75)) (0.7.0)\n",
      "Requirement already satisfied: PuLP==2.8.0 in /home/beyzabutun/.local/lib/python3.10/site-packages (from -r model_partitioning/requirements.txt (line 76)) (2.8.0)\n",
      "Requirement already satisfied: pure-eval==0.2.2 in /home/beyzabutun/.local/lib/python3.10/site-packages (from -r model_partitioning/requirements.txt (line 77)) (0.2.2)\n",
      "Requirement already satisfied: pycparser==2.22 in /home/beyzabutun/.local/lib/python3.10/site-packages (from -r model_partitioning/requirements.txt (line 78)) (2.22)\n",
      "Requirement already satisfied: pygments==2.18.0 in /home/beyzabutun/.local/lib/python3.10/site-packages (from -r model_partitioning/requirements.txt (line 79)) (2.18.0)\n",
      "Requirement already satisfied: pyparsing==3.1.2 in /home/beyzabutun/.local/lib/python3.10/site-packages (from -r model_partitioning/requirements.txt (line 80)) (3.1.2)\n",
      "Requirement already satisfied: python-dateutil==2.9.0.post0 in /home/beyzabutun/.local/lib/python3.10/site-packages (from -r model_partitioning/requirements.txt (line 81)) (2.9.0.post0)\n",
      "Requirement already satisfied: python-json-logger==2.0.7 in /home/beyzabutun/.local/lib/python3.10/site-packages (from -r model_partitioning/requirements.txt (line 82)) (2.0.7)\n",
      "Collecting pytz==2024.1\n",
      "  Using cached pytz-2024.1-py2.py3-none-any.whl (505 kB)\n",
      "Requirement already satisfied: PyYAML==6.0.1 in /home/beyzabutun/.local/lib/python3.10/site-packages (from -r model_partitioning/requirements.txt (line 84)) (6.0.1)\n",
      "Requirement already satisfied: pyzmq==26.0.3 in /home/beyzabutun/.local/lib/python3.10/site-packages (from -r model_partitioning/requirements.txt (line 85)) (26.0.3)\n",
      "Requirement already satisfied: qtconsole==5.5.2 in /home/beyzabutun/.local/lib/python3.10/site-packages (from -r model_partitioning/requirements.txt (line 86)) (5.5.2)\n",
      "Requirement already satisfied: QtPy==2.4.1 in /home/beyzabutun/.local/lib/python3.10/site-packages (from -r model_partitioning/requirements.txt (line 87)) (2.4.1)\n",
      "Requirement already satisfied: referencing==0.35.1 in /home/beyzabutun/.local/lib/python3.10/site-packages (from -r model_partitioning/requirements.txt (line 88)) (0.35.1)\n",
      "Requirement already satisfied: requests==2.32.2 in /home/beyzabutun/.local/lib/python3.10/site-packages (from -r model_partitioning/requirements.txt (line 89)) (2.32.2)\n",
      "Requirement already satisfied: rfc3339-validator==0.1.4 in /home/beyzabutun/.local/lib/python3.10/site-packages (from -r model_partitioning/requirements.txt (line 90)) (0.1.4)\n",
      "Requirement already satisfied: rfc3986-validator==0.1.1 in /home/beyzabutun/.local/lib/python3.10/site-packages (from -r model_partitioning/requirements.txt (line 91)) (0.1.1)\n",
      "Requirement already satisfied: rpds-py==0.18.1 in /home/beyzabutun/.local/lib/python3.10/site-packages (from -r model_partitioning/requirements.txt (line 92)) (0.18.1)\n",
      "Collecting scipy==1.10.1\n",
      "  Using cached scipy-1.10.1-cp310-cp310-manylinux_2_17_x86_64.manylinux2014_x86_64.whl (34.4 MB)\n",
      "Requirement already satisfied: Send2Trash==1.8.3 in /home/beyzabutun/.local/lib/python3.10/site-packages (from -r model_partitioning/requirements.txt (line 94)) (1.8.3)\n",
      "Collecting six==1.16.0\n",
      "  Using cached six-1.16.0-py2.py3-none-any.whl (11 kB)\n",
      "Requirement already satisfied: sniffio==1.3.1 in /home/beyzabutun/.local/lib/python3.10/site-packages (from -r model_partitioning/requirements.txt (line 96)) (1.3.1)\n",
      "Requirement already satisfied: soupsieve==2.5 in /home/beyzabutun/.local/lib/python3.10/site-packages (from -r model_partitioning/requirements.txt (line 97)) (2.5)\n",
      "Requirement already satisfied: stack-data==0.6.3 in /home/beyzabutun/.local/lib/python3.10/site-packages (from -r model_partitioning/requirements.txt (line 98)) (0.6.3)\n",
      "Requirement already satisfied: terminado==0.18.1 in /home/beyzabutun/.local/lib/python3.10/site-packages (from -r model_partitioning/requirements.txt (line 99)) (0.18.1)\n",
      "Requirement already satisfied: tinycss2==1.3.0 in /home/beyzabutun/.local/lib/python3.10/site-packages (from -r model_partitioning/requirements.txt (line 100)) (1.3.0)\n",
      "Requirement already satisfied: tomli==2.0.1 in /home/beyzabutun/.local/lib/python3.10/site-packages (from -r model_partitioning/requirements.txt (line 101)) (2.0.1)\n",
      "Requirement already satisfied: tornado==6.4 in /home/beyzabutun/.local/lib/python3.10/site-packages (from -r model_partitioning/requirements.txt (line 102)) (6.4)\n",
      "Requirement already satisfied: tqdm==4.66.4 in /home/beyzabutun/.local/lib/python3.10/site-packages (from -r model_partitioning/requirements.txt (line 103)) (4.66.4)\n",
      "Requirement already satisfied: traitlets==5.14.3 in /home/beyzabutun/.local/lib/python3.10/site-packages (from -r model_partitioning/requirements.txt (line 104)) (5.14.3)\n",
      "Requirement already satisfied: typing-extensions==4.12.0 in /home/beyzabutun/.local/lib/python3.10/site-packages (from -r model_partitioning/requirements.txt (line 105)) (4.12.0)\n",
      "Collecting tzdata==2024.1\n",
      "  Using cached tzdata-2024.1-py2.py3-none-any.whl (345 kB)\n",
      "Requirement already satisfied: urllib3==2.2.1 in /home/beyzabutun/.local/lib/python3.10/site-packages (from -r model_partitioning/requirements.txt (line 107)) (2.2.1)\n",
      "Requirement already satisfied: wcwidth==0.2.13 in /home/beyzabutun/.local/lib/python3.10/site-packages (from -r model_partitioning/requirements.txt (line 108)) (0.2.13)\n",
      "Requirement already satisfied: webencodings==0.5.1 in /home/beyzabutun/.local/lib/python3.10/site-packages (from -r model_partitioning/requirements.txt (line 109)) (0.5.1)\n",
      "Requirement already satisfied: websocket-client==1.8.0 in /home/beyzabutun/.local/lib/python3.10/site-packages (from -r model_partitioning/requirements.txt (line 110)) (1.8.0)\n",
      "Requirement already satisfied: widgetsnbextension==4.0.10 in /home/beyzabutun/.local/lib/python3.10/site-packages (from -r model_partitioning/requirements.txt (line 111)) (4.0.10)\n",
      "Requirement already satisfied: zipp==3.18.2 in /home/beyzabutun/.local/lib/python3.10/site-packages (from -r model_partitioning/requirements.txt (line 112)) (3.18.2)\n",
      "Requirement already satisfied: jsonpointer>1.13 in /usr/lib/python3/dist-packages (from jsonschema==4.22.0->-r model_partitioning/requirements.txt (line 36)) (2.0)\n",
      "Requirement already satisfied: webcolors>=1.11 in /home/beyzabutun/.local/lib/python3.10/site-packages (from jsonschema==4.22.0->-r model_partitioning/requirements.txt (line 36)) (24.11.1)\n",
      "Requirement already satisfied: isoduration in /home/beyzabutun/.local/lib/python3.10/site-packages (from jsonschema==4.22.0->-r model_partitioning/requirements.txt (line 36)) (20.11.0)\n",
      "Requirement already satisfied: uri-template in /home/beyzabutun/.local/lib/python3.10/site-packages (from jsonschema==4.22.0->-r model_partitioning/requirements.txt (line 36)) (1.3.0)\n",
      "Requirement already satisfied: fqdn in /home/beyzabutun/.local/lib/python3.10/site-packages (from jsonschema==4.22.0->-r model_partitioning/requirements.txt (line 36)) (1.5.1)\n",
      "Requirement already satisfied: arrow>=0.15.0 in /home/beyzabutun/.local/lib/python3.10/site-packages (from isoduration->jsonschema==4.22.0->-r model_partitioning/requirements.txt (line 36)) (1.3.0)\n",
      "Requirement already satisfied: types-python-dateutil>=2.8.10 in /home/beyzabutun/.local/lib/python3.10/site-packages (from arrow>=0.15.0->isoduration->jsonschema==4.22.0->-r model_partitioning/requirements.txt (line 36)) (2.9.0.20241206)\n",
      "Installing collected packages: pytz, tzdata, six, numpy, scipy, pandas\n",
      "  Attempting uninstall: pytz\n",
      "    Found existing installation: pytz 2025.1\n",
      "    Uninstalling pytz-2025.1:\n",
      "      Successfully uninstalled pytz-2025.1\n",
      "  Attempting uninstall: tzdata\n",
      "    Found existing installation: tzdata 2025.1\n",
      "    Uninstalling tzdata-2025.1:\n",
      "      Successfully uninstalled tzdata-2025.1\n",
      "  Attempting uninstall: six\n",
      "    Found existing installation: six 1.17.0\n",
      "    Uninstalling six-1.17.0:\n",
      "      Successfully uninstalled six-1.17.0\n",
      "  Attempting uninstall: numpy\n",
      "    Found existing installation: numpy 2.2.2\n",
      "    Uninstalling numpy-2.2.2:\n",
      "      Successfully uninstalled numpy-2.2.2\n",
      "  Attempting uninstall: scipy\n",
      "    Found existing installation: scipy 1.15.1\n",
      "    Uninstalling scipy-1.15.1:\n",
      "      Successfully uninstalled scipy-1.15.1\n",
      "  Attempting uninstall: pandas\n",
      "    Found existing installation: pandas 2.2.3\n",
      "    Uninstalling pandas-2.2.3:\n",
      "      Successfully uninstalled pandas-2.2.3\n",
      "Successfully installed numpy-1.24.4 pandas-2.0.3 pytz-2024.1 scipy-1.10.1 six-1.16.0 tzdata-2024.1\n"
     ]
    }
   ],
   "source": [
    "# Install the requirements for model partitioning and set the current directory\n",
    "!pip3 install -r model_partitioning/requirements.txt\n",
    "os.chdir(main_path + '/model_partitioning/src')"
   ]
  },
  {
   "cell_type": "code",
   "execution_count": 6,
   "id": "132f3345",
   "metadata": {},
   "outputs": [
    {
     "name": "stdout",
     "output_type": "stream",
     "text": [
      "+----+-----------+---------------------------+------------------------------------------------------------------------------------------------------+\n",
      "|    |   Cluster | Class List                | Feature List                                                                                         |\n",
      "|----+-----------+---------------------------+------------------------------------------------------------------------------------------------------|\n",
      "|  0 |         0 | ['scanning', 'injection'] | ['dstport', 'ip.len', 'Max Packet Length', 'Packet Length Total', 'srcport']                         |\n",
      "|  1 |         1 | ['ddos']                  | ['dstport', 'ip.len', 'Max Packet Length', 'Packet Length Total', 'udp.length', 'Min Packet Length'] |\n",
      "|  2 |         2 | ['normal', 'ransomware']  | ['dstport', 'ip.len', 'Max Packet Length', 'Packet Length Total', 'ip.ttl', 'tcp.window_size_value'] |\n",
      "|  3 |         3 | ['password']              | ['dstport', 'Max Packet Length', 'Packet Length Total', 'srcport']                                   |\n",
      "|  4 |         4 | ['xss']                   | ['dstport', 'ip.len', 'Max Packet Length', 'Packet Length Total', 'udp.length']                      |\n",
      "+----+-----------+---------------------------+------------------------------------------------------------------------------------------------------+\n",
      "INFO:SPP:Saved solution to TON-IOT_SPP_solution_LEVEL_1_20250424_123302.csv\n",
      "Figure(640x480)\n",
      "Elapsed time: 0.223984956741333 s\n"
     ]
    }
   ],
   "source": [
    "# Run the model partitioning to obtain blocks via SPP\n",
    "!python3 model_partitioning.py"
   ]
  },
  {
   "cell_type": "markdown",
   "id": "67fd5789",
   "metadata": {},
   "source": [
    "## Cluster analysis"
   ]
  },
  {
   "cell_type": "markdown",
   "id": "8414f3c9",
   "metadata": {},
   "source": [
    "---\n",
    "- Please run the following cell to automatically set `cluster_data_file_path` and `results_dir_path` in `params.ini` with the path of the SPP result's file and directory to store the analysis results, respectively, before running `cluster_analysis.py`.\n",
    "- OR you can modify related fields manually.\n",
    "#### output\n",
    "- `cluster_analysis.py` will generate one file:\n",
    "    - `.csv`: Shows the best model chosen for each block after analysis across given search space."
   ]
  },
  {
   "cell_type": "code",
   "execution_count": 7,
   "id": "bddcd408",
   "metadata": {},
   "outputs": [],
   "source": [
    "spp_solution = str(list(Path(main_path + \"/model_partitioning/src\").glob(\"*.csv\"))[0])\n",
    "# Load the config file, modify the related field, and save the changes back to the file\n",
    "config = configparser.ConfigParser()\n",
    "config_file_path = main_path + '/cluster_analysis/src/params.ini'\n",
    "config.read(config_file_path)\n",
    "\n",
    "config[config['DEFAULT']['use_case']]['cluster_data_file_path'] = spp_solution\n",
    "config[config['DEFAULT']['use_case']]['results_dir_path'] = main_path + '/tutorial_output/cluster_analysis_results'\n",
    "\n",
    "with open(config_file_path, 'w') as configfile:\n",
    "    config.write(configfile)"
   ]
  },
  {
   "cell_type": "code",
   "execution_count": 8,
   "id": "2f6779b9",
   "metadata": {},
   "outputs": [],
   "source": [
    "# Generate a folder to store results, set the current directory, and run cluster analysis\n",
    "os.makedirs(main_path + '/tutorial_output/cluster_analysis_results', exist_ok=True)\n",
    "os.chdir(main_path + '/cluster_analysis/src')"
   ]
  },
  {
   "cell_type": "code",
   "execution_count": 9,
   "id": "5d7c3956",
   "metadata": {},
   "outputs": [
    {
     "name": "stdout",
     "output_type": "stream",
     "text": [
      "INFO:TON-IOT:Will use 8 cores. Starting pool...\n",
      "INFO:TON-IOT:Starting analysis of: Cluster id: 0, npoint 2\n",
      "INFO:TON-IOT:Starting analysis of: Cluster id: 1, npoint 2\n",
      "INFO:TON-IOT:Starting analysis of: Cluster id: 2, npoint 2\n",
      "INFO:TON-IOT:Starting analysis of: Cluster id: 3, npoint 2\n",
      "INFO:TON-IOT:Starting analysis of: Cluster id: 4, npoint 2\n",
      "INFO:TON-IOT:Starting analysis of: Cluster id: 0, npoint 3\n",
      "INFO:TON-IOT:Starting analysis of: Cluster id: 2, npoint 3\n",
      "INFO:TON-IOT:Starting analysis of: Cluster id: 1, npoint 3\n",
      "INFO:TON-IOT:File /home/beyzabutun/distributed_in_band/tutorial_output/cluster_analysis_results/TON-IOT_models_2pkts_Cluster1.csv is present. To overwrite existing files pass force=True when running the analysis\n",
      "INFO:TON-IOT:File /home/beyzabutun/distributed_in_band/tutorial_output/cluster_analysis_results/TON-IOT_models_2pkts_Cluster0.csv is present. To overwrite existing files pass force=True when running the analysis\n",
      "INFO:TON-IOT:Finished analyzing n=2, Cluster=1. Results at: /home/beyzabutun/distributed_in_band/tutorial_output/cluster_analysis_results\n",
      "INFO:TON-IOT:Finished analyzing n=2, Cluster=0. Results at: /home/beyzabutun/distributed_in_band/tutorial_output/cluster_analysis_results\n",
      "INFO:TON-IOT:Starting analysis of: Cluster id: 3, npoint 3\n",
      "INFO:TON-IOT:Starting analysis of: Cluster id: 4, npoint 3\n",
      "INFO:TON-IOT:File /home/beyzabutun/distributed_in_band/tutorial_output/cluster_analysis_results/TON-IOT_models_3pkts_Cluster0.csv is present. To overwrite existing files pass force=True when running the analysis\n",
      "INFO:TON-IOT:Finished analyzing n=3, Cluster=0. Results at: /home/beyzabutun/distributed_in_band/tutorial_output/cluster_analysis_results\n",
      "INFO:TON-IOT:File /home/beyzabutun/distributed_in_band/tutorial_output/cluster_analysis_results/TON-IOT_models_3pkts_Cluster1.csv is present. To overwrite existing files pass force=True when running the analysis\n",
      "INFO:TON-IOT:File /home/beyzabutun/distributed_in_band/tutorial_output/cluster_analysis_results/TON-IOT_models_2pkts_Cluster2.csv is present. To overwrite existing files pass force=True when running the analysis\n",
      "INFO:TON-IOT:Finished analyzing n=3, Cluster=1. Results at: /home/beyzabutun/distributed_in_band/tutorial_output/cluster_analysis_results\n",
      "INFO:TON-IOT:Finished analyzing n=2, Cluster=2. Results at: /home/beyzabutun/distributed_in_band/tutorial_output/cluster_analysis_results\n",
      "INFO:TON-IOT:File /home/beyzabutun/distributed_in_band/tutorial_output/cluster_analysis_results/TON-IOT_models_3pkts_Cluster2.csv is present. To overwrite existing files pass force=True when running the analysis\n",
      "INFO:TON-IOT:File /home/beyzabutun/distributed_in_band/tutorial_output/cluster_analysis_results/TON-IOT_models_2pkts_Cluster3.csv is present. To overwrite existing files pass force=True when running the analysis\n",
      "INFO:TON-IOT:Finished analyzing n=3, Cluster=2. Results at: /home/beyzabutun/distributed_in_band/tutorial_output/cluster_analysis_results\n",
      "INFO:TON-IOT:Finished analyzing n=2, Cluster=3. Results at: /home/beyzabutun/distributed_in_band/tutorial_output/cluster_analysis_results\n",
      "INFO:TON-IOT:Starting analysis of: Cluster id: 0, npoint 4\n",
      "INFO:TON-IOT:Starting analysis of: Cluster id: 1, npoint 4\n",
      "INFO:TON-IOT:File /home/beyzabutun/distributed_in_band/tutorial_output/cluster_analysis_results/TON-IOT_models_2pkts_Cluster4.csv is present. To overwrite existing files pass force=True when running the analysis\n",
      "INFO:TON-IOT:Starting analysis of: Cluster id: 2, npoint 4\n",
      "INFO:TON-IOT:Finished analyzing n=2, Cluster=4. Results at: /home/beyzabutun/distributed_in_band/tutorial_output/cluster_analysis_results\n",
      "INFO:TON-IOT:Starting analysis of: Cluster id: 3, npoint 4\n",
      "INFO:TON-IOT:Starting analysis of: Cluster id: 4, npoint 4\n",
      "INFO:TON-IOT:File /home/beyzabutun/distributed_in_band/tutorial_output/cluster_analysis_results/TON-IOT_models_3pkts_Cluster3.csv is present. To overwrite existing files pass force=True when running the analysis\n",
      "INFO:TON-IOT:Finished analyzing n=3, Cluster=3. Results at: /home/beyzabutun/distributed_in_band/tutorial_output/cluster_analysis_results\n",
      "INFO:TON-IOT:File /home/beyzabutun/distributed_in_band/tutorial_output/cluster_analysis_results/TON-IOT_models_3pkts_Cluster4.csv is present. To overwrite existing files pass force=True when running the analysis\n",
      "INFO:TON-IOT:Finished analyzing n=3, Cluster=4. Results at: /home/beyzabutun/distributed_in_band/tutorial_output/cluster_analysis_results\n",
      "INFO:TON-IOT:File /home/beyzabutun/distributed_in_band/tutorial_output/cluster_analysis_results/TON-IOT_models_4pkts_Cluster0.csv is present. To overwrite existing files pass force=True when running the analysis\n",
      "INFO:TON-IOT:Finished analyzing n=4, Cluster=0. Results at: /home/beyzabutun/distributed_in_band/tutorial_output/cluster_analysis_results\n",
      "INFO:TON-IOT:File /home/beyzabutun/distributed_in_band/tutorial_output/cluster_analysis_results/TON-IOT_models_4pkts_Cluster1.csv is present. To overwrite existing files pass force=True when running the analysis\n",
      "INFO:TON-IOT:Finished analyzing n=4, Cluster=1. Results at: /home/beyzabutun/distributed_in_band/tutorial_output/cluster_analysis_results\n",
      "INFO:TON-IOT:File /home/beyzabutun/distributed_in_band/tutorial_output/cluster_analysis_results/TON-IOT_models_4pkts_Cluster2.csv is present. To overwrite existing files pass force=True when running the analysis\n",
      "INFO:TON-IOT:Finished analyzing n=4, Cluster=2. Results at: /home/beyzabutun/distributed_in_band/tutorial_output/cluster_analysis_results\n",
      "INFO:TON-IOT:File /home/beyzabutun/distributed_in_band/tutorial_output/cluster_analysis_results/TON-IOT_models_4pkts_Cluster4.csv is present. To overwrite existing files pass force=True when running the analysis\n",
      "INFO:TON-IOT:File /home/beyzabutun/distributed_in_band/tutorial_output/cluster_analysis_results/TON-IOT_models_4pkts_Cluster3.csv is present. To overwrite existing files pass force=True when running the analysis\n",
      "INFO:TON-IOT:Finished analyzing n=4, Cluster=4. Results at: /home/beyzabutun/distributed_in_band/tutorial_output/cluster_analysis_results\n",
      "INFO:TON-IOT:Finished analyzing n=4, Cluster=3. Results at: /home/beyzabutun/distributed_in_band/tutorial_output/cluster_analysis_results\n",
      "INFO:TON-IOT:Selecting the best models for each cluster...\n",
      "================================================================================\n",
      "Average F1 score:\n",
      " \tMacro: 68.03218673483845\n",
      "  \tWeighted: 72.68648182147113\n",
      "TOTAL TCAM usage: 17.36111111111111\n",
      "Final Models information:\n",
      "+-----------+---------------------------+-----------------------------------------------------------------------------------------------------------------------------------------------------------------------------+---------+--------+---------+------------+-----+---------------+------------------+---------------+--------------------+\n",
      "|   Cluster | Class List                | Feature List                                                                                                                                                                | Depth   |   Tree |   Feats |   N_Leaves |   N |   Macro_f1_FL |   Weighted_f1_FL |   Micro_f1_FL |   Total_TCAM_Usage |\n",
      "|-----------+---------------------------+-----------------------------------------------------------------------------------------------------------------------------------------------------------------------------+---------+--------+---------+------------+-----+---------------+------------------+---------------+--------------------|\n",
      "|         0 | ['scanning', 'injection'] | ['ip.proto', 'Max Packet Length', 'dstport', 'ip.len', 'tcp.window_size_value']                                                                                             | [11]    |      1 |       5 |         85 |   4 |       66.3287 |          83.973  |       84.3302 |            2.43056 |\n",
      "|         1 | ['ddos']                  | ['Min Packet Length', 'dstport', 'ip.len', 'Packet Length Total', 'udp.length', 'ip.proto', 'tcp.hdr_len', 'ip.ttl', 'tcp.window_size_value', 'tcp.flags.fin']              | [16]    |      1 |      10 |        173 |   3 |       81.5173 |          85.1862 |       86.3904 |            4.86111 |\n",
      "|         2 | ['normal', 'ransomware']  | ['ip.ttl', 'udp.length', 'ip.len', 'ACK Flag Count', 'Min Packet Length', 'ip.proto', 'SYN Flag Count', 'tcp.window_size_value', 'srcport', 'dstport', 'Max Packet Length'] | [16]    |      1 |      11 |        129 |   2 |       88.3017 |          98.2595 |       98.2921 |            4.86111 |\n",
      "|         3 | ['password']              | ['dstport', 'Min Packet Length', 'Packet Length Total', 'ip.ttl', 'ip.proto', 'srcport', 'ip.len', 'ACK Flag Count', 'tcp.window_size_value']                               | [21]    |      1 |       9 |        129 |   3 |       75.2528 |          94.5787 |       94.9225 |            4.16667 |\n",
      "|         4 | ['xss']                   | ['Packet Length Total', 'ip.len', 'udp.length', 'ip.proto', 'ip.ttl', 'Min Packet Length', 'dstport', 'Max Packet Length', 'tcp.window_size_value']                         | [15]    |      1 |       9 |         41 |   4 |       84.9621 |          88.7571 |       89.0983 |            3.47222 |\n",
      "+-----------+---------------------------+-----------------------------------------------------------------------------------------------------------------------------------------------------------------------------+---------+--------+---------+------------+-----+---------------+------------------+---------------+--------------------+\n",
      "END\n"
     ]
    }
   ],
   "source": [
    "!python3 run_cluster_analysis.py"
   ]
  },
  {
   "cell_type": "markdown",
   "id": "20d44381",
   "metadata": {},
   "source": [
    "## Model sequencing"
   ]
  },
  {
   "cell_type": "markdown",
   "id": "f788aca2",
   "metadata": {},
   "source": [
    "---\n",
    "- Please run the following cell to automatically set `best_models_per_cluster_path` and `results_dir_path` in `params.ini` with the path of the SPP result's file and directory to store the results before running `model_sequencing.py`.\n",
    "- OR you can modify related fields manually.\n",
    "#### output\n",
    "\n",
    "- It prints the optimal sequence of the blocks that should be executed."
   ]
  },
  {
   "cell_type": "code",
   "execution_count": 10,
   "id": "5e874836",
   "metadata": {},
   "outputs": [],
   "source": [
    "# Load the config file, modify the related field, and save the changes back to the file\n",
    "os.chdir(main_path + '/model_sequencing/src')\n",
    "config = configparser.ConfigParser()\n",
    "config_file_path = main_path + '/model_sequencing/src/params.ini'\n",
    "config.read(config_file_path)\n",
    "\n",
    "config[config['DEFAULT']['use_case']]['best_models_per_cluster_path'] = main_path + '/tutorial_output/cluster_analysis_results/perf_results/cluster_info_df.csv'\n",
    "config[config['DEFAULT']['use_case']]['results_dir_path'] = main_path + '/tutorial_output/model_sequencing_results'\n",
    "\n",
    "with open(config_file_path, 'w') as configfile:\n",
    "    config.write(configfile)"
   ]
  },
  {
   "cell_type": "code",
   "execution_count": 11,
   "id": "01b1e771",
   "metadata": {},
   "outputs": [
    {
     "name": "stdout",
     "output_type": "stream",
     "text": [
      "Defaulting to user installation because normal site-packages is not writeable\n",
      "Requirement already satisfied: gurobipy==12.0.1 in /home/beyzabutun/.local/lib/python3.10/site-packages (from -r ../requirements.txt (line 1)) (12.0.1)\n",
      "Requirement already satisfied: joblib==1.4.2 in /home/beyzabutun/.local/lib/python3.10/site-packages (from -r ../requirements.txt (line 2)) (1.4.2)\n",
      "Collecting numpy==2.2.2\n",
      "  Using cached numpy-2.2.2-cp310-cp310-manylinux_2_17_x86_64.manylinux2014_x86_64.whl (16.4 MB)\n",
      "Collecting pandas==2.2.3\n",
      "  Using cached pandas-2.2.3-cp310-cp310-manylinux_2_17_x86_64.manylinux2014_x86_64.whl (13.1 MB)\n",
      "Requirement already satisfied: ply==3.11 in /home/beyzabutun/.local/lib/python3.10/site-packages (from -r ../requirements.txt (line 5)) (3.11)\n",
      "Requirement already satisfied: Pyomo==6.8.2 in /home/beyzabutun/.local/lib/python3.10/site-packages (from -r ../requirements.txt (line 6)) (6.8.2)\n",
      "Requirement already satisfied: python-dateutil==2.9.0.post0 in /home/beyzabutun/.local/lib/python3.10/site-packages (from -r ../requirements.txt (line 7)) (2.9.0.post0)\n",
      "Collecting pytz==2025.1\n",
      "  Using cached pytz-2025.1-py2.py3-none-any.whl (507 kB)\n",
      "Requirement already satisfied: scikit-learn==1.6.1 in /home/beyzabutun/.local/lib/python3.10/site-packages (from -r ../requirements.txt (line 9)) (1.6.1)\n",
      "Collecting scipy==1.15.1\n",
      "  Using cached scipy-1.15.1-cp310-cp310-manylinux_2_17_x86_64.manylinux2014_x86_64.whl (40.6 MB)\n",
      "Collecting six==1.17.0\n",
      "  Using cached six-1.17.0-py2.py3-none-any.whl (11 kB)\n",
      "Requirement already satisfied: threadpoolctl==3.5.0 in /home/beyzabutun/.local/lib/python3.10/site-packages (from -r ../requirements.txt (line 12)) (3.5.0)\n",
      "Collecting tzdata==2025.1\n",
      "  Using cached tzdata-2025.1-py2.py3-none-any.whl (346 kB)\n",
      "Installing collected packages: pytz, tzdata, six, numpy, scipy, pandas\n",
      "  Attempting uninstall: pytz\n",
      "    Found existing installation: pytz 2024.1\n",
      "    Uninstalling pytz-2024.1:\n",
      "      Successfully uninstalled pytz-2024.1\n",
      "  Attempting uninstall: tzdata\n",
      "    Found existing installation: tzdata 2024.1\n",
      "    Uninstalling tzdata-2024.1:\n",
      "      Successfully uninstalled tzdata-2024.1\n",
      "  Attempting uninstall: six\n",
      "    Found existing installation: six 1.16.0\n",
      "    Uninstalling six-1.16.0:\n",
      "      Successfully uninstalled six-1.16.0\n",
      "  Attempting uninstall: numpy\n",
      "    Found existing installation: numpy 1.24.4\n",
      "    Uninstalling numpy-1.24.4:\n",
      "      Successfully uninstalled numpy-1.24.4\n",
      "  Attempting uninstall: scipy\n",
      "    Found existing installation: scipy 1.10.1\n",
      "    Uninstalling scipy-1.10.1:\n",
      "      Successfully uninstalled scipy-1.10.1\n",
      "  Attempting uninstall: pandas\n",
      "    Found existing installation: pandas 2.0.3\n",
      "    Uninstalling pandas-2.0.3:\n",
      "      Successfully uninstalled pandas-2.0.3\n",
      "\u001b[31mERROR: pip's dependency resolver does not currently take into account all the packages that are installed. This behaviour is the source of the following dependency conflicts.\n",
      "numba 0.61.0 requires numpy<2.2,>=1.24, but you have numpy 2.2.2 which is incompatible.\n",
      "matplotlib 3.7.5 requires numpy<2,>=1.20, but you have numpy 2.2.2 which is incompatible.\n",
      "contourpy 1.1.1 requires numpy<2.0,>=1.16; python_version <= \"3.11\", but you have numpy 2.2.2 which is incompatible.\u001b[0m\u001b[31m\n",
      "\u001b[0mSuccessfully installed numpy-2.2.2 pandas-2.2.3 pytz-2025.1 scipy-1.15.1 six-1.17.0 tzdata-2025.1\n"
     ]
    }
   ],
   "source": [
    "# Generate a folder to store the results and ,nstall the requirements for model sequencing\n",
    "os.makedirs(main_path + '/tutorial_output/model_sequencing_results', exist_ok=True)\n",
    "!pip3 install -r ../requirements.txt"
   ]
  },
  {
   "cell_type": "code",
   "execution_count": 12,
   "id": "b67139f7",
   "metadata": {},
   "outputs": [
    {
     "name": "stdout",
     "output_type": "stream",
     "text": [
      "INFO:TON-IOT:The analysis starts...\n",
      "INFO:TON-IOT:Normalized confusion matrix is: \n",
      "INFO:TON-IOT:\n",
      "           0          1          2          3          4\n",
      "0  71.430913   1.607479   0.120404  29.846975   9.746733\n",
      "1  19.715202  97.459923   5.059577   5.797520   3.436185\n",
      "2   4.737300   0.286037  94.762352   0.035711   0.527144\n",
      "3   0.068491   0.013702   0.000000  62.110956   1.501412\n",
      "4   4.048094   0.632859   0.057667   2.208838  84.788527\n",
      "Read LP format model from file /tmp/tmphej2njh0.pyomo.lp\n",
      "Reading time = 0.00 seconds\n",
      "x1: 45 rows, 31 columns, 88 nonzeros\n",
      "Gurobi Optimizer version 12.0.1 build v12.0.1rc0 (linux64 - \"Ubuntu 22.04.5 LTS\")\n",
      "\n",
      "CPU model: AMD EPYC 7402P 24-Core Processor, instruction set [SSE2|AVX|AVX2]\n",
      "Thread count: 24 physical cores, 48 logical processors, using up to 24 threads\n",
      "\n",
      "Optimize a model with 45 rows, 31 columns and 88 nonzeros\n",
      "Model fingerprint: 0x26efcc68\n",
      "Variable types: 1 continuous, 30 integer (25 binary)\n",
      "Coefficient statistics:\n",
      "  Matrix range     [1e+00, 5e+00]\n",
      "  Objective range  [3e-03, 1e+100]\n",
      "  Bounds range     [1e+00, 4e+00]\n",
      "  RHS range        [1e+00, 4e+00]\n",
      "Warning: Model contains large objective coefficients\n",
      "         Consider reformulating model or setting NumericFocus parameter\n",
      "         to avoid numerical issues.\n",
      "Presolve removed 31 rows and 19 columns\n",
      "Presolve time: 0.00s\n",
      "Presolved: 14 rows, 12 columns, 40 nonzeros\n",
      "Variable types: 0 continuous, 12 integer (8 binary)\n",
      "Found heuristic solution: objective 2.1021935\n",
      "\n",
      "Explored 0 nodes (0 simplex iterations) in 0.00 seconds (0.00 work units)\n",
      "Thread count was 24 (of 48 available processors)\n",
      "\n",
      "Solution count 1: 2.10219 \n",
      "\n",
      "Optimal solution found (tolerance 1.00e-04)\n",
      "Best objective 2.102193476780e+00, best bound 2.102193476780e+00, gap 0.0000%\n",
      "INFO:TON-IOT:The sequence of the blocks is: [1, 2, 0, 4, 3]\n"
     ]
    }
   ],
   "source": [
    "# Run model sequencing\n",
    "!python3 model_sequencing.py"
   ]
  }
 ],
 "metadata": {
  "kernelspec": {
   "display_name": "Python 3",
   "language": "python",
   "name": "python3"
  },
  "language_info": {
   "codemirror_mode": {
    "name": "ipython",
    "version": 3
   },
   "file_extension": ".py",
   "mimetype": "text/x-python",
   "name": "python",
   "nbconvert_exporter": "python",
   "pygments_lexer": "ipython3",
   "version": "3.8.20"
  }
 },
 "nbformat": 4,
 "nbformat_minor": 5
}
