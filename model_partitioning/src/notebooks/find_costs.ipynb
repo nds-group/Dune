{
 "cells": [
  {
   "cell_type": "markdown",
   "id": "f5feee7a-2352-4834-996d-4d1ee767f945",
   "metadata": {},
   "source": [
    "This playbook implements the ILP described in: https://www.overleaf.com/read/tfphxmrnmdqz#5d9206"
   ]
  },
  {
   "cell_type": "markdown",
   "id": "5c675f18",
   "metadata": {},
   "source": [
    "# PCFI data generation"
   ]
  },
  {
   "cell_type": "code",
   "execution_count": 4,
   "id": "e47c4eff",
   "metadata": {
    "ExecuteTime": {
     "end_time": "2024-05-23T08:09:12.530272Z",
     "start_time": "2024-05-23T08:09:11.051018Z"
    }
   },
   "outputs": [],
   "source": [
    "import ast\n",
    "import itertools\n",
    "import numpy as np\n",
    "import matplotlib.pyplot as plt\n",
    "import pandas as pd\n",
    "import pulp\n",
    "from scipy.special import softmax\n",
    "from tqdm.notebook import tqdm\n",
    "import os\n",
    "import time\n",
    "import itertools"
   ]
  },
  {
   "cell_type": "code",
   "execution_count": 5,
   "id": "de5c1544-a2a6-4626-95c4-2f0f1a0d3e9e",
   "metadata": {},
   "outputs": [],
   "source": [
    "disable_tqdm = True"
   ]
  },
  {
   "cell_type": "code",
   "execution_count": 6,
   "id": "72df909f-24ff-4140-a47b-e3d793158b35",
   "metadata": {},
   "outputs": [],
   "source": [
    "n_classes = 20\n",
    "n_features = 15\n",
    "phis = list(map(np.array, itertools.product([0, 1], repeat=n_features)))[1:-1]\n",
    "features_list = list(pd.read_csv('importance_weights.csv').drop(columns=['c_name']).columns)\n",
    "unwanted_classes = ['Blipcare Blood Pressure meter', 'IPhone']"
   ]
  },
  {
   "cell_type": "code",
   "execution_count": 7,
   "id": "7bb0f14c-8204-4490-9ba9-f4b3ecf639c5",
   "metadata": {},
   "outputs": [],
   "source": [
    "test_classes_list = ['Amazon Echo', 'Android Phone', 'Belkin Wemo switch', 'Belkin wemo motion sensor',  'Dropcam', 'HP Printer', 'Insteon Camera', 'Laptop', 'Light Bulbs LiFX Smart Bulb', 'MacBook', 'NEST Protect smoke alarm', 'Netatmo Welcome', 'Netatmo weather station', 'PIX-STAR Photo-frame', 'Samsung Galaxy Tab', 'Samsung SmartCam', 'Smart Things', 'TP-Link Day Night Cloud camera', 'TP-Link Smart plug', 'Triby Speaker']\n",
    "test_classes_list.sort()\n",
    "test_classes_list = None"
   ]
  },
  {
   "cell_type": "code",
   "execution_count": 8,
   "id": "6c8dd674-2ee7-4eab-a17b-3a852e8da6a9",
   "metadata": {},
   "outputs": [],
   "source": [
    "test_classes_list"
   ]
  },
  {
   "cell_type": "code",
   "execution_count": 9,
   "id": "aba616b4",
   "metadata": {
    "ExecuteTime": {
     "end_time": "2024-05-23T08:09:12.582165Z",
     "start_time": "2024-05-23T08:09:12.532480Z"
    }
   },
   "outputs": [],
   "source": [
    "def generate_test_problem_data(test_classes_list,  n_features=15):\n",
    "    classes_list = test_classes_list\n",
    "    W = pd.read_csv('importance_weights.csv').set_index('c_name').loc[classes_list].values[:,:n_features]\n",
    "    F = pd.read_csv('score_per_class.csv').set_index('class').loc[classes_list].sort_values(by='class')['f1_score'].to_list()\n",
    "    return W, F, classes_list\n",
    "\n",
    "# W, F, classes_list = generate_problem_data(test_classes_list)\n",
    "# n_classes = len(classes_list)\n",
    "\n",
    "def generate_problem_data(n_classes, n_features):\n",
    "    if n_classes == 24:\n",
    "        pcfi_data = pd.read_csv('importance_weights.csv').set_index('c_name')\n",
    "        W = pcfi_data.loc[~pcfi_data.index.isin(unwanted_classes)]\n",
    "        usable_classes_list =  W.index.to_list()\n",
    "        classes_list = usable_classes_list\n",
    "    else:\n",
    "        pcfi_data = pd.read_csv('importance_weights.csv').set_index('c_name')\n",
    "        W = pcfi_data.loc[~pcfi_data.index.isin(unwanted_classes)].values[:n_classes,:n_features]\n",
    "        classes_list = pcfi_data.loc[~pcfi_data.index.isin(unwanted_classes)].index.to_list()[:n_classes]\n",
    "        # classes_list = list(pd.read_csv('importance_weights.csv')['c_name'].values)[:n_classes]\n",
    "        \n",
    "    F1_data = pd.read_csv('score_per_class.csv').set_index('class')\n",
    "    F1_data = F1_data.loc[~F1_data.index.isin(unwanted_classes)]\n",
    "    F = F1_data.sort_values(by='class')['f1_score'].to_list()[:n_classes]\n",
    "    return W, F, classes_list\n",
    "\n",
    "W, F, classes_list = generate_problem_data(n_classes, n_features)"
   ]
  },
  {
   "cell_type": "code",
   "execution_count": 10,
   "id": "f7cc2f99-bf22-4a26-9033-8394637b4ea6",
   "metadata": {},
   "outputs": [
    {
     "data": {
      "text/plain": [
       "(20, 15)"
      ]
     },
     "execution_count": 10,
     "metadata": {},
     "output_type": "execute_result"
    }
   ],
   "source": [
    "W.shape"
   ]
  },
  {
   "cell_type": "code",
   "execution_count": 11,
   "id": "15d6c3df-d341-4785-99ff-bf241e9a8941",
   "metadata": {},
   "outputs": [],
   "source": [
    "assert(classes_list == ['Amazon Echo', 'Android Phone', 'Belkin Wemo switch',\n",
    "       'Belkin wemo motion sensor', \n",
    "       'Dropcam', 'HP Printer', 'Insteon Camera', 'Laptop',\n",
    "       'Light Bulbs LiFX Smart Bulb', 'MacBook',\n",
    "       'NEST Protect smoke alarm', 'Netatmo Welcome',\n",
    "       'Netatmo weather station', 'PIX-STAR Photo-frame',\n",
    "       'Samsung Galaxy Tab', 'Samsung SmartCam', 'Smart Things',\n",
    "       'TP-Link Day Night Cloud camera', 'TP-Link Smart plug',\n",
    "       'Triby Speaker'])"
   ]
  },
  {
   "cell_type": "code",
   "execution_count": 12,
   "id": "1d40d449-9b11-47cd-abf4-277816913ebb",
   "metadata": {},
   "outputs": [],
   "source": [
    "# W, F, classes_list = generate_test_problem_data(test_classes_list)\n",
    "# n_classes = len(classes_list)"
   ]
  },
  {
   "cell_type": "markdown",
   "id": "80c99fcd-41c7-4628-b082-a8b55ec13879",
   "metadata": {},
   "source": [
    "For testing purposes, you might want to pick a set of classes at random. Uncomment accordingly"
   ]
  },
  {
   "cell_type": "code",
   "execution_count": 13,
   "id": "fe5cdf30-6a0e-4bac-94c3-9eca8decc27d",
   "metadata": {},
   "outputs": [],
   "source": [
    "# class_idx = np.random.randint(0,25,12)\n",
    "#class_idx_list = np.random.choice(25, 12, replace=False)\n",
    "#pd.read_csv('importance_weights.csv').iloc[class_idx_list]['c_name'].to_list()\n",
    "# print(class_idx_list)"
   ]
  },
  {
   "cell_type": "markdown",
   "id": "4b63213b-9f56-4308-b553-a3cd031db181",
   "metadata": {},
   "source": [
    "Throughout this notebook, the order of the classes is important because we perform binary encoding in the problem formulation. Below, we check that how the performed ordering results:"
   ]
  },
  {
   "cell_type": "code",
   "execution_count": 14,
   "id": "1449a3bf-3ff5-4754-8d2a-350b2d99f120",
   "metadata": {},
   "outputs": [
    {
     "data": {
      "text/html": [
       "<div>\n",
       "<style scoped>\n",
       "    .dataframe tbody tr th:only-of-type {\n",
       "        vertical-align: middle;\n",
       "    }\n",
       "\n",
       "    .dataframe tbody tr th {\n",
       "        vertical-align: top;\n",
       "    }\n",
       "\n",
       "    .dataframe thead th {\n",
       "        text-align: right;\n",
       "    }\n",
       "</style>\n",
       "<table border=\"1\" class=\"dataframe\">\n",
       "  <thead>\n",
       "    <tr style=\"text-align: right;\">\n",
       "      <th></th>\n",
       "      <th>Unnamed: 0</th>\n",
       "      <th>f1_score</th>\n",
       "      <th>support</th>\n",
       "    </tr>\n",
       "    <tr>\n",
       "      <th>class</th>\n",
       "      <th></th>\n",
       "      <th></th>\n",
       "      <th></th>\n",
       "    </tr>\n",
       "  </thead>\n",
       "  <tbody>\n",
       "    <tr>\n",
       "      <th>Amazon Echo</th>\n",
       "      <td>3</td>\n",
       "      <td>96.684257</td>\n",
       "      <td>4649.0</td>\n",
       "    </tr>\n",
       "    <tr>\n",
       "      <th>Android Phone</th>\n",
       "      <td>12</td>\n",
       "      <td>50.347747</td>\n",
       "      <td>1525.0</td>\n",
       "    </tr>\n",
       "    <tr>\n",
       "      <th>Belkin Wemo switch</th>\n",
       "      <td>11</td>\n",
       "      <td>88.919104</td>\n",
       "      <td>2003.0</td>\n",
       "    </tr>\n",
       "    <tr>\n",
       "      <th>Belkin wemo motion sensor</th>\n",
       "      <td>5</td>\n",
       "      <td>95.942556</td>\n",
       "      <td>3282.0</td>\n",
       "    </tr>\n",
       "    <tr>\n",
       "      <th>Dropcam</th>\n",
       "      <td>23</td>\n",
       "      <td>19.178082</td>\n",
       "      <td>4.0</td>\n",
       "    </tr>\n",
       "    <tr>\n",
       "      <th>HP Printer</th>\n",
       "      <td>7</td>\n",
       "      <td>64.355210</td>\n",
       "      <td>727.0</td>\n",
       "    </tr>\n",
       "    <tr>\n",
       "      <th>Insteon Camera</th>\n",
       "      <td>1</td>\n",
       "      <td>93.822807</td>\n",
       "      <td>6888.0</td>\n",
       "    </tr>\n",
       "    <tr>\n",
       "      <th>Laptop</th>\n",
       "      <td>0</td>\n",
       "      <td>94.084491</td>\n",
       "      <td>11484.0</td>\n",
       "    </tr>\n",
       "    <tr>\n",
       "      <th>Light Bulbs LiFX Smart Bulb</th>\n",
       "      <td>14</td>\n",
       "      <td>99.836551</td>\n",
       "      <td>1509.0</td>\n",
       "    </tr>\n",
       "    <tr>\n",
       "      <th>MacBook</th>\n",
       "      <td>10</td>\n",
       "      <td>66.565743</td>\n",
       "      <td>1341.0</td>\n",
       "    </tr>\n",
       "    <tr>\n",
       "      <th>NEST Protect smoke alarm</th>\n",
       "      <td>16</td>\n",
       "      <td>76.420984</td>\n",
       "      <td>22.0</td>\n",
       "    </tr>\n",
       "    <tr>\n",
       "      <th>Netatmo Welcome</th>\n",
       "      <td>6</td>\n",
       "      <td>89.528104</td>\n",
       "      <td>1845.0</td>\n",
       "    </tr>\n",
       "    <tr>\n",
       "      <th>Netatmo weather station</th>\n",
       "      <td>15</td>\n",
       "      <td>99.271827</td>\n",
       "      <td>248.0</td>\n",
       "    </tr>\n",
       "    <tr>\n",
       "      <th>PIX-STAR Photo-frame</th>\n",
       "      <td>18</td>\n",
       "      <td>57.633795</td>\n",
       "      <td>184.0</td>\n",
       "    </tr>\n",
       "    <tr>\n",
       "      <th>Samsung Galaxy Tab</th>\n",
       "      <td>4</td>\n",
       "      <td>85.856478</td>\n",
       "      <td>7962.0</td>\n",
       "    </tr>\n",
       "    <tr>\n",
       "      <th>Samsung SmartCam</th>\n",
       "      <td>2</td>\n",
       "      <td>97.744553</td>\n",
       "      <td>13334.0</td>\n",
       "    </tr>\n",
       "    <tr>\n",
       "      <th>Smart Things</th>\n",
       "      <td>19</td>\n",
       "      <td>99.239209</td>\n",
       "      <td>592.0</td>\n",
       "    </tr>\n",
       "    <tr>\n",
       "      <th>TP-Link Day Night Cloud camera</th>\n",
       "      <td>13</td>\n",
       "      <td>46.507257</td>\n",
       "      <td>295.0</td>\n",
       "    </tr>\n",
       "    <tr>\n",
       "      <th>TP-Link Smart plug</th>\n",
       "      <td>17</td>\n",
       "      <td>46.942512</td>\n",
       "      <td>194.0</td>\n",
       "    </tr>\n",
       "    <tr>\n",
       "      <th>Triby Speaker</th>\n",
       "      <td>21</td>\n",
       "      <td>80.612647</td>\n",
       "      <td>149.0</td>\n",
       "    </tr>\n",
       "  </tbody>\n",
       "</table>\n",
       "</div>"
      ],
      "text/plain": [
       "                                Unnamed: 0   f1_score  support\n",
       "class                                                         \n",
       "Amazon Echo                              3  96.684257   4649.0\n",
       "Android Phone                           12  50.347747   1525.0\n",
       "Belkin Wemo switch                      11  88.919104   2003.0\n",
       "Belkin wemo motion sensor                5  95.942556   3282.0\n",
       "Dropcam                                 23  19.178082      4.0\n",
       "HP Printer                               7  64.355210    727.0\n",
       "Insteon Camera                           1  93.822807   6888.0\n",
       "Laptop                                   0  94.084491  11484.0\n",
       "Light Bulbs LiFX Smart Bulb             14  99.836551   1509.0\n",
       "MacBook                                 10  66.565743   1341.0\n",
       "NEST Protect smoke alarm                16  76.420984     22.0\n",
       "Netatmo Welcome                          6  89.528104   1845.0\n",
       "Netatmo weather station                 15  99.271827    248.0\n",
       "PIX-STAR Photo-frame                    18  57.633795    184.0\n",
       "Samsung Galaxy Tab                       4  85.856478   7962.0\n",
       "Samsung SmartCam                         2  97.744553  13334.0\n",
       "Smart Things                            19  99.239209    592.0\n",
       "TP-Link Day Night Cloud camera          13  46.507257    295.0\n",
       "TP-Link Smart plug                      17  46.942512    194.0\n",
       "Triby Speaker                           21  80.612647    149.0"
      ]
     },
     "execution_count": 14,
     "metadata": {},
     "output_type": "execute_result"
    }
   ],
   "source": [
    "pd.read_csv('score_per_class.csv').set_index('class').loc[classes_list].sort_values(by='class')"
   ]
  },
  {
   "cell_type": "markdown",
   "id": "06e1287f-a6f5-4233-b203-338003687a49",
   "metadata": {},
   "source": [
    "# Cost Computation"
   ]
  },
  {
   "cell_type": "markdown",
   "id": "dadb4b0c-e9b0-455d-bb0b-0b54719a33e8",
   "metadata": {},
   "source": [
    "In case you want to generate random data, uncomment the below cell"
   ]
  },
  {
   "cell_type": "code",
   "execution_count": 15,
   "id": "8fff9864",
   "metadata": {
    "ExecuteTime": {
     "end_time": "2024-05-23T08:09:12.586825Z",
     "start_time": "2024-05-23T08:09:12.584095Z"
    }
   },
   "outputs": [],
   "source": [
    "# W = softmax(np.array([[random.random() for i in range(10)] for j in range(10)]), 1)"
   ]
  },
  {
   "cell_type": "markdown",
   "id": "5bcd9bda-16f9-411b-b66a-ff8e43d69437",
   "metadata": {},
   "source": [
    "Verify the binary encoding of groups. A 1 in the ith position indicates that the ith class is considered for the group."
   ]
  },
  {
   "cell_type": "code",
   "execution_count": 16,
   "id": "e3da98d7",
   "metadata": {
    "ExecuteTime": {
     "end_time": "2024-05-23T08:09:12.594360Z",
     "start_time": "2024-05-23T08:09:12.588590Z"
    }
   },
   "outputs": [
    {
     "name": "stdout",
     "output_type": "stream",
     "text": [
      "[0 0 0 0 1 0 0 1 0 1 1 1 0 0 0 0 1 1 0 1]\n"
     ]
    }
   ],
   "source": [
    "s_j = np.random.randint(2, size=n_classes)\n",
    "print(s_j)"
   ]
  },
  {
   "cell_type": "code",
   "execution_count": 17,
   "id": "97fe068f",
   "metadata": {
    "ExecuteTime": {
     "end_time": "2024-05-23T08:09:25.967060Z",
     "start_time": "2024-05-23T08:09:25.959126Z"
    }
   },
   "outputs": [
    {
     "data": {
      "text/plain": [
       "(1, 0, 0, 0, 0, 0, 0, 0, 0, 0, 0, 0, 0, 0, 0, 0, 0, 0, 0, 0)"
      ]
     },
     "execution_count": 17,
     "metadata": {},
     "output_type": "execute_result"
    }
   ],
   "source": [
    "def onehot(y, max=n_classes):\n",
    "    \"\"\"Returns the one-hot encoding of the input\n",
    "    \n",
    "    Parameters\n",
    "    ----------\n",
    "    y: int\n",
    "    The value to be encoded\n",
    "    max: int\n",
    "    The max encodable value, i.e, the length of the array.\n",
    "\n",
    "    Returns\n",
    "    -------\n",
    "    tuple\n",
    "        The one-hot encoding of the input, y.\n",
    "    \"\"\"\n",
    "    return tuple([1 if x+1 == y else 0 for x in range(max)])\n",
    "onehot(1)"
   ]
  },
  {
   "cell_type": "markdown",
   "id": "1be2d50c-793c-418d-8753-ce1f6ea9e101",
   "metadata": {},
   "source": [
    "Phis is the list of all possible feature combinations, each binary encoded. We remove the empty and full options."
   ]
  },
  {
   "cell_type": "code",
   "execution_count": 18,
   "id": "5a2e99a3",
   "metadata": {
    "ExecuteTime": {
     "end_time": "2024-05-23T08:09:26.397885Z",
     "start_time": "2024-05-23T08:09:26.360211Z"
    }
   },
   "outputs": [],
   "source": [
    "phis = list(map(np.array, itertools.product([0, 1], repeat=n_features)))\n",
    "assert len(phis) == 2 ** n_features\n",
    "phis = phis[1:-1]"
   ]
  },
  {
   "cell_type": "markdown",
   "id": "5af6459f-4d2e-430a-be02-6683d5f5d203",
   "metadata": {},
   "source": [
    "The below cell purpose is to verify the dimensions of vectors and matrices. If it does not throw an error, everything is fine."
   ]
  },
  {
   "cell_type": "code",
   "execution_count": 19,
   "id": "347e3216-b0fd-4932-904c-b3c6fa327227",
   "metadata": {},
   "outputs": [
    {
     "data": {
      "text/plain": [
       "array([0.54790983, 0.31081991, 0.15789767, 0.17763737, 0.45485364,\n",
       "       0.17168096, 0.54052843, 0.43300595, 0.53776015, 0.50626017,\n",
       "       0.2912783 , 0.33536419, 0.30057658, 0.63232646, 0.29911859,\n",
       "       0.40096461, 0.40024609, 0.54057994, 0.44909094, 0.33577347])"
      ]
     },
     "execution_count": 19,
     "metadata": {},
     "output_type": "execute_result"
    }
   ],
   "source": [
    "(W @ phis[100])"
   ]
  },
  {
   "cell_type": "code",
   "execution_count": 20,
   "id": "e2fcd4f8",
   "metadata": {
    "ExecuteTime": {
     "end_time": "2024-05-23T08:09:26.771867Z",
     "start_time": "2024-05-23T08:09:26.767059Z"
    }
   },
   "outputs": [
    {
     "data": {
      "text/plain": [
       "-0.7026382363624157"
      ]
     },
     "execution_count": 20,
     "metadata": {},
     "output_type": "execute_result"
    }
   ],
   "source": [
    "s_j @ (W @ phis[100]) - np.ones(n_features) @ phis[100]"
   ]
  },
  {
   "cell_type": "markdown",
   "id": "27f32c19-b593-41de-b6fb-0db293c39d3a",
   "metadata": {},
   "source": [
    "Below is an example of how the best features combination is selected, via an exhaustive search. Later we use a closed-form solution."
   ]
  },
  {
   "cell_type": "code",
   "execution_count": 21,
   "id": "62d1b7b4",
   "metadata": {
    "ExecuteTime": {
     "end_time": "2024-05-23T08:09:28.289139Z",
     "start_time": "2024-05-23T08:09:27.945694Z"
    }
   },
   "outputs": [
    {
     "name": "stdout",
     "output_type": "stream",
     "text": [
      "The index providing the max is: 246\n",
      "[0 0 0 0 0 0 0 1 1 1 1 0 1 1 1]\n",
      "2.5015238277068055\n"
     ]
    }
   ],
   "source": [
    "max_values = np.array([s_j @ (W @ phi) - np.ones(n_features) * (1 / n_features) * (np.ones(n_classes) @ s_j) @ phi for phi in phis])\n",
    "res = np.argmax(max_values)\n",
    "print(f'The index providing the max is: {res}')\n",
    "phi_star = phis[res]\n",
    "print(phi_star)\n",
    "print(max_values[res])"
   ]
  },
  {
   "cell_type": "code",
   "execution_count": 22,
   "id": "6ec4b065",
   "metadata": {
    "ExecuteTime": {
     "end_time": "2024-05-23T08:09:31.757183Z",
     "start_time": "2024-05-23T08:09:31.433954Z"
    }
   },
   "outputs": [
    {
     "data": {
      "text/plain": [
       "[<matplotlib.lines.Line2D at 0x7fa631240280>]"
      ]
     },
     "execution_count": 22,
     "metadata": {},
     "output_type": "execute_result"
    },
    {
     "data": {
      "image/png": "[encoded data removed]",
      "text/plain": [
       "<Figure size 640x480 with 1 Axes>"
      ]
     },
     "metadata": {},
     "output_type": "display_data"
    }
   ],
   "source": [
    "plt.plot(max_values)"
   ]
  },
  {
   "cell_type": "code",
   "execution_count": 23,
   "id": "d3a77ae0",
   "metadata": {
    "ExecuteTime": {
     "end_time": "2024-05-23T08:09:36.303591Z",
     "start_time": "2024-05-23T08:09:36.300480Z"
    }
   },
   "outputs": [
    {
     "name": "stdout",
     "output_type": "stream",
     "text": [
      "7.999999999999999\n"
     ]
    }
   ],
   "source": [
    "# This should match the total importance of the selected classes, i.e., the sum of the ones in s_j\n",
    "total_possible_importance = np.ones(n_features)*(1/n_features)*(np.ones(n_classes)@s_j) @ np.ones(n_features)\n",
    "assert s_j.sum() - total_possible_importance < 0.01\n",
    "print(total_possible_importance)"
   ]
  },
  {
   "cell_type": "code",
   "execution_count": 24,
   "id": "df619b07",
   "metadata": {
    "ExecuteTime": {
     "end_time": "2024-05-23T08:09:37.225674Z",
     "start_time": "2024-05-23T08:09:37.221439Z"
    }
   },
   "outputs": [
    {
     "data": {
      "text/plain": [
       "8.0"
      ]
     },
     "execution_count": 24,
     "metadata": {},
     "output_type": "execute_result"
    }
   ],
   "source": [
    "# A simpler method is:\n",
    "np.ones(n_classes)@s_j"
   ]
  },
  {
   "cell_type": "code",
   "execution_count": 25,
   "id": "a7d32cac",
   "metadata": {
    "ExecuteTime": {
     "end_time": "2024-05-23T08:09:37.990879Z",
     "start_time": "2024-05-23T08:09:37.987094Z"
    }
   },
   "outputs": [
    {
     "name": "stdout",
     "output_type": "stream",
     "text": [
      "The per feature cost is:\n",
      "0.06666666666666667\n"
     ]
    }
   ],
   "source": [
    "print('The per feature cost is:')\n",
    "feature_cost = (1 / n_features) * (np.ones(n_features)  * (np.ones(n_classes) @ np.array(onehot(2,n_classes)))) @ onehot(1,n_features)\n",
    "print(feature_cost)"
   ]
  },
  {
   "cell_type": "code",
   "execution_count": 26,
   "id": "62b4b7a2",
   "metadata": {
    "ExecuteTime": {
     "end_time": "2024-05-23T08:09:40.343567Z",
     "start_time": "2024-05-23T08:09:40.339967Z"
    }
   },
   "outputs": [],
   "source": [
    "def compute_group_cost(s_j, W=W):\n",
    "    \"\"\"Old version. It does not consider the F1 scores and makes exhaustive search\n",
    "    \"\"\"\n",
    "    n_classes = W.shape[0]\n",
    "    max_values = np.array([s_j @ (W @ phi) - np.ones(n_features) * (1 / n_features) * (np.ones(n_classes) @ s_j) @ phi for phi in phis])\n",
    "    res = np.argmax(max_values)\n",
    "    return n_classes - max_values[res], phis[res]"
   ]
  },
  {
   "cell_type": "code",
   "execution_count": 27,
   "id": "b7ccc98c",
   "metadata": {
    "ExecuteTime": {
     "end_time": "2024-05-23T08:09:40.522270Z",
     "start_time": "2024-05-23T08:09:40.518933Z"
    }
   },
   "outputs": [],
   "source": [
    "def compute_group_cost_maximize(s_j, W=W, F=F):\n",
    "    \"\"\"Returns the cost of grouping s_j, provided the per class feature\n",
    "    importance matrix, W, and the F1 scores list F. Also provides the set\n",
    "    of features leading to such cost.\n",
    "    \n",
    "    Parameters\n",
    "    ----------\n",
    "    W: numpy.ndarray\n",
    "    The importance matrix\n",
    "    F: numpy.ndarray\n",
    "    The F1 score list of the classes.\n",
    "    s_j : numpy.ndarray\n",
    "    The considered grouping\n",
    "\n",
    "    Returns\n",
    "    -------\n",
    "    numpy.float64\n",
    "        The cost of the grouping\n",
    "    numpy.ndarray\n",
    "        The features selected for the grouping\n",
    "    \"\"\"\n",
    "    n_classes = W.shape[0]\n",
    "    feats = (s_j @ W - np.transpose(np.ones(n_features) * (1 / n_features) * (np.ones(n_classes) @ s_j)))>0\n",
    "    feats = feats.astype(int)\n",
    "    cost =  (s_j @ (W @ feats) - np.ones(n_features) * (1 / n_features) * (np.ones(n_classes) @ s_j) @ feats)\n",
    "    return cost, feats\n",
    "def compute_group_cost_c4(s_j, W=W,F=F):\n",
    "    \"\"\"Returns the cost of grouping s_j, provided the per class feature\n",
    "    importance matrix, W, and the F1 scores list F. Also provides the set\n",
    "    of features leading to such cost.\n",
    "    \n",
    "    Parameters\n",
    "    ----------\n",
    "    W: numpy.ndarray\n",
    "    The importance matrix\n",
    "    F: numpy.ndarray\n",
    "    The F1 score list of the classes.\n",
    "    s_j : numpy.ndarray\n",
    "    The considered grouping\n",
    "\n",
    "    Returns\n",
    "    -------\n",
    "    numpy.float64\n",
    "        The cost of the grouping\n",
    "    numpy.ndarray\n",
    "        The features selected for the grouping\n",
    "    \"\"\"\n",
    "    n_classes = W.shape[0]\n",
    "    feats = (s_j @ W - np.transpose(np.ones(n_features) * (1 / n_features) * (np.ones(n_classes) @ s_j)))>0\n",
    "    feats = feats.astype(int)\n",
    "    cost = n_classes - (s_j @ (W @ feats) - np.ones(n_features) * (1 / n_features) * (np.ones(n_classes) @ s_j) @ feats)\n",
    "    f_scores = np.array(list(itertools.compress(F, s_j)))\n",
    "    if (sum(s_j) <= 1):\n",
    "        f_score_cost = np.max(f_scores)\n",
    "    else:\n",
    "        f_score_cost = np.ptp(f_scores)\n",
    "    cost = cost*f_score_cost\n",
    "    return cost, feats"
   ]
  },
  {
   "cell_type": "code",
   "execution_count": 28,
   "id": "e5f687ac-b07b-4dbe-911c-8a5397ca57db",
   "metadata": {
    "ExecuteTime": {
     "end_time": "2024-05-23T08:09:40.522270Z",
     "start_time": "2024-05-23T08:09:40.518933Z"
    }
   },
   "outputs": [],
   "source": [
    "def compute_group_cost_c4_no_F1(s_j, W=W,F=F):\n",
    "    \"\"\"Returns the cost of grouping s_j, provided the per class feature\n",
    "    importance matrix, W, and the F1 scores list F. Also provides the set\n",
    "    of features leading to such cost.\n",
    "    \n",
    "    Parameters\n",
    "    ----------\n",
    "    W: numpy.ndarray\n",
    "    The importance matrix\n",
    "    F: numpy.ndarray\n",
    "    The F1 score list of the classes.\n",
    "    s_j : numpy.ndarray\n",
    "    The considered grouping\n",
    "\n",
    "    Returns\n",
    "    -------\n",
    "    numpy.float64\n",
    "        The cost of the grouping\n",
    "    numpy.ndarray\n",
    "        The features selected for the grouping\n",
    "    \"\"\"\n",
    "    n_classes = W.shape[0]\n",
    "    feats = (s_j @ W - np.transpose(np.ones(n_features) * (1 / n_features) * (np.ones(n_classes) @ s_j)))>0\n",
    "    feats = feats.astype(int)\n",
    "    cost = n_classes - (s_j @ (W @ feats) - np.ones(n_features) * (1 / n_features) * (np.ones(n_classes) @ s_j) @ feats)\n",
    "    return cost, feats"
   ]
  },
  {
   "cell_type": "code",
   "execution_count": 29,
   "id": "958d9abe-64a4-4d65-bfe1-458797751d12",
   "metadata": {},
   "outputs": [],
   "source": [
    "def compute_group_cost_c6(s_j, W=W,F=F):\n",
    "    \"\"\"Returns the cost of grouping s_j, provided the per class feature\n",
    "    importance matrix, W, and the F1 scores list F. Also provides the set\n",
    "    of features leading to such cost.\n",
    "    \n",
    "    Parameters\n",
    "    ----------\n",
    "    W: numpy.ndarray\n",
    "    The importance matrix\n",
    "    F: numpy.ndarray\n",
    "    The F1 score list of the classes.\n",
    "    s_j : numpy.ndarray\n",
    "    The considered grouping\n",
    "\n",
    "    Returns\n",
    "    -------\n",
    "    numpy.float64\n",
    "        The cost of the grouping\n",
    "    numpy.ndarray\n",
    "        The features selected for the grouping\n",
    "    \"\"\"\n",
    "    max_values = np.array([s_j @ (W @ phi) - np.ones(n_features) * (1 / n_features) * (np.ones(n_classes) @ s_j) @ phi for phi in phis])\n",
    "    res = np.argmax(max_values)\n",
    "    return n_classes - max_values[res], phis[res]"
   ]
  },
  {
   "cell_type": "code",
   "execution_count": 30,
   "id": "69226ef3",
   "metadata": {
    "ExecuteTime": {
     "end_time": "2024-05-23T08:09:40.868705Z",
     "start_time": "2024-05-23T08:09:40.865518Z"
    }
   },
   "outputs": [],
   "source": [
    "def compute_costs(W, S, F, costf=compute_group_cost_c4):\n",
    "    \"\"\"Computes, iteratively, the cost of all possible groupings, i.e., over 2 ** n_classes -1 groupings\n",
    "    \"\"\"\n",
    "    c = np.zeros(len(S))\n",
    "    feats = []\n",
    "    for j, s_j in enumerate(tqdm(S, disable=disable_tqdm)):\n",
    "        # c[j], feat = compute_group_cost(s_j)\n",
    "        c[j], feat = costf(s_j, W, F)\n",
    "        feats.append(feat)\n",
    "    return c, feats"
   ]
  },
  {
   "cell_type": "code",
   "execution_count": 31,
   "id": "f2b2ae16",
   "metadata": {
    "ExecuteTime": {
     "end_time": "2024-05-23T08:09:42.366801Z",
     "start_time": "2024-05-23T08:09:42.362524Z"
    }
   },
   "outputs": [
    {
     "data": {
      "text/plain": [
       "(17.498476172293195, array([0, 0, 0, 0, 0, 0, 0, 1, 1, 1, 1, 0, 1, 1, 1]))"
      ]
     },
     "execution_count": 31,
     "metadata": {},
     "output_type": "execute_result"
    }
   ],
   "source": [
    "compute_group_cost_c4_no_F1(s_j)"
   ]
  },
  {
   "cell_type": "code",
   "execution_count": 32,
   "id": "1cf2f990",
   "metadata": {
    "ExecuteTime": {
     "end_time": "2024-05-23T08:09:43.909251Z",
     "start_time": "2024-05-23T08:09:43.518500Z"
    }
   },
   "outputs": [
    {
     "data": {
      "text/plain": [
       "(17.498476172293195, array([0, 0, 0, 0, 0, 0, 0, 1, 1, 1, 1, 0, 1, 1, 1]))"
      ]
     },
     "execution_count": 32,
     "metadata": {},
     "output_type": "execute_result"
    }
   ],
   "source": [
    "# does not consider F1 score, should match the above. It shows that the closed form is equivalent\n",
    "compute_group_cost(s_j)"
   ]
  },
  {
   "cell_type": "code",
   "execution_count": 33,
   "id": "b1ca7f4696bf8d6c",
   "metadata": {},
   "outputs": [
    {
     "data": {
      "text/plain": [
       "(2.5015238277068055, array([0, 0, 0, 0, 0, 0, 0, 1, 1, 1, 1, 0, 1, 1, 1]))"
      ]
     },
     "execution_count": 33,
     "metadata": {},
     "output_type": "execute_result"
    }
   ],
   "source": [
    "compute_group_cost_maximize(s_j)"
   ]
  },
  {
   "cell_type": "markdown",
   "id": "0f37aa02-eafa-4dbd-8bda-3a081097a98c",
   "metadata": {},
   "source": [
    "Below, we pre-compute the cost of each possible grouping."
   ]
  },
  {
   "cell_type": "code",
   "execution_count": 31,
   "id": "84a6baa1",
   "metadata": {
    "ExecuteTime": {
     "end_time": "2024-05-23T08:14:17.513828Z",
     "start_time": "2024-05-23T08:09:55.574125Z"
    }
   },
   "outputs": [],
   "source": [
    "S = list(map(np.array, itertools.product([0, 1], repeat=n_classes)))[1:-1]\n",
    "C, feats =  compute_costs(W, S, F)"
   ]
  },
  {
   "cell_type": "markdown",
   "id": "84531881",
   "metadata": {},
   "source": [
    "# Formulate ILP"
   ]
  },
  {
   "cell_type": "code",
   "execution_count": 32,
   "id": "9c238cc2",
   "metadata": {
    "ExecuteTime": {
     "end_time": "2024-05-23T08:15:22.978429Z",
     "start_time": "2024-05-23T08:15:19.138054Z"
    }
   },
   "outputs": [],
   "source": [
    "possible_partitions = list(map(tuple, itertools.product([0, 1], repeat=n_classes)))[1:-1]"
   ]
  },
  {
   "cell_type": "code",
   "execution_count": 33,
   "id": "146058c9",
   "metadata": {
    "ExecuteTime": {
     "end_time": "2024-05-23T08:16:35.586730Z",
     "start_time": "2024-05-23T08:15:31.716624Z"
    }
   },
   "outputs": [],
   "source": [
    "x = pulp.LpVariable.dicts('part', possible_partitions, lowBound=0, upBound=1, cat=pulp.LpInteger)"
   ]
  },
  {
   "cell_type": "code",
   "execution_count": 34,
   "id": "9311f008",
   "metadata": {
    "ExecuteTime": {
     "end_time": "2024-05-23T08:16:44.981963Z",
     "start_time": "2024-05-23T08:16:44.979283Z"
    }
   },
   "outputs": [],
   "source": [
    "part_model = pulp.LpProblem('Part_Model', pulp.LpMaximize)"
   ]
  },
  {
   "cell_type": "code",
   "execution_count": 35,
   "id": "f7415513",
   "metadata": {
    "ExecuteTime": {
     "end_time": "2024-05-23T08:19:07.072967Z",
     "start_time": "2024-05-23T08:16:58.864180Z"
    }
   },
   "outputs": [],
   "source": [
    "part_model += pulp.lpSum((C[i]*x[part] for i,part in enumerate(possible_partitions)))"
   ]
  },
  {
   "cell_type": "markdown",
   "id": "d90e5e48-e5b1-4031-bdd9-a2491ff2fdac",
   "metadata": {},
   "source": [
    "**Attention!** Modify the below cell to specify the maximum number of classes"
   ]
  },
  {
   "cell_type": "code",
   "execution_count": 36,
   "id": "1278724f",
   "metadata": {
    "ExecuteTime": {
     "end_time": "2024-05-23T08:24:07.390991Z",
     "start_time": "2024-05-23T08:22:39.013919Z"
    }
   },
   "outputs": [],
   "source": [
    "part_model += (\n",
    "    pulp.lpSum([x[part] for part in possible_partitions]) <= n_classes-1,\n",
    "    # pulp.lpSum([x[part] for part in possible_partitions]) <= 2,\n",
    "    \"Maximum_number_of_partitions\",\n",
    ")"
   ]
  },
  {
   "cell_type": "code",
   "execution_count": 37,
   "id": "082971a0",
   "metadata": {
    "jupyter": {
     "is_executing": true
    }
   },
   "outputs": [],
   "source": [
    "for i in range(n_classes):\n",
    "    # print(onehot(i+1, n_classes))\n",
    "    part_model += (\n",
    "            pulp.lpSum([x[part] for part in possible_partitions if part[i]==1])==1,\n",
    "            f\"Must_include_{onehot(i+1, n_classes)}\",\n",
    "    )"
   ]
  },
  {
   "cell_type": "code",
   "execution_count": 38,
   "id": "8f58836d",
   "metadata": {
    "jupyter": {
     "is_executing": true
    },
    "scrolled": true
   },
   "outputs": [
    {
     "name": "stdout",
     "output_type": "stream",
     "text": [
      "Welcome to the CBC MILP Solver \n",
      "Version: 2.10.3 \n",
      "Build Date: Dec 15 2019 \n",
      "\n",
      "command line - /home/ddeandres/jupyter/.venv/lib/python3.8/site-packages/pulp/solverdir/cbc/linux/64/cbc /tmp/9b48a305e4a94b3bb6b53a2a6792342a-pulp.mps -max -threads 4 -timeMode elapsed -branch -printingOptions all -solution /tmp/9b48a305e4a94b3bb6b53a2a6792342a-pulp.sol (default strategy 1)\n",
      "At line 2 NAME          MODEL\n",
      "At line 3 ROWS\n",
      "At line 26 COLUMNS\n",
      "At line 14680063 RHS\n",
      "At line 14680085 BOUNDS\n",
      "At line 15728660 ENDATA\n",
      "Problem MODEL has 21 rows, 1048574 columns and 11534314 elements\n",
      "Coin0008I MODEL read with 0 errors\n",
      "threads was changed from 0 to 4\n",
      "Option for timeMode changed from cpu to elapsed\n",
      "Continuous objective value is 29628.8 - 3.04 seconds\n",
      "Cgl0004I processed model has 21 rows, 1048574 columns (1048574 integer (1048574 of which binary)) and 11534314 elements\n",
      "Cbc0038I Initial state - 0 integers unsatisfied sum - 0\n",
      "Cbc0038I Solution found of -29628.8\n",
      "Cbc0038I Before mini branch and bound, 1048574 integers at bound fixed and 0 continuous\n",
      "Cbc0038I Mini branch and bound did not improve solution (20.64 seconds)\n",
      "Cbc0038I After 20.68 seconds - Feasibility pump exiting with objective of -29628.8 - took 1.36 seconds\n",
      "Cbc0012I Integer solution of -29628.788 found by feasibility pump after 0 iterations and 0 nodes (20.89 seconds)\n",
      "Cbc0030I Thread 0 used 0 times,  waiting to start 6.7546051, 0 cpu time, 0 locks, 0 locked, 0 waiting for locks\n",
      "Cbc0030I Thread 1 used 0 times,  waiting to start 4.616348, 0 cpu time, 0 locks, 0 locked, 0 waiting for locks\n",
      "Cbc0030I Thread 2 used 0 times,  waiting to start 2.4840999, 0 cpu time, 0 locks, 0 locked, 0 waiting for locks\n",
      "Cbc0030I Thread 3 used 0 times,  waiting to start 0.33979106, 0 cpu time, 0 locks, 0 locked, 0 waiting for locks\n",
      "Cbc0030I Main thread 0 waiting for threads,  1 locks, 1.2159348e-05 locked, 0 waiting for locks\n",
      "Cbc0001I Search completed - best objective -29628.7876681135, took 0 iterations and 0 nodes (30.43 seconds)\n",
      "Cbc0035I Maximum depth 0, 0 variables fixed on reduced cost\n",
      "Cuts at root node changed objective from -29628.8 to -29628.8\n",
      "Probing was tried 0 times and created 0 cuts of which 0 were active after adding rounds of cuts (0.000 seconds)\n",
      "Gomory was tried 0 times and created 0 cuts of which 0 were active after adding rounds of cuts (0.000 seconds)\n",
      "Knapsack was tried 0 times and created 0 cuts of which 0 were active after adding rounds of cuts (0.000 seconds)\n",
      "Clique was tried 0 times and created 0 cuts of which 0 were active after adding rounds of cuts (0.000 seconds)\n",
      "MixedIntegerRounding2 was tried 0 times and created 0 cuts of which 0 were active after adding rounds of cuts (0.000 seconds)\n",
      "FlowCover was tried 0 times and created 0 cuts of which 0 were active after adding rounds of cuts (0.000 seconds)\n",
      "TwoMirCuts was tried 0 times and created 0 cuts of which 0 were active after adding rounds of cuts (0.000 seconds)\n",
      "ZeroHalf was tried 0 times and created 0 cuts of which 0 were active after adding rounds of cuts (0.000 seconds)\n",
      "\n",
      "Result - Optimal solution found\n",
      "\n",
      "Objective value:                29628.78766811\n",
      "Enumerated nodes:               0\n",
      "Total iterations:               0\n",
      "Time (CPU seconds):             24.02\n",
      "Time (Wallclock seconds):       32.27\n",
      "\n",
      "Option for printingOptions changed from normal to all\n",
      "Total time (CPU seconds):       28.90   (Wallclock seconds):       37.43\n",
      "\n"
     ]
    },
    {
     "data": {
      "text/plain": [
       "1"
      ]
     },
     "execution_count": 38,
     "metadata": {},
     "output_type": "execute_result"
    }
   ],
   "source": [
    "part_model.solve(solver=pulp.apis.PULP_CBC_CMD(threads=4))"
   ]
  },
  {
   "cell_type": "code",
   "execution_count": 39,
   "id": "1924f8fa",
   "metadata": {
    "ExecuteTime": {
     "end_time": "2024-05-22T13:51:00.202568Z",
     "start_time": "2024-05-22T13:51:00.198804Z"
    }
   },
   "outputs": [
    {
     "name": "stdout",
     "output_type": "stream",
     "text": [
      "The clusters are:\n",
      "['Triby Speaker']\n",
      "ENCODING: [0, 0, 0, 0, 0, 0, 0, 0, 0, 0, 0, 0, 0, 0, 0, 0, 0, 0, 0, 1]\n",
      "\n",
      "['TP-Link Smart plug']\n",
      "ENCODING: [0, 0, 0, 0, 0, 0, 0, 0, 0, 0, 0, 0, 0, 0, 0, 0, 0, 0, 1, 0]\n",
      "\n",
      "['TP-Link Day Night Cloud camera']\n",
      "ENCODING: [0, 0, 0, 0, 0, 0, 0, 0, 0, 0, 0, 0, 0, 0, 0, 0, 0, 1, 0, 0]\n",
      "\n",
      "['Smart Things']\n",
      "ENCODING: [0, 0, 0, 0, 0, 0, 0, 0, 0, 0, 0, 0, 0, 0, 0, 0, 1, 0, 0, 0]\n",
      "\n",
      "['Samsung SmartCam']\n",
      "ENCODING: [0, 0, 0, 0, 0, 0, 0, 0, 0, 0, 0, 0, 0, 0, 0, 1, 0, 0, 0, 0]\n",
      "\n",
      "['Samsung Galaxy Tab']\n",
      "ENCODING: [0, 0, 0, 0, 0, 0, 0, 0, 0, 0, 0, 0, 0, 0, 1, 0, 0, 0, 0, 0]\n",
      "\n",
      "['PIX-STAR Photo-frame']\n",
      "ENCODING: [0, 0, 0, 0, 0, 0, 0, 0, 0, 0, 0, 0, 0, 1, 0, 0, 0, 0, 0, 0]\n",
      "\n",
      "['Netatmo weather station']\n",
      "ENCODING: [0, 0, 0, 0, 0, 0, 0, 0, 0, 0, 0, 0, 1, 0, 0, 0, 0, 0, 0, 0]\n",
      "\n",
      "['Netatmo Welcome']\n",
      "ENCODING: [0, 0, 0, 0, 0, 0, 0, 0, 0, 0, 0, 1, 0, 0, 0, 0, 0, 0, 0, 0]\n",
      "\n",
      "['NEST Protect smoke alarm']\n",
      "ENCODING: [0, 0, 0, 0, 0, 0, 0, 0, 0, 0, 1, 0, 0, 0, 0, 0, 0, 0, 0, 0]\n",
      "\n",
      "['Light Bulbs LiFX Smart Bulb']\n",
      "ENCODING: [0, 0, 0, 0, 0, 0, 0, 0, 1, 0, 0, 0, 0, 0, 0, 0, 0, 0, 0, 0]\n",
      "\n",
      "['Laptop']\n",
      "ENCODING: [0, 0, 0, 0, 0, 0, 0, 1, 0, 0, 0, 0, 0, 0, 0, 0, 0, 0, 0, 0]\n",
      "\n",
      "['Insteon Camera']\n",
      "ENCODING: [0, 0, 0, 0, 0, 0, 1, 0, 0, 0, 0, 0, 0, 0, 0, 0, 0, 0, 0, 0]\n",
      "\n",
      "['HP Printer']\n",
      "ENCODING: [0, 0, 0, 0, 0, 1, 0, 0, 0, 0, 0, 0, 0, 0, 0, 0, 0, 0, 0, 0]\n",
      "\n",
      "['Dropcam', 'MacBook']\n",
      "ENCODING: [0, 0, 0, 0, 1, 0, 0, 0, 0, 1, 0, 0, 0, 0, 0, 0, 0, 0, 0, 0]\n",
      "\n",
      "['Belkin wemo motion sensor']\n",
      "ENCODING: [0, 0, 0, 1, 0, 0, 0, 0, 0, 0, 0, 0, 0, 0, 0, 0, 0, 0, 0, 0]\n",
      "\n",
      "['Belkin Wemo switch']\n",
      "ENCODING: [0, 0, 1, 0, 0, 0, 0, 0, 0, 0, 0, 0, 0, 0, 0, 0, 0, 0, 0, 0]\n",
      "\n",
      "['Android Phone']\n",
      "ENCODING: [0, 1, 0, 0, 0, 0, 0, 0, 0, 0, 0, 0, 0, 0, 0, 0, 0, 0, 0, 0]\n",
      "\n",
      "['Amazon Echo']\n",
      "ENCODING: [1, 0, 0, 0, 0, 0, 0, 0, 0, 0, 0, 0, 0, 0, 0, 0, 0, 0, 0, 0]\n",
      "\n"
     ]
    }
   ],
   "source": [
    "print(f\"The clusters are:\")\n",
    "partition = []\n",
    "for part in possible_partitions:\n",
    "    if x[part].value() == 1.0:\n",
    "        partition.append(list(part))\n",
    "\n",
    "for part in partition:\n",
    "    part_labels = [c for mask, c in zip(part,classes_list) if mask==1]\n",
    "    print(part_labels)\n",
    "    print(\"ENCODING:\", part)\n",
    "    print()\n"
   ]
  },
  {
   "cell_type": "code",
   "execution_count": 40,
   "id": "aeaa36b1",
   "metadata": {
    "ExecuteTime": {
     "end_time": "2024-05-20T14:20:25.772354Z",
     "start_time": "2024-05-20T14:20:25.769485Z"
    }
   },
   "outputs": [],
   "source": [
    "# Need to recover which feature each grouping would use"
   ]
  },
  {
   "cell_type": "code",
   "execution_count": 41,
   "id": "c6cf3a87",
   "metadata": {
    "ExecuteTime": {
     "end_time": "2024-05-20T14:20:26.150726Z",
     "start_time": "2024-05-20T14:20:26.146345Z"
    }
   },
   "outputs": [],
   "source": [
    "clusters = [sum([2**i for i,val in enumerate(reversed(part)) if val==1]) for part in possible_partitions if x[part].value() == 1.0]"
   ]
  },
  {
   "cell_type": "code",
   "execution_count": 42,
   "id": "4f7a2edd",
   "metadata": {
    "ExecuteTime": {
     "end_time": "2024-05-20T14:20:26.402943Z",
     "start_time": "2024-05-20T14:20:26.398939Z"
    }
   },
   "outputs": [
    {
     "data": {
      "text/plain": [
       "[1,\n",
       " 2,\n",
       " 4,\n",
       " 8,\n",
       " 16,\n",
       " 32,\n",
       " 64,\n",
       " 128,\n",
       " 256,\n",
       " 512,\n",
       " 2048,\n",
       " 4096,\n",
       " 8192,\n",
       " 16384,\n",
       " 33792,\n",
       " 65536,\n",
       " 131072,\n",
       " 262144,\n",
       " 524288]"
      ]
     },
     "execution_count": 42,
     "metadata": {},
     "output_type": "execute_result"
    }
   ],
   "source": [
    "clusters"
   ]
  },
  {
   "cell_type": "code",
   "execution_count": 43,
   "id": "f2c04c23",
   "metadata": {
    "ExecuteTime": {
     "end_time": "2024-05-20T14:20:26.714935Z",
     "start_time": "2024-05-20T14:20:26.710230Z"
    }
   },
   "outputs": [
    {
     "name": "stdout",
     "output_type": "stream",
     "text": [
      "[1585.125676044591, 918.3307942940046, 914.9024478647941, 1923.6773385376655, 1915.0906249699572, 1693.5616348052126, 1124.1509993465788, 1958.5722151503765, 1758.3382843109657, 1511.811362771301, 1936.3851763067805, 1852.7708200579339, 1840.8984192697442, 1266.673135624906, 915.4060414935973, 1882.6165818790519, 1741.8115023281684, 993.3821346360855, 1895.282478420764]\n",
      "['dstport', 'ip.len', 'srcport', 'tcp.window_size_value', 'udp.length']\n",
      "ENCODING: [0 0 0 0 0 0 0 1 1 0 1 0 0 1 1]\n",
      "['dstport', 'ip.len', 'srcport', 'udp.length']\n",
      "ENCODING: [0 0 0 0 0 0 0 1 1 0 1 0 0 0 1]\n",
      "['ip.len', 'tcp.window_size_value', 'udp.length']\n",
      "ENCODING: [0 0 0 0 0 0 0 0 1 0 0 0 0 1 1]\n",
      "['dstport', 'ip.len', 'ip.ttl', 'srcport', 'udp.length']\n",
      "ENCODING: [0 0 0 0 0 0 0 1 1 1 1 0 0 0 1]\n",
      "['dstport', 'ip.len', 'srcport', 'tcp.window_size_value', 'udp.length']\n",
      "ENCODING: [0 0 0 0 0 0 0 1 1 0 1 0 0 1 1]\n",
      "['dstport', 'ip.len', 'srcport', 'tcp.window_size_value', 'udp.length']\n",
      "ENCODING: [0 0 0 0 0 0 0 1 1 0 1 0 0 1 1]\n",
      "['dstport', 'ip.len', 'srcport', 'tcp.window_size_value', 'udp.length']\n",
      "ENCODING: [0 0 0 0 0 0 0 1 1 0 1 0 0 1 1]\n",
      "['Flow IAT Mean', 'dstport', 'ip.ttl', 'srcport', 'tcp.hdr_len', 'tcp.window_size_value']\n",
      "ENCODING: [0 0 1 0 0 0 0 1 0 1 1 0 1 1 0]\n",
      "['dstport', 'ip.len', 'ip.ttl', 'srcport', 'tcp.window_size_value']\n",
      "ENCODING: [0 0 0 0 0 0 0 1 1 1 1 0 0 1 0]\n",
      "['Flow Duration', 'Flow IAT Max', 'Flow IAT Mean', 'dstport', 'ip.len', 'ip.ttl', 'srcport', 'tcp.window_size_value']\n",
      "ENCODING: [1 1 1 0 0 0 0 1 1 1 1 0 0 1 0]\n",
      "['dstport', 'ip.len', 'ip.ttl', 'srcport', 'udp.length']\n",
      "ENCODING: [0 0 0 0 0 0 0 1 1 1 1 0 0 0 1]\n",
      "['dstport', 'ip.len', 'ip.ttl', 'srcport', 'tcp.hdr_len', 'tcp.window_size_value']\n",
      "ENCODING: [0 0 0 0 0 0 0 1 1 1 1 0 1 1 0]\n",
      "['dstport', 'ip.len', 'ip.ttl', 'tcp.flags.rst', 'tcp.window_size_value', 'udp.length']\n",
      "ENCODING: [0 0 0 0 0 0 0 1 1 1 0 1 0 1 1]\n",
      "['dstport', 'ip.ttl', 'srcport', 'tcp.window_size_value']\n",
      "ENCODING: [0 0 0 0 0 0 0 1 0 1 1 0 0 1 0]\n",
      "['ip.len', 'ip.ttl', 'srcport', 'tcp.hdr_len', 'tcp.window_size_value', 'udp.length']\n",
      "ENCODING: [0 0 0 0 0 0 0 0 1 1 1 0 1 1 1]\n",
      "['Max Packet Length', 'Packet Length Total', 'dstport', 'ip.len', 'srcport', 'tcp.window_size_value']\n",
      "ENCODING: [0 0 0 0 1 0 1 1 1 0 1 0 0 1 0]\n",
      "['Max Packet Length', 'Packet Length Mean', 'Packet Length Total', 'dstport', 'ip.len', 'srcport', 'tcp.window_size_value']\n",
      "ENCODING: [0 0 0 0 1 1 1 1 1 0 1 0 0 1 0]\n",
      "['dstport', 'ip.len', 'ip.ttl', 'srcport', 'tcp.window_size_value', 'udp.length']\n",
      "ENCODING: [0 0 0 0 0 0 0 1 1 1 1 0 0 1 1]\n",
      "['dstport', 'ip.len', 'ip.ttl', 'srcport', 'tcp.window_size_value', 'udp.length']\n",
      "ENCODING: [0 0 0 0 0 0 0 1 1 1 1 0 0 1 1]\n",
      "Average number of features: 5.421052631578948\n"
     ]
    }
   ],
   "source": [
    "costs = [C[id-1] for id in clusters]\n",
    "cluster_feats = [feats[id-1] for id in clusters]\n",
    "# print(costs)\n",
    "accum = 0\n",
    "for item in cluster_feats:\n",
    "    feats_labels = [f for mask, f in zip(item,features_list) if mask==1]\n",
    "    accum = accum + len(feats_labels)\n",
    "    print(feats_labels)\n",
    "    print(\"ENCODING:\",item)\n",
    "print(f'Average number of features: {accum/len(cluster_feats)}')"
   ]
  },
  {
   "cell_type": "code",
   "execution_count": 44,
   "id": "d2d043c0",
   "metadata": {
    "ExecuteTime": {
     "end_time": "2024-05-20T14:20:27.921520Z",
     "start_time": "2024-05-20T14:20:27.917669Z"
    }
   },
   "outputs": [
    {
     "data": {
      "text/plain": [
       "29628.787668112473"
      ]
     },
     "execution_count": 44,
     "metadata": {},
     "output_type": "execute_result"
    }
   ],
   "source": [
    "sum(costs)"
   ]
  },
  {
   "cell_type": "code",
   "execution_count": 62,
   "id": "484963c6-d078-4d51-bc4b-07c78e0e8bf1",
   "metadata": {},
   "outputs": [],
   "source": [
    "def cluster_sol_to_csv(partition, cluster_feats, dst):\n",
    "    # for part, cluster_feats in zip(partition, cluster_feats):\n",
    "    part_labels = [[c for mask, c in zip(part,classes_list) if mask==1] for part in partition]\n",
    "    feats_labels = [[f for mask, f in zip(item,features_list) if mask==1] for item in cluster_feats]\n",
    "    cluster_sol = pd.DataFrame({'Cluster': list(range(len(partition))),\n",
    "                         'Class List': part_labels,\n",
    "                         'Feature List': feats_labels,\n",
    "                         'Depth': [-1]*len(partition),\n",
    "                         'Tree': [-1]*len(partition),\n",
    "                         'Feats': [-1]*len(partition)\n",
    "                        })\n",
    "\n",
    "    print(cluster_sol)\n",
    "    cluster_sol.to_csv(dst)\n",
    "    "
   ]
  },
  {
   "cell_type": "code",
   "execution_count": 63,
   "id": "2ac52716-77b5-442e-a535-0011da5f6f7d",
   "metadata": {},
   "outputs": [],
   "source": [
    "# cluster_sol_to_csv(partition, cluster_feats, 'UNSW_SPP_solution.csv')"
   ]
  },
  {
   "cell_type": "code",
   "execution_count": 70,
   "id": "7976a229-c0bb-4888-9b9b-8ca1217ed238",
   "metadata": {},
   "outputs": [],
   "source": [
    "def solve_SPP_with_ILP(n_classes, n_features=15):\n",
    "    W, F, classes_list = generate_problem_data(n_classes, n_features)\n",
    "    # print(W.shape)\n",
    "    # print(len(F))\n",
    "    # return\n",
    "    S = list(map(np.array, itertools.product([0, 1], repeat=n_classes)))[1:-1]\n",
    "    C, feats =  compute_costs(W, S, F)\n",
    "    \n",
    "    possible_partitions = list(map(tuple, itertools.product([0, 1], repeat=n_classes)))[1:-1]\n",
    "    x = pulp.LpVariable.dicts('part', possible_partitions, lowBound=0, upBound=1, cat=pulp.LpInteger)\n",
    "    part_model = pulp.LpProblem('Part_Model', pulp.LpMinimize)\n",
    "    part_model += pulp.lpSum((C[i]*x[part] for i,part in enumerate(possible_partitions)))\n",
    "\n",
    "    part_model += (\n",
    "        pulp.lpSum([x[part] for part in possible_partitions]) <= n_classes-1,\n",
    "        \"Maximum_number_of_partitions\",\n",
    "    )\n",
    "\n",
    "    for i in range(n_classes):\n",
    "        part_model += (\n",
    "                pulp.lpSum([x[part] for part in possible_partitions if part[i]==1])==1,\n",
    "                f\"Must_include_{onehot(i+1, n_classes)}\",\n",
    "        )\n",
    "    part_model.solve(solver=pulp.apis.PULP_CBC_CMD(threads=1, msg=0))\n",
    "    return pulp.value(part_model.objective)"
   ]
  },
  {
   "cell_type": "code",
   "execution_count": 453,
   "id": "1d718dd0-01fd-40ff-83eb-ad7f44ca857e",
   "metadata": {},
   "outputs": [
    {
     "data": {
      "application/vnd.jupyter.widget-view+json": {
       "model_id": "2b541b2f664b460489caa3a88e86339b",
       "version_major": 2,
       "version_minor": 0
      },
      "text/plain": [
       "  0%|          | 0/4094 [00:00<?, ?it/s]"
      ]
     },
     "metadata": {},
     "output_type": "display_data"
    },
    {
     "data": {
      "text/plain": [
       "482.7438015442232"
      ]
     },
     "execution_count": 453,
     "metadata": {},
     "output_type": "execute_result"
    }
   ],
   "source": [
    "solve_SPP_with_ILP(12)"
   ]
  },
  {
   "cell_type": "markdown",
   "id": "0a566b8a",
   "metadata": {},
   "source": [
    "# Compare correlation to euristic"
   ]
  },
  {
   "cell_type": "code",
   "execution_count": 51,
   "id": "7f79981a-cda5-49eb-8d2b-62607a518126",
   "metadata": {},
   "outputs": [],
   "source": [
    "test_classes_list = None"
   ]
  },
  {
   "cell_type": "code",
   "execution_count": 34,
   "id": "7c58bb53",
   "metadata": {
    "ExecuteTime": {
     "end_time": "2024-05-20T09:38:49.729267Z",
     "start_time": "2024-05-20T09:38:49.723276Z"
    }
   },
   "outputs": [],
   "source": [
    "# pcfi_data = pd.read_csv('importance_weights.csv').set_index('c_name').loc[test_classes_list].sort_values(by='c_name')\n",
    "# pcfi_data = pcfi_data.loc[~pcfi_data.index.isin(['Blipcare Blood Pressure meter', 'IPhone'])]\n",
    "if test_classes_list is not None:\n",
    "    n_classes = len(classes_list)\n",
    "    W_df = pd.read_csv('importance_weights.csv').set_index('c_name').loc[classes_list].sort_values(by='c_name')\n",
    "else:\n",
    "    W_df = pd.read_csv('importance_weights.csv').set_index('c_name').sort_values(by='c_name')\n",
    "\n",
    "W_df = W_df.loc[~W_df.index.isin(unwanted_classes)]"
   ]
  },
  {
   "cell_type": "code",
   "execution_count": 89,
   "id": "c80d5df9-85f9-4177-86ca-b142d2ba307b",
   "metadata": {},
   "outputs": [
    {
     "data": {
      "text/html": [
       "<div>\n",
       "<style scoped>\n",
       "    .dataframe tbody tr th:only-of-type {\n",
       "        vertical-align: middle;\n",
       "    }\n",
       "\n",
       "    .dataframe tbody tr th {\n",
       "        vertical-align: top;\n",
       "    }\n",
       "\n",
       "    .dataframe thead th {\n",
       "        text-align: right;\n",
       "    }\n",
       "</style>\n",
       "<table border=\"1\" class=\"dataframe\">\n",
       "  <thead>\n",
       "    <tr style=\"text-align: right;\">\n",
       "      <th></th>\n",
       "      <th>Flow Duration</th>\n",
       "      <th>Flow IAT Max</th>\n",
       "      <th>Flow IAT Mean</th>\n",
       "      <th>Flow IAT Min</th>\n",
       "      <th>Max Packet Length</th>\n",
       "      <th>Packet Length Mean</th>\n",
       "      <th>Packet Length Total</th>\n",
       "      <th>dstport</th>\n",
       "      <th>ip.len</th>\n",
       "      <th>ip.ttl</th>\n",
       "      <th>srcport</th>\n",
       "      <th>tcp.flags.rst</th>\n",
       "      <th>tcp.hdr_len</th>\n",
       "      <th>tcp.window_size_value</th>\n",
       "      <th>udp.length</th>\n",
       "    </tr>\n",
       "    <tr>\n",
       "      <th>c_name</th>\n",
       "      <th></th>\n",
       "      <th></th>\n",
       "      <th></th>\n",
       "      <th></th>\n",
       "      <th></th>\n",
       "      <th></th>\n",
       "      <th></th>\n",
       "      <th></th>\n",
       "      <th></th>\n",
       "      <th></th>\n",
       "      <th></th>\n",
       "      <th></th>\n",
       "      <th></th>\n",
       "      <th></th>\n",
       "      <th></th>\n",
       "    </tr>\n",
       "  </thead>\n",
       "  <tbody>\n",
       "    <tr>\n",
       "      <th>Amazon Echo</th>\n",
       "      <td>0.025057</td>\n",
       "      <td>0.027310</td>\n",
       "      <td>0.019237</td>\n",
       "      <td>0.017046</td>\n",
       "      <td>0.018665</td>\n",
       "      <td>0.012802</td>\n",
       "      <td>0.023736</td>\n",
       "      <td>0.074084</td>\n",
       "      <td>0.207489</td>\n",
       "      <td>0.139627</td>\n",
       "      <td>0.082112</td>\n",
       "      <td>0.009047</td>\n",
       "      <td>0.049904</td>\n",
       "      <td>0.142995</td>\n",
       "      <td>0.150889</td>\n",
       "    </tr>\n",
       "    <tr>\n",
       "      <th>Android Phone</th>\n",
       "      <td>0.045712</td>\n",
       "      <td>0.044124</td>\n",
       "      <td>0.046229</td>\n",
       "      <td>0.042840</td>\n",
       "      <td>0.041711</td>\n",
       "      <td>0.043758</td>\n",
       "      <td>0.042119</td>\n",
       "      <td>0.132792</td>\n",
       "      <td>0.120788</td>\n",
       "      <td>0.095389</td>\n",
       "      <td>0.148426</td>\n",
       "      <td>0.003311</td>\n",
       "      <td>0.020614</td>\n",
       "      <td>0.098158</td>\n",
       "      <td>0.074029</td>\n",
       "    </tr>\n",
       "    <tr>\n",
       "      <th>Belkin Wemo switch</th>\n",
       "      <td>0.018121</td>\n",
       "      <td>0.022457</td>\n",
       "      <td>0.020888</td>\n",
       "      <td>0.010830</td>\n",
       "      <td>0.092648</td>\n",
       "      <td>0.109969</td>\n",
       "      <td>0.125304</td>\n",
       "      <td>0.109375</td>\n",
       "      <td>0.110122</td>\n",
       "      <td>0.008969</td>\n",
       "      <td>0.122614</td>\n",
       "      <td>0.001983</td>\n",
       "      <td>0.018211</td>\n",
       "      <td>0.207913</td>\n",
       "      <td>0.020596</td>\n",
       "    </tr>\n",
       "    <tr>\n",
       "      <th>Belkin wemo motion sensor</th>\n",
       "      <td>0.017571</td>\n",
       "      <td>0.013200</td>\n",
       "      <td>0.013201</td>\n",
       "      <td>0.015718</td>\n",
       "      <td>0.098347</td>\n",
       "      <td>0.064911</td>\n",
       "      <td>0.120646</td>\n",
       "      <td>0.087788</td>\n",
       "      <td>0.083839</td>\n",
       "      <td>0.024094</td>\n",
       "      <td>0.195196</td>\n",
       "      <td>0.003932</td>\n",
       "      <td>0.041293</td>\n",
       "      <td>0.191854</td>\n",
       "      <td>0.028411</td>\n",
       "    </tr>\n",
       "    <tr>\n",
       "      <th>Dropcam</th>\n",
       "      <td>0.075238</td>\n",
       "      <td>0.048626</td>\n",
       "      <td>0.043006</td>\n",
       "      <td>0.030399</td>\n",
       "      <td>0.058361</td>\n",
       "      <td>0.046531</td>\n",
       "      <td>0.040391</td>\n",
       "      <td>0.057094</td>\n",
       "      <td>0.188075</td>\n",
       "      <td>0.083935</td>\n",
       "      <td>0.106228</td>\n",
       "      <td>0.000281</td>\n",
       "      <td>0.013296</td>\n",
       "      <td>0.038989</td>\n",
       "      <td>0.169548</td>\n",
       "    </tr>\n",
       "    <tr>\n",
       "      <th>HP Printer</th>\n",
       "      <td>0.037637</td>\n",
       "      <td>0.052840</td>\n",
       "      <td>0.048135</td>\n",
       "      <td>0.059175</td>\n",
       "      <td>0.035814</td>\n",
       "      <td>0.042276</td>\n",
       "      <td>0.042890</td>\n",
       "      <td>0.091708</td>\n",
       "      <td>0.049723</td>\n",
       "      <td>0.076614</td>\n",
       "      <td>0.186795</td>\n",
       "      <td>0.002026</td>\n",
       "      <td>0.012076</td>\n",
       "      <td>0.229024</td>\n",
       "      <td>0.033269</td>\n",
       "    </tr>\n",
       "    <tr>\n",
       "      <th>Insteon Camera</th>\n",
       "      <td>0.014977</td>\n",
       "      <td>0.014926</td>\n",
       "      <td>0.013501</td>\n",
       "      <td>0.017138</td>\n",
       "      <td>0.022827</td>\n",
       "      <td>0.015943</td>\n",
       "      <td>0.029497</td>\n",
       "      <td>0.098815</td>\n",
       "      <td>0.248757</td>\n",
       "      <td>0.076138</td>\n",
       "      <td>0.045764</td>\n",
       "      <td>0.109386</td>\n",
       "      <td>0.046439</td>\n",
       "      <td>0.076698</td>\n",
       "      <td>0.169194</td>\n",
       "    </tr>\n",
       "    <tr>\n",
       "      <th>Laptop</th>\n",
       "      <td>0.022977</td>\n",
       "      <td>0.030091</td>\n",
       "      <td>0.021638</td>\n",
       "      <td>0.011191</td>\n",
       "      <td>0.052492</td>\n",
       "      <td>0.048265</td>\n",
       "      <td>0.046957</td>\n",
       "      <td>0.088975</td>\n",
       "      <td>0.067205</td>\n",
       "      <td>0.194850</td>\n",
       "      <td>0.098118</td>\n",
       "      <td>0.017285</td>\n",
       "      <td>0.129218</td>\n",
       "      <td>0.129007</td>\n",
       "      <td>0.041733</td>\n",
       "    </tr>\n",
       "    <tr>\n",
       "      <th>Light Bulbs LiFX Smart Bulb</th>\n",
       "      <td>0.003884</td>\n",
       "      <td>0.004336</td>\n",
       "      <td>0.004403</td>\n",
       "      <td>0.003794</td>\n",
       "      <td>0.004355</td>\n",
       "      <td>0.004487</td>\n",
       "      <td>0.005747</td>\n",
       "      <td>0.275347</td>\n",
       "      <td>0.117889</td>\n",
       "      <td>0.252258</td>\n",
       "      <td>0.135137</td>\n",
       "      <td>0.001922</td>\n",
       "      <td>0.010465</td>\n",
       "      <td>0.018828</td>\n",
       "      <td>0.157149</td>\n",
       "    </tr>\n",
       "    <tr>\n",
       "      <th>MacBook</th>\n",
       "      <td>0.010415</td>\n",
       "      <td>0.006352</td>\n",
       "      <td>0.008697</td>\n",
       "      <td>0.005311</td>\n",
       "      <td>0.008298</td>\n",
       "      <td>0.007290</td>\n",
       "      <td>0.007732</td>\n",
       "      <td>0.055984</td>\n",
       "      <td>0.056533</td>\n",
       "      <td>0.060858</td>\n",
       "      <td>0.086244</td>\n",
       "      <td>0.007385</td>\n",
       "      <td>0.348343</td>\n",
       "      <td>0.290032</td>\n",
       "      <td>0.040526</td>\n",
       "    </tr>\n",
       "    <tr>\n",
       "      <th>NEST Protect smoke alarm</th>\n",
       "      <td>0.089982</td>\n",
       "      <td>0.073588</td>\n",
       "      <td>0.070527</td>\n",
       "      <td>0.053515</td>\n",
       "      <td>0.045583</td>\n",
       "      <td>0.064877</td>\n",
       "      <td>0.022036</td>\n",
       "      <td>0.082091</td>\n",
       "      <td>0.082336</td>\n",
       "      <td>0.145679</td>\n",
       "      <td>0.098962</td>\n",
       "      <td>0.000066</td>\n",
       "      <td>0.026786</td>\n",
       "      <td>0.107495</td>\n",
       "      <td>0.036477</td>\n",
       "    </tr>\n",
       "    <tr>\n",
       "      <th>Netatmo Welcome</th>\n",
       "      <td>0.035664</td>\n",
       "      <td>0.043433</td>\n",
       "      <td>0.024045</td>\n",
       "      <td>0.008468</td>\n",
       "      <td>0.033840</td>\n",
       "      <td>0.032852</td>\n",
       "      <td>0.035022</td>\n",
       "      <td>0.167240</td>\n",
       "      <td>0.089711</td>\n",
       "      <td>0.158423</td>\n",
       "      <td>0.107887</td>\n",
       "      <td>0.006183</td>\n",
       "      <td>0.026895</td>\n",
       "      <td>0.170002</td>\n",
       "      <td>0.060335</td>\n",
       "    </tr>\n",
       "    <tr>\n",
       "      <th>Netatmo weather station</th>\n",
       "      <td>0.038474</td>\n",
       "      <td>0.056783</td>\n",
       "      <td>0.084188</td>\n",
       "      <td>0.023134</td>\n",
       "      <td>0.032762</td>\n",
       "      <td>0.042676</td>\n",
       "      <td>0.060017</td>\n",
       "      <td>0.122004</td>\n",
       "      <td>0.052896</td>\n",
       "      <td>0.113677</td>\n",
       "      <td>0.140905</td>\n",
       "      <td>0.006198</td>\n",
       "      <td>0.117557</td>\n",
       "      <td>0.092282</td>\n",
       "      <td>0.016446</td>\n",
       "    </tr>\n",
       "    <tr>\n",
       "      <th>PIX-STAR Photo-frame</th>\n",
       "      <td>0.015124</td>\n",
       "      <td>0.019369</td>\n",
       "      <td>0.013265</td>\n",
       "      <td>0.012777</td>\n",
       "      <td>0.013310</td>\n",
       "      <td>0.018940</td>\n",
       "      <td>0.014072</td>\n",
       "      <td>0.095814</td>\n",
       "      <td>0.290704</td>\n",
       "      <td>0.050712</td>\n",
       "      <td>0.090491</td>\n",
       "      <td>0.001106</td>\n",
       "      <td>0.013058</td>\n",
       "      <td>0.073406</td>\n",
       "      <td>0.277853</td>\n",
       "    </tr>\n",
       "    <tr>\n",
       "      <th>Samsung Galaxy Tab</th>\n",
       "      <td>0.038602</td>\n",
       "      <td>0.039378</td>\n",
       "      <td>0.037730</td>\n",
       "      <td>0.031730</td>\n",
       "      <td>0.049564</td>\n",
       "      <td>0.042509</td>\n",
       "      <td>0.051508</td>\n",
       "      <td>0.143215</td>\n",
       "      <td>0.117028</td>\n",
       "      <td>0.062744</td>\n",
       "      <td>0.100569</td>\n",
       "      <td>0.003146</td>\n",
       "      <td>0.035252</td>\n",
       "      <td>0.162930</td>\n",
       "      <td>0.084095</td>\n",
       "    </tr>\n",
       "    <tr>\n",
       "      <th>Samsung SmartCam</th>\n",
       "      <td>0.021887</td>\n",
       "      <td>0.019937</td>\n",
       "      <td>0.016491</td>\n",
       "      <td>0.012517</td>\n",
       "      <td>0.035305</td>\n",
       "      <td>0.037621</td>\n",
       "      <td>0.047801</td>\n",
       "      <td>0.077415</td>\n",
       "      <td>0.191172</td>\n",
       "      <td>0.040766</td>\n",
       "      <td>0.127492</td>\n",
       "      <td>0.003416</td>\n",
       "      <td>0.023738</td>\n",
       "      <td>0.199154</td>\n",
       "      <td>0.145288</td>\n",
       "    </tr>\n",
       "    <tr>\n",
       "      <th>Smart Things</th>\n",
       "      <td>0.002197</td>\n",
       "      <td>0.002102</td>\n",
       "      <td>0.003511</td>\n",
       "      <td>0.003717</td>\n",
       "      <td>0.003395</td>\n",
       "      <td>0.002548</td>\n",
       "      <td>0.003199</td>\n",
       "      <td>0.343712</td>\n",
       "      <td>0.073387</td>\n",
       "      <td>0.224709</td>\n",
       "      <td>0.212618</td>\n",
       "      <td>0.004566</td>\n",
       "      <td>0.007489</td>\n",
       "      <td>0.018190</td>\n",
       "      <td>0.094661</td>\n",
       "    </tr>\n",
       "    <tr>\n",
       "      <th>TP-Link Day Night Cloud camera</th>\n",
       "      <td>0.038262</td>\n",
       "      <td>0.022593</td>\n",
       "      <td>0.022926</td>\n",
       "      <td>0.014022</td>\n",
       "      <td>0.033776</td>\n",
       "      <td>0.042014</td>\n",
       "      <td>0.051008</td>\n",
       "      <td>0.065842</td>\n",
       "      <td>0.235107</td>\n",
       "      <td>0.061469</td>\n",
       "      <td>0.065663</td>\n",
       "      <td>0.001368</td>\n",
       "      <td>0.053310</td>\n",
       "      <td>0.101947</td>\n",
       "      <td>0.190694</td>\n",
       "    </tr>\n",
       "    <tr>\n",
       "      <th>TP-Link Smart plug</th>\n",
       "      <td>0.020719</td>\n",
       "      <td>0.023438</td>\n",
       "      <td>0.032773</td>\n",
       "      <td>0.018750</td>\n",
       "      <td>0.039469</td>\n",
       "      <td>0.041281</td>\n",
       "      <td>0.035538</td>\n",
       "      <td>0.180794</td>\n",
       "      <td>0.240243</td>\n",
       "      <td>0.034590</td>\n",
       "      <td>0.116324</td>\n",
       "      <td>0.000460</td>\n",
       "      <td>0.007833</td>\n",
       "      <td>0.041365</td>\n",
       "      <td>0.166425</td>\n",
       "    </tr>\n",
       "    <tr>\n",
       "      <th>Triby Speaker</th>\n",
       "      <td>0.031258</td>\n",
       "      <td>0.035679</td>\n",
       "      <td>0.027074</td>\n",
       "      <td>0.024503</td>\n",
       "      <td>0.038295</td>\n",
       "      <td>0.030183</td>\n",
       "      <td>0.031936</td>\n",
       "      <td>0.223095</td>\n",
       "      <td>0.145749</td>\n",
       "      <td>0.046601</td>\n",
       "      <td>0.148527</td>\n",
       "      <td>0.000125</td>\n",
       "      <td>0.064500</td>\n",
       "      <td>0.073553</td>\n",
       "      <td>0.078923</td>\n",
       "    </tr>\n",
       "    <tr>\n",
       "      <th>Withings Aura smart sleep sensor</th>\n",
       "      <td>0.028188</td>\n",
       "      <td>0.034921</td>\n",
       "      <td>0.027359</td>\n",
       "      <td>0.011634</td>\n",
       "      <td>0.026932</td>\n",
       "      <td>0.019577</td>\n",
       "      <td>0.017979</td>\n",
       "      <td>0.093743</td>\n",
       "      <td>0.241012</td>\n",
       "      <td>0.080893</td>\n",
       "      <td>0.073694</td>\n",
       "      <td>0.001221</td>\n",
       "      <td>0.016519</td>\n",
       "      <td>0.138504</td>\n",
       "      <td>0.187825</td>\n",
       "    </tr>\n",
       "    <tr>\n",
       "      <th>Withings Smart Baby Monitor</th>\n",
       "      <td>0.034379</td>\n",
       "      <td>0.037743</td>\n",
       "      <td>0.043305</td>\n",
       "      <td>0.021498</td>\n",
       "      <td>0.026228</td>\n",
       "      <td>0.024537</td>\n",
       "      <td>0.027842</td>\n",
       "      <td>0.092204</td>\n",
       "      <td>0.209236</td>\n",
       "      <td>0.075814</td>\n",
       "      <td>0.056331</td>\n",
       "      <td>0.001145</td>\n",
       "      <td>0.014858</td>\n",
       "      <td>0.154123</td>\n",
       "      <td>0.180756</td>\n",
       "    </tr>\n",
       "    <tr>\n",
       "      <th>Withings Smart scale</th>\n",
       "      <td>0.053795</td>\n",
       "      <td>0.043593</td>\n",
       "      <td>0.040938</td>\n",
       "      <td>0.029864</td>\n",
       "      <td>0.023233</td>\n",
       "      <td>0.055376</td>\n",
       "      <td>0.040052</td>\n",
       "      <td>0.188419</td>\n",
       "      <td>0.094451</td>\n",
       "      <td>0.117091</td>\n",
       "      <td>0.203791</td>\n",
       "      <td>0.000060</td>\n",
       "      <td>0.008444</td>\n",
       "      <td>0.037640</td>\n",
       "      <td>0.063251</td>\n",
       "    </tr>\n",
       "    <tr>\n",
       "      <th>iHome</th>\n",
       "      <td>0.030473</td>\n",
       "      <td>0.045157</td>\n",
       "      <td>0.038558</td>\n",
       "      <td>0.029674</td>\n",
       "      <td>0.060954</td>\n",
       "      <td>0.070171</td>\n",
       "      <td>0.069746</td>\n",
       "      <td>0.109163</td>\n",
       "      <td>0.102145</td>\n",
       "      <td>0.130881</td>\n",
       "      <td>0.108571</td>\n",
       "      <td>0.000524</td>\n",
       "      <td>0.049495</td>\n",
       "      <td>0.135445</td>\n",
       "      <td>0.019039</td>\n",
       "    </tr>\n",
       "  </tbody>\n",
       "</table>\n",
       "</div>"
      ],
      "text/plain": [
       "                                  Flow Duration  Flow IAT Max  Flow IAT Mean  \\\n",
       "c_name                                                                         \n",
       "Amazon Echo                            0.025057      0.027310       0.019237   \n",
       "Android Phone                          0.045712      0.044124       0.046229   \n",
       "Belkin Wemo switch                     0.018121      0.022457       0.020888   \n",
       "Belkin wemo motion sensor              0.017571      0.013200       0.013201   \n",
       "Dropcam                                0.075238      0.048626       0.043006   \n",
       "HP Printer                             0.037637      0.052840       0.048135   \n",
       "Insteon Camera                         0.014977      0.014926       0.013501   \n",
       "Laptop                                 0.022977      0.030091       0.021638   \n",
       "Light Bulbs LiFX Smart Bulb            0.003884      0.004336       0.004403   \n",
       "MacBook                                0.010415      0.006352       0.008697   \n",
       "NEST Protect smoke alarm               0.089982      0.073588       0.070527   \n",
       "Netatmo Welcome                        0.035664      0.043433       0.024045   \n",
       "Netatmo weather station                0.038474      0.056783       0.084188   \n",
       "PIX-STAR Photo-frame                   0.015124      0.019369       0.013265   \n",
       "Samsung Galaxy Tab                     0.038602      0.039378       0.037730   \n",
       "Samsung SmartCam                       0.021887      0.019937       0.016491   \n",
       "Smart Things                           0.002197      0.002102       0.003511   \n",
       "TP-Link Day Night Cloud camera         0.038262      0.022593       0.022926   \n",
       "TP-Link Smart plug                     0.020719      0.023438       0.032773   \n",
       "Triby Speaker                          0.031258      0.035679       0.027074   \n",
       "Withings Aura smart sleep sensor       0.028188      0.034921       0.027359   \n",
       "Withings Smart Baby Monitor            0.034379      0.037743       0.043305   \n",
       "Withings Smart scale                   0.053795      0.043593       0.040938   \n",
       "iHome                                  0.030473      0.045157       0.038558   \n",
       "\n",
       "                                  Flow IAT Min  Max Packet Length  \\\n",
       "c_name                                                              \n",
       "Amazon Echo                           0.017046           0.018665   \n",
       "Android Phone                         0.042840           0.041711   \n",
       "Belkin Wemo switch                    0.010830           0.092648   \n",
       "Belkin wemo motion sensor             0.015718           0.098347   \n",
       "Dropcam                               0.030399           0.058361   \n",
       "HP Printer                            0.059175           0.035814   \n",
       "Insteon Camera                        0.017138           0.022827   \n",
       "Laptop                                0.011191           0.052492   \n",
       "Light Bulbs LiFX Smart Bulb           0.003794           0.004355   \n",
       "MacBook                               0.005311           0.008298   \n",
       "NEST Protect smoke alarm              0.053515           0.045583   \n",
       "Netatmo Welcome                       0.008468           0.033840   \n",
       "Netatmo weather station               0.023134           0.032762   \n",
       "PIX-STAR Photo-frame                  0.012777           0.013310   \n",
       "Samsung Galaxy Tab                    0.031730           0.049564   \n",
       "Samsung SmartCam                      0.012517           0.035305   \n",
       "Smart Things                          0.003717           0.003395   \n",
       "TP-Link Day Night Cloud camera        0.014022           0.033776   \n",
       "TP-Link Smart plug                    0.018750           0.039469   \n",
       "Triby Speaker                         0.024503           0.038295   \n",
       "Withings Aura smart sleep sensor      0.011634           0.026932   \n",
       "Withings Smart Baby Monitor           0.021498           0.026228   \n",
       "Withings Smart scale                  0.029864           0.023233   \n",
       "iHome                                 0.029674           0.060954   \n",
       "\n",
       "                                  Packet Length Mean  Packet Length Total  \\\n",
       "c_name                                                                      \n",
       "Amazon Echo                                 0.012802             0.023736   \n",
       "Android Phone                               0.043758             0.042119   \n",
       "Belkin Wemo switch                          0.109969             0.125304   \n",
       "Belkin wemo motion sensor                   0.064911             0.120646   \n",
       "Dropcam                                     0.046531             0.040391   \n",
       "HP Printer                                  0.042276             0.042890   \n",
       "Insteon Camera                              0.015943             0.029497   \n",
       "Laptop                                      0.048265             0.046957   \n",
       "Light Bulbs LiFX Smart Bulb                 0.004487             0.005747   \n",
       "MacBook                                     0.007290             0.007732   \n",
       "NEST Protect smoke alarm                    0.064877             0.022036   \n",
       "Netatmo Welcome                             0.032852             0.035022   \n",
       "Netatmo weather station                     0.042676             0.060017   \n",
       "PIX-STAR Photo-frame                        0.018940             0.014072   \n",
       "Samsung Galaxy Tab                          0.042509             0.051508   \n",
       "Samsung SmartCam                            0.037621             0.047801   \n",
       "Smart Things                                0.002548             0.003199   \n",
       "TP-Link Day Night Cloud camera              0.042014             0.051008   \n",
       "TP-Link Smart plug                          0.041281             0.035538   \n",
       "Triby Speaker                               0.030183             0.031936   \n",
       "Withings Aura smart sleep sensor            0.019577             0.017979   \n",
       "Withings Smart Baby Monitor                 0.024537             0.027842   \n",
       "Withings Smart scale                        0.055376             0.040052   \n",
       "iHome                                       0.070171             0.069746   \n",
       "\n",
       "                                   dstport    ip.len    ip.ttl   srcport  \\\n",
       "c_name                                                                     \n",
       "Amazon Echo                       0.074084  0.207489  0.139627  0.082112   \n",
       "Android Phone                     0.132792  0.120788  0.095389  0.148426   \n",
       "Belkin Wemo switch                0.109375  0.110122  0.008969  0.122614   \n",
       "Belkin wemo motion sensor         0.087788  0.083839  0.024094  0.195196   \n",
       "Dropcam                           0.057094  0.188075  0.083935  0.106228   \n",
       "HP Printer                        0.091708  0.049723  0.076614  0.186795   \n",
       "Insteon Camera                    0.098815  0.248757  0.076138  0.045764   \n",
       "Laptop                            0.088975  0.067205  0.194850  0.098118   \n",
       "Light Bulbs LiFX Smart Bulb       0.275347  0.117889  0.252258  0.135137   \n",
       "MacBook                           0.055984  0.056533  0.060858  0.086244   \n",
       "NEST Protect smoke alarm          0.082091  0.082336  0.145679  0.098962   \n",
       "Netatmo Welcome                   0.167240  0.089711  0.158423  0.107887   \n",
       "Netatmo weather station           0.122004  0.052896  0.113677  0.140905   \n",
       "PIX-STAR Photo-frame              0.095814  0.290704  0.050712  0.090491   \n",
       "Samsung Galaxy Tab                0.143215  0.117028  0.062744  0.100569   \n",
       "Samsung SmartCam                  0.077415  0.191172  0.040766  0.127492   \n",
       "Smart Things                      0.343712  0.073387  0.224709  0.212618   \n",
       "TP-Link Day Night Cloud camera    0.065842  0.235107  0.061469  0.065663   \n",
       "TP-Link Smart plug                0.180794  0.240243  0.034590  0.116324   \n",
       "Triby Speaker                     0.223095  0.145749  0.046601  0.148527   \n",
       "Withings Aura smart sleep sensor  0.093743  0.241012  0.080893  0.073694   \n",
       "Withings Smart Baby Monitor       0.092204  0.209236  0.075814  0.056331   \n",
       "Withings Smart scale              0.188419  0.094451  0.117091  0.203791   \n",
       "iHome                             0.109163  0.102145  0.130881  0.108571   \n",
       "\n",
       "                                  tcp.flags.rst  tcp.hdr_len  \\\n",
       "c_name                                                         \n",
       "Amazon Echo                            0.009047     0.049904   \n",
       "Android Phone                          0.003311     0.020614   \n",
       "Belkin Wemo switch                     0.001983     0.018211   \n",
       "Belkin wemo motion sensor              0.003932     0.041293   \n",
       "Dropcam                                0.000281     0.013296   \n",
       "HP Printer                             0.002026     0.012076   \n",
       "Insteon Camera                         0.109386     0.046439   \n",
       "Laptop                                 0.017285     0.129218   \n",
       "Light Bulbs LiFX Smart Bulb            0.001922     0.010465   \n",
       "MacBook                                0.007385     0.348343   \n",
       "NEST Protect smoke alarm               0.000066     0.026786   \n",
       "Netatmo Welcome                        0.006183     0.026895   \n",
       "Netatmo weather station                0.006198     0.117557   \n",
       "PIX-STAR Photo-frame                   0.001106     0.013058   \n",
       "Samsung Galaxy Tab                     0.003146     0.035252   \n",
       "Samsung SmartCam                       0.003416     0.023738   \n",
       "Smart Things                           0.004566     0.007489   \n",
       "TP-Link Day Night Cloud camera         0.001368     0.053310   \n",
       "TP-Link Smart plug                     0.000460     0.007833   \n",
       "Triby Speaker                          0.000125     0.064500   \n",
       "Withings Aura smart sleep sensor       0.001221     0.016519   \n",
       "Withings Smart Baby Monitor            0.001145     0.014858   \n",
       "Withings Smart scale                   0.000060     0.008444   \n",
       "iHome                                  0.000524     0.049495   \n",
       "\n",
       "                                  tcp.window_size_value  udp.length  \n",
       "c_name                                                               \n",
       "Amazon Echo                                    0.142995    0.150889  \n",
       "Android Phone                                  0.098158    0.074029  \n",
       "Belkin Wemo switch                             0.207913    0.020596  \n",
       "Belkin wemo motion sensor                      0.191854    0.028411  \n",
       "Dropcam                                        0.038989    0.169548  \n",
       "HP Printer                                     0.229024    0.033269  \n",
       "Insteon Camera                                 0.076698    0.169194  \n",
       "Laptop                                         0.129007    0.041733  \n",
       "Light Bulbs LiFX Smart Bulb                    0.018828    0.157149  \n",
       "MacBook                                        0.290032    0.040526  \n",
       "NEST Protect smoke alarm                       0.107495    0.036477  \n",
       "Netatmo Welcome                                0.170002    0.060335  \n",
       "Netatmo weather station                        0.092282    0.016446  \n",
       "PIX-STAR Photo-frame                           0.073406    0.277853  \n",
       "Samsung Galaxy Tab                             0.162930    0.084095  \n",
       "Samsung SmartCam                               0.199154    0.145288  \n",
       "Smart Things                                   0.018190    0.094661  \n",
       "TP-Link Day Night Cloud camera                 0.101947    0.190694  \n",
       "TP-Link Smart plug                             0.041365    0.166425  \n",
       "Triby Speaker                                  0.073553    0.078923  \n",
       "Withings Aura smart sleep sensor               0.138504    0.187825  \n",
       "Withings Smart Baby Monitor                    0.154123    0.180756  \n",
       "Withings Smart scale                           0.037640    0.063251  \n",
       "iHome                                          0.135445    0.019039  "
      ]
     },
     "execution_count": 89,
     "metadata": {},
     "output_type": "execute_result"
    }
   ],
   "source": [
    "W_df"
   ]
  },
  {
   "cell_type": "markdown",
   "id": "3fbdfef1-650e-4d72-af5e-7246fc6d8b5c",
   "metadata": {},
   "source": [
    "To compare the ILP function with a Heuristic, you should provide the output in string format."
   ]
  },
  {
   "cell_type": "code",
   "execution_count": 276,
   "id": "92fb7556-b0c6-4a99-ac62-a922492f19a9",
   "metadata": {},
   "outputs": [],
   "source": [
    "# ILP Solution\n",
    "classes_cluster_0 = ['Dropcam', 'HP Printer', 'PIX-STAR Photo-frame', 'TP-Link Day Night Cloud camera', 'TP-Link Smart plug']\n",
    "classes_cluster_1 = ['Amazon Echo', 'Belkin wemo motion sensor', 'Netatmo Welcome', 'Netatmo weather station', 'Samsung Galaxy Tab', 'Samsung SmartCam', 'Smart Things']\n",
    "feats_cluster_0 = ['dstport', 'ip.len', 'srcport', 'tcp.window_size_value', 'udp.length']\n",
    "feats_cluster_1 = ['dstport', 'ip.len', 'ip.ttl', 'srcport', 'tcp.window_size_value', 'udp.length']"
   ]
  },
  {
   "cell_type": "code",
   "execution_count": 283,
   "id": "515ccc85-0246-4412-aee7-65055553bfe8",
   "metadata": {},
   "outputs": [],
   "source": [
    "# Clustering Solution\n",
    "classes_cluster_0 = ['Dropcam']\n",
    "classes_cluster_1 = ['Samsung Galaxy Tab', 'Amazon Echo', 'Netatmo Welcome', 'Netatmo weather station', 'Smart Things', 'TP-Link Smart plug', 'PIX-STAR Photo-frame', 'Samsung SmartCam', 'HP Printer', 'TP-Link Day Night Cloud camera', 'Belkin wemo motion sensor']\n",
    "feats_cluster_0 = ['Max Packet Length', 'Packet Length Total', 'dstport', 'ip.len', 'srcport', 'tcp.window_size_value']\n",
    "feats_cluster_1 = ['ip.len', 'udp.length', 'dstport', 'srcport', 'tcp.window_size_value', 'ip.ttl', 'Packet Length Total', 'Max Packet Length', 'Flow IAT Mean', 'tcp.hdr_len']\n",
    "# # Check we have all features \n",
    "# assert len(set(feats_cluster_0 + feats_cluster_1)) == 11\n",
    "# # Check we have all classes\n",
    "# assert set(classes_cluster_0+classes_cluster_1) == set(test_classes_list)"
   ]
  },
  {
   "cell_type": "code",
   "execution_count": 284,
   "id": "cef17ed9-0986-4454-a155-97e294d6a0d4",
   "metadata": {},
   "outputs": [
    {
     "data": {
      "text/html": [
       "<div>\n",
       "<style scoped>\n",
       "    .dataframe tbody tr th:only-of-type {\n",
       "        vertical-align: middle;\n",
       "    }\n",
       "\n",
       "    .dataframe tbody tr th {\n",
       "        vertical-align: top;\n",
       "    }\n",
       "\n",
       "    .dataframe thead th {\n",
       "        text-align: right;\n",
       "    }\n",
       "</style>\n",
       "<table border=\"1\" class=\"dataframe\">\n",
       "  <thead>\n",
       "    <tr style=\"text-align: right;\">\n",
       "      <th></th>\n",
       "      <th>Cluster</th>\n",
       "      <th>Class List</th>\n",
       "      <th>Feature List</th>\n",
       "    </tr>\n",
       "  </thead>\n",
       "  <tbody>\n",
       "    <tr>\n",
       "      <th>0</th>\n",
       "      <td>0</td>\n",
       "      <td>[Dropcam]</td>\n",
       "      <td>[Max Packet Length, Packet Length Total, dstpo...</td>\n",
       "    </tr>\n",
       "    <tr>\n",
       "      <th>1</th>\n",
       "      <td>1</td>\n",
       "      <td>[Samsung Galaxy Tab, Amazon Echo, Netatmo Welc...</td>\n",
       "      <td>[ip.len, udp.length, dstport, srcport, tcp.win...</td>\n",
       "    </tr>\n",
       "  </tbody>\n",
       "</table>\n",
       "</div>"
      ],
      "text/plain": [
       "   Cluster                                         Class List  \\\n",
       "0        0                                          [Dropcam]   \n",
       "1        1  [Samsung Galaxy Tab, Amazon Echo, Netatmo Welc...   \n",
       "\n",
       "                                        Feature List  \n",
       "0  [Max Packet Length, Packet Length Total, dstpo...  \n",
       "1  [ip.len, udp.length, dstport, srcport, tcp.win...  "
      ]
     },
     "execution_count": 284,
     "metadata": {},
     "output_type": "execute_result"
    }
   ],
   "source": [
    "cluster_info = pd.DataFrame({'Cluster':[0,1], 'Class List': [classes_cluster_0, classes_cluster_1], 'Feature List': [feats_cluster_0,feats_cluster_1]})\n",
    "cluster_info"
   ]
  },
  {
   "cell_type": "code",
   "execution_count": 56,
   "id": "d1734e43-0b4e-43a2-8df2-007724bfd46a",
   "metadata": {},
   "outputs": [
    {
     "name": "stdout",
     "output_type": "stream",
     "text": [
      "b'/home/ddeandres/distributed_in_band/UNSW/cluster_model_analysis_results/correlation_analysis_v2'\n"
     ]
    }
   ],
   "source": [
    "print(directory)"
   ]
  },
  {
   "cell_type": "code",
   "execution_count": 75,
   "id": "97a7235f-279f-4e37-b86f-ad32c5651ed4",
   "metadata": {},
   "outputs": [
    {
     "data": {
      "text/plain": [
       "20"
      ]
     },
     "execution_count": 75,
     "metadata": {},
     "output_type": "execute_result"
    }
   ],
   "source": [
    "n_classes"
   ]
  },
  {
   "cell_type": "code",
   "execution_count": 52,
   "id": "6082b530",
   "metadata": {
    "ExecuteTime": {
     "end_time": "2024-05-20T12:23:44.850502Z",
     "start_time": "2024-05-20T12:23:44.846448Z"
    }
   },
   "outputs": [],
   "source": [
    "def encode_cluster_solution(cluster_info, costf='C4'):\n",
    "    pcfi_data_no_idx = W_df.reset_index()\n",
    "    pcfi_data_transpose_no_idx = W_df.transpose().reset_index()\n",
    "\n",
    "    \n",
    "    groups_cost = []\n",
    "    class_lists = []\n",
    "    feats_lists = []\n",
    "    for cluster_idx,cluster in cluster_info.iterrows():\n",
    "        cluster_class_list = cluster_info.loc[cluster_idx][\"Class List\"]\n",
    "        cluster_features_list = cluster_info.loc[cluster_idx][\"Feature List\"]\n",
    "        # cluster_class_list = ast.literal_eval(cluster_info.loc[cluster_idx][\"Class List\"])\n",
    "        # cluster_features_list = ast.literal_eval(cluster_info.loc[cluster_idx][\"Feature List\"])\n",
    "        cluster_W = W_df.loc[cluster_class_list][cluster_features_list].values\n",
    "        if 'C4' in costf:\n",
    "            cost = n_classes - (np.sum(cluster_W) - feature_cost*len(cluster_features_list)*len(cluster_class_list))\n",
    "        elif 'C6' == costf:\n",
    "            cost = n_classes - (np.sum(cluster_W)/len(cluster_features_list))\n",
    "        elif 'max Theta' == costf:\n",
    "            cost = (np.sum(cluster_W) - feature_cost*len(cluster_features_list)*len(cluster_class_list))\n",
    "        else:\n",
    "            raise ValueError(\"Unexpected value for parameter costf. Valid values are: {'C4', 'C4 (no F1), 'C6'}\")\n",
    "        \n",
    "        # Class list binary encoding\n",
    "        cluster_class_idx = pcfi_data_no_idx.loc[pcfi_data_no_idx[\"c_name\"].isin(cluster_class_list)].index.values\n",
    "        cluster_class_encoding = np.sum([onehot(idx+1, n_classes) for idx in cluster_class_idx], axis=0)\n",
    "        class_lists.append(cluster_class_encoding)\n",
    "\n",
    "        if 'C4' == costf:\n",
    "            # Consider the PTP F1 score in the cost\n",
    "            f_scores = np.array(list(itertools.compress(F, cluster_class_encoding)))\n",
    "            if (sum(cluster_class_encoding) <= 1):\n",
    "                f_score_cost = np.max(f_scores)\n",
    "            else:\n",
    "                f_score_cost = np.ptp(f_scores)\n",
    "            cost = cost*f_score_cost\n",
    "        groups_cost.append(cost)\n",
    "        \n",
    "        # Features list binary encoding\n",
    "        cluster_feats_idx = pcfi_data_transpose_no_idx.loc[pcfi_data_transpose_no_idx[\"index\"].isin(cluster_features_list)].index.values\n",
    "        cluster_feats_encoding = np.sum([onehot(idx+1, n_features) for idx in cluster_feats_idx], axis=0)\n",
    "        feats_lists.append(cluster_feats_encoding)\n",
    "    \n",
    "    return groups_cost, class_lists, feats_lists"
   ]
  },
  {
   "cell_type": "code",
   "execution_count": 236,
   "id": "03c3467b",
   "metadata": {
    "ExecuteTime": {
     "end_time": "2024-05-20T12:44:31.684332Z",
     "start_time": "2024-05-20T12:44:31.671456Z"
    },
    "scrolled": true
   },
   "outputs": [
    {
     "name": "stdout",
     "output_type": "stream",
     "text": [
      "Groups: \t\t\t Cost: \t\t\t Feats: \t\n",
      "[0 0 0 0 0 1 0 0 1 0 0 0 0 0 0 0 0 0 0 0 0 0 0 0] 23.823435062199007 [0 1 0 0 1 0 0 0 1 0 1 1 0 0 0]\n",
      "[0 0 0 1 0 0 0 0 0 1 1 0 1 0 1 1 1 1 1 1 1 1 0 0] 25.369665445655446 [1 1 0 0 1 0 0 0 0 0 0 1 1 1 1]\n",
      "[0 0 0 0 0 0 1 0 0 0 0 0 0 1 0 0 0 0 0 0 0 0 0 0] 23.688861567265366 [0 1 0 0 0 0 1 0 0 1 1 1 0 1 0]\n",
      "[1 1 1 0 0 0 0 0 0 0 0 1 0 0 0 0 0 0 0 0 0 0 0 0] 23.82212152255851 [0 0 1 0 0 0 1 0 0 0 0 1 1 1 1]\n",
      "Total Cost: 96.70408359767833\n"
     ]
    }
   ],
   "source": [
    "sol_costs, sol_groups, sol_feats = encode_cluster_solution(cluster_info.loc[0:])\n",
    "print(\"Groups: \\t\\t\\t\", \"Cost: \\t\\t\\t\", \"Feats: \\t\")\n",
    "for group, cost, group_feats in zip(sol_groups,sol_costs, sol_feats):\n",
    "    print(group, cost, group_feats)\n",
    "print(f\"Total Cost: {sum(sol_costs)}\")"
   ]
  },
  {
   "cell_type": "markdown",
   "id": "1b309405-fc31-4bfa-b00d-6bb3defe6132",
   "metadata": {},
   "source": [
    "# Compare against random"
   ]
  },
  {
   "cell_type": "code",
   "execution_count": 265,
   "id": "00fc0e99-fde0-43d6-b86d-1c2c0823dd3b",
   "metadata": {},
   "outputs": [
    {
     "data": {
      "text/plain": [
       "array([0, 1, 0, 0, 1, 1, 0, 1, 0, 1, 1, 0, 0, 0, 1])"
      ]
     },
     "execution_count": 265,
     "metadata": {},
     "output_type": "execute_result"
    }
   ],
   "source": [
    "np.random.randint(2, size=n_features)"
   ]
  },
  {
   "cell_type": "code",
   "execution_count": 36,
   "id": "3a6f6118-ca37-4e36-a738-fbc37dfc16dc",
   "metadata": {},
   "outputs": [],
   "source": [
    "from random import choice, shuffle, sample, randint\n",
    "\n",
    "def encode_int_encoded_partition(partition, n_classes):\n",
    "    return np.sum([onehot(x, n_classes) for x in partition], axis=0)\n",
    "\n",
    "def pick_random_partition(lst):\n",
    "    # select n at random\n",
    "    n = randint(2, len(lst)-1)\n",
    "    \n",
    "    # Shuffle the list\n",
    "    shuffle(lst)\n",
    "\n",
    "    # Initialize the output lists\n",
    "    partitions = []\n",
    "\n",
    "    # Generate random lengths for the partitions\n",
    "    lengths = sorted(sample(range(0, len(lst)), n - 1))\n",
    "    lengths.append(len(lst))\n",
    "\n",
    "    # Use the lengths to slice the list and create the partitions\n",
    "    start = 0\n",
    "    for end in lengths:\n",
    "        partitions.append(lst[start:end])\n",
    "        start = end\n",
    "    \n",
    "    return np.stack([encode_int_encoded_partition(partition, len(lst)) for partition in partitions if len(partition)>0], axis=0)\n",
    "\n",
    "def pick_random_features(n_features, n_partitions):\n",
    "    return np.stack([np.random.randint(2, size=n_features) for i in range(n_partitions)])\n",
    "\n",
    "\n",
    "def generate_random_spp_solution(n_classes, n_features=15):\n",
    "    random_partition = pick_random_partition(list(np.arange(1, n_classes+1)))\n",
    "    # random_feats = pick_random_features(n_features, len(random_partition))\n",
    "    W_curr = W_df.sort_values(by='c_name').values[:n_classes,:n_features]\n",
    "    # select features optimally for the given random partition\n",
    "    random_feats = [compute_group_cost_c4(s_j,W_curr)[1] for s_j in random_partition]\n",
    "    part_labels = [[c for mask, c in zip(part,classes_list[:n_classes]) if mask==1] for part in random_partition]\n",
    "    # print(part_labels)\n",
    "    feats_labels = [[c for mask, c in zip(sel,features_list) if mask==1] for sel in random_feats]\n",
    "    return pd.DataFrame({'Cluster':list(range(len(random_partition))), 'Class List': part_labels, 'Feature List': feats_labels})"
   ]
  },
  {
   "cell_type": "code",
   "execution_count": 326,
   "id": "43c28ab4-5f04-4cab-b6f5-05429239124c",
   "metadata": {},
   "outputs": [
    {
     "name": "stdout",
     "output_type": "stream",
     "text": [
      "The cost of the random partition: 60.317522638697966\n"
     ]
    }
   ],
   "source": [
    "cluster_info = generate_random_spp_solution(14)\n",
    "sol_costs, sol_groups, sol_feats = encode_cluster_solution(cluster_info.loc[0:])\n",
    "print(\"The cost of the random partition:\", sum(sol_costs), end='\\n')"
   ]
  },
  {
   "cell_type": "code",
   "execution_count": 335,
   "id": "5a44aa22-f4bd-4152-b8f5-3a1213991ee0",
   "metadata": {},
   "outputs": [
    {
     "name": "stdout",
     "output_type": "stream",
     "text": [
      "0                                    [Netatmo Welcome]\n",
      "1                                             [Laptop]\n",
      "2                            [Dropcam, Insteon Camera]\n",
      "3    [Amazon Echo, Light Bulbs LiFX Smart Bulb, NES...\n",
      "4                                      [Android Phone]\n",
      "5      [Belkin Wemo switch, Belkin wemo motion sensor]\n",
      "6                                         [HP Printer]\n",
      "7                                            [MacBook]\n",
      "Name: Class List, dtype: object\n"
     ]
    }
   ],
   "source": [
    "print(generate_random_spp_solution(13)['Class List'])"
   ]
  },
  {
   "cell_type": "code",
   "execution_count": 350,
   "id": "2e8e6d00-2fd8-47bc-9780-a7024c1381ff",
   "metadata": {},
   "outputs": [
    {
     "data": {
      "text/plain": [
       "['Amazon Echo',\n",
       " 'Android Phone',\n",
       " 'Belkin Wemo switch',\n",
       " 'Belkin wemo motion sensor',\n",
       " 'Dropcam',\n",
       " 'HP Printer',\n",
       " 'Insteon Camera',\n",
       " 'Laptop',\n",
       " 'Light Bulbs LiFX Smart Bulb',\n",
       " 'MacBook',\n",
       " 'NEST Protect smoke alarm',\n",
       " 'Netatmo Welcome',\n",
       " 'Netatmo weather station',\n",
       " 'PIX-STAR Photo-frame',\n",
       " 'Samsung Galaxy Tab',\n",
       " 'Samsung SmartCam',\n",
       " 'Smart Things',\n",
       " 'TP-Link Day Night Cloud camera',\n",
       " 'TP-Link Smart plug',\n",
       " 'Triby Speaker']"
      ]
     },
     "execution_count": 350,
     "metadata": {},
     "output_type": "execute_result"
    }
   ],
   "source": [
    "sorted(list(itertools.chain.from_iterable(generate_random_spp_solution(20)['Class List'])))"
   ]
  },
  {
   "cell_type": "markdown",
   "id": "e7dc4ee7-dc52-4405-8fa9-1d45736b0630",
   "metadata": {},
   "source": [
    "#### Correlation Experiment"
   ]
  },
  {
   "cell_type": "code",
   "execution_count": 103,
   "id": "8b1d958b-a4e4-4e81-9bec-725f14629f92",
   "metadata": {},
   "outputs": [],
   "source": [
    "experiment_folder_path = '/home/ddeandres/distributed_in_band/UNSW/cluster_model_analysis_results/correlation_analysis_v2'\n",
    "n_classes_for_correlation = 20\n",
    "for i in range(21,41):\n",
    "    file_name = f'{n_classes_for_correlation}CL_{i}_SPP_solution.csv'\n",
    "    generate_random_spp_solution(n_classes_for_correlation).to_csv(f'{experiment_folder_path}/{file_name}')"
   ]
  },
  {
   "cell_type": "markdown",
   "id": "7a492453-bdc6-464e-8c88-54fb82e6cc4c",
   "metadata": {},
   "source": [
    "### Evaluate Performance vs Random"
   ]
  },
  {
   "cell_type": "code",
   "execution_count": 31,
   "id": "7db5bc78-51c5-4c2c-8b7d-05f3657aa8da",
   "metadata": {},
   "outputs": [
    {
     "data": {
      "text/html": [
       "<div>\n",
       "<style scoped>\n",
       "    .dataframe tbody tr th:only-of-type {\n",
       "        vertical-align: middle;\n",
       "    }\n",
       "\n",
       "    .dataframe tbody tr th {\n",
       "        vertical-align: top;\n",
       "    }\n",
       "\n",
       "    .dataframe thead th {\n",
       "        text-align: right;\n",
       "    }\n",
       "</style>\n",
       "<table border=\"1\" class=\"dataframe\">\n",
       "  <thead>\n",
       "    <tr style=\"text-align: right;\">\n",
       "      <th></th>\n",
       "      <th>Cluster</th>\n",
       "      <th>Class List</th>\n",
       "      <th>Feature List</th>\n",
       "    </tr>\n",
       "  </thead>\n",
       "  <tbody>\n",
       "    <tr>\n",
       "      <th>0</th>\n",
       "      <td>0</td>\n",
       "      <td>[Amazon Echo, Belkin Wemo switch, Dropcam]</td>\n",
       "      <td>[Flow IAT Mean, Flow IAT Min, Max Packet Lengt...</td>\n",
       "    </tr>\n",
       "    <tr>\n",
       "      <th>1</th>\n",
       "      <td>1</td>\n",
       "      <td>[Android Phone]</td>\n",
       "      <td>[Flow Duration, Flow IAT Max, Flow IAT Min, Ma...</td>\n",
       "    </tr>\n",
       "    <tr>\n",
       "      <th>2</th>\n",
       "      <td>2</td>\n",
       "      <td>[HP Printer]</td>\n",
       "      <td>[Flow IAT Mean, Flow IAT Min, Max Packet Lengt...</td>\n",
       "    </tr>\n",
       "    <tr>\n",
       "      <th>3</th>\n",
       "      <td>3</td>\n",
       "      <td>[Belkin wemo motion sensor, Insteon Camera, La...</td>\n",
       "      <td>[Packet Length Mean, Packet Length Total, dstp...</td>\n",
       "    </tr>\n",
       "  </tbody>\n",
       "</table>\n",
       "</div>"
      ],
      "text/plain": [
       "   Cluster                                         Class List  \\\n",
       "0        0         [Amazon Echo, Belkin Wemo switch, Dropcam]   \n",
       "1        1                                    [Android Phone]   \n",
       "2        2                                       [HP Printer]   \n",
       "3        3  [Belkin wemo motion sensor, Insteon Camera, La...   \n",
       "\n",
       "                                        Feature List  \n",
       "0  [Flow IAT Mean, Flow IAT Min, Max Packet Lengt...  \n",
       "1  [Flow Duration, Flow IAT Max, Flow IAT Min, Ma...  \n",
       "2  [Flow IAT Mean, Flow IAT Min, Max Packet Lengt...  \n",
       "3  [Packet Length Mean, Packet Length Total, dstp...  "
      ]
     },
     "execution_count": 31,
     "metadata": {},
     "output_type": "execute_result"
    }
   ],
   "source": [
    "cluster_info"
   ]
  },
  {
   "cell_type": "code",
   "execution_count": 32,
   "id": "95e3e65b-62eb-4979-8f04-34ab99afbba7",
   "metadata": {},
   "outputs": [
    {
     "data": {
      "text/plain": [
       "([778.8606313632856, 1210.6295107632186, 2259.372064035037, 768.6812193176406],\n",
       " [array([1, 0, 1, 0, 0, 1, 0, 0, 0, 0, 0, 0, 0, 0, 0, 0, 0, 0, 0, 0, 0, 0,\n",
       "         0, 0]),\n",
       "  array([0, 1, 0, 0, 0, 0, 0, 0, 0, 0, 0, 0, 0, 0, 0, 0, 0, 0, 0, 0, 0, 0,\n",
       "         0, 0]),\n",
       "  array([0, 0, 0, 0, 0, 0, 1, 0, 0, 0, 0, 0, 0, 0, 0, 0, 0, 0, 0, 0, 0, 0,\n",
       "         0, 0]),\n",
       "  array([0, 0, 0, 1, 0, 0, 0, 0, 1, 1, 1, 1, 0, 0, 0, 0, 0, 0, 0, 0, 0, 0,\n",
       "         0, 0])],\n",
       " [array([0, 0, 1, 1, 1, 1, 0, 0, 1, 0, 1, 1, 0, 0, 0]),\n",
       "  array([1, 1, 0, 1, 1, 0, 0, 1, 1, 1, 0, 1, 1, 0, 1]),\n",
       "  array([0, 0, 1, 1, 1, 1, 0, 0, 0, 0, 0, 0, 0, 0, 0]),\n",
       "  array([0, 0, 0, 0, 0, 1, 1, 1, 1, 1, 0, 1, 1, 1, 0])])"
      ]
     },
     "execution_count": 32,
     "metadata": {},
     "output_type": "execute_result"
    }
   ],
   "source": [
    "encode_cluster_solution(cluster_info.loc[0:])"
   ]
  },
  {
   "cell_type": "code",
   "execution_count": 33,
   "id": "edf18b20-cf33-4c36-9748-5d3d39ab89aa",
   "metadata": {},
   "outputs": [
    {
     "data": {
      "application/vnd.jupyter.widget-view+json": {
       "model_id": "c9e97e8f7bb04bd1bca2f098c175b6ae",
       "version_major": 2,
       "version_minor": 0
      },
      "text/plain": [
       "  0%|          | 0/19 [00:00<?, ?it/s]"
      ]
     },
     "metadata": {},
     "output_type": "display_data"
    }
   ],
   "source": [
    "i_start = 3\n",
    "i_end = 22\n",
    "samples_per_size = 10\n",
    "scores = np.zeros((samples_per_size, i_end-i_start))\n",
    "# ILP_scores = np.zeros(i_end-i_start)\n",
    "# ILP_exec_times = np.zeros(i_end-i_start)\n",
    "\n",
    "for idx,i in tqdm(enumerate(range(i_start,i_end)),total=i_end-i_start):\n",
    "    # start = time.time()\n",
    "    # ILP_scores[idx] = solve_SPP_with_ILP(i)\n",
    "    # end = time.time()\n",
    "    # ILP_exec_times[idx] = (end - start)\n",
    "    for j in range(samples_per_size):\n",
    "        cluster_info = generate_random_spp_solution(i)\n",
    "        # if i==19:\n",
    "        #     print(cluster_info)\n",
    "        #     # raise Exception\n",
    "        sol_costs, sol_groups, sol_feats = encode_cluster_solution(cluster_info.loc[0:])\n",
    "        scores[j][idx] = sum(sol_costs)\n",
    "    "
   ]
  },
  {
   "cell_type": "code",
   "execution_count": 34,
   "id": "db110525-a840-4fb2-8c01-56b9e4a105bf",
   "metadata": {},
   "outputs": [
    {
     "name": "stdout",
     "output_type": "stream",
     "text": [
      "File /home/ddeandres/spp_features_and_classes/performance_evaluation.npy is present. Not overwriting...\n"
     ]
    }
   ],
   "source": [
    "saved_file = '/home/ddeandres/spp_features_and_classes/performance_evaluation.npy'\n",
    "if os.path.isfile(saved_file):\n",
    "    print(f\"File {saved_file} is present. Not overwriting...\")\n",
    "    with open(saved_file, 'rb') as f:\n",
    "        ILP_scores = np.load(f)\n",
    "        ILP_exec_times = np.load(f)\n",
    "else:\n",
    "    print(f\"Saving file {saved_file}\")\n",
    "    with open(saved_file, 'wb') as f:\n",
    "        np.save(f, ILP_scores)\n",
    "        np.save(f, ILP_exec_times)"
   ]
  },
  {
   "cell_type": "code",
   "execution_count": 35,
   "id": "b89b3fcd-3935-4037-aca7-a965d2ddfc51",
   "metadata": {},
   "outputs": [
    {
     "data": {
      "text/plain": [
       "array([156.1651007 , 134.71592581, 174.5000145 , 209.69156431,\n",
       "       261.06465491, 298.44723335, 323.19835364, 362.55678871,\n",
       "       433.81912645, 482.74380154, 623.22535561, 637.88306099,\n",
       "       649.13406789, 621.40382767, 656.08700479, 714.24478593,\n",
       "       755.97864259, 857.46557888, 847.55815671])"
      ]
     },
     "execution_count": 35,
     "metadata": {},
     "output_type": "execute_result"
    }
   ],
   "source": [
    "ILP_scores"
   ]
  },
  {
   "cell_type": "markdown",
   "id": "87f91b36-42b3-4a1d-84e1-2a1260759edd",
   "metadata": {},
   "source": [
    "#### Compute Objective Value from Heuristic"
   ]
  },
  {
   "cell_type": "code",
   "execution_count": 38,
   "id": "9a0c3951",
   "metadata": {
    "ExecuteTime": {
     "end_time": "2024-05-20T08:45:15.362300Z",
     "start_time": "2024-05-20T08:45:15.352679Z"
    }
   },
   "outputs": [],
   "source": [
    "# # Read cluster solution from CSV file.\n",
    "import os\n",
    "from ast import literal_eval\n",
    "directory_in_str = '/home/ddeandres/spp_features_and_classes/heuristic_results'\n",
    "directory = os.fsencode(directory_in_str)\n",
    "\n",
    "def literal_converter(val):\n",
    "    # replace first val with '' or some other null identifier if required\n",
    "    return val if val == '' else literal_eval(val)\n",
    "\n",
    "heuristic_costs = []\n",
    "for file in os.listdir(directory):\n",
    "    cluster_info = pd.read_csv(f'{directory_in_str}/{file.decode(\"utf-8\")}', converters=dict.fromkeys(['Class List','Feature List'], literal_converter))\n",
    "    cluster_info = cluster_info.reset_index(drop=True).drop(columns=['Unnamed: 0']).set_index('Cluster')\n",
    "    # print(cluster_info.loc[0]['Class List'])\n",
    "    # break\n",
    "    sol_costs, sol_groups, sol_feats = encode_cluster_solution(cluster_info.loc[0:])\n",
    "    heuristic_costs.append(sum(sol_costs))"
   ]
  },
  {
   "cell_type": "code",
   "execution_count": 55,
   "id": "78df8527-2ab0-4cd3-a981-ac742110b654",
   "metadata": {},
   "outputs": [
    {
     "data": {
      "text/plain": [
       "19"
      ]
     },
     "execution_count": 55,
     "metadata": {},
     "output_type": "execute_result"
    }
   ],
   "source": [
    "len(os.listdir(directory))"
   ]
  },
  {
   "cell_type": "markdown",
   "id": "3fe0d4b9-c71d-426b-b15e-0d89e45be005",
   "metadata": {},
   "source": [
    "#### Plot Results"
   ]
  },
  {
   "cell_type": "code",
   "execution_count": 44,
   "id": "aa8f2a65-a8c3-49c3-a372-6a577f1e4c6c",
   "metadata": {},
   "outputs": [
    {
     "data": {
      "image/png": "[encoded data removed]",
      "text/plain": [
       "<Figure size 640x480 with 1 Axes>"
      ]
     },
     "metadata": {},
     "output_type": "display_data"
    }
   ],
   "source": [
    "fig, ax = plt.subplots()\n",
    "ax.set_xlabel(\"n_classes\")\n",
    "ax.set_ylabel(\"Objective value\")\n",
    "ax.boxplot(scores, labels=range(i_start,i_end))\n",
    "ticks = ax.get_xticks()\n",
    "ax.plot(ticks,ILP_scores, label='Optimal',)\n",
    "\n",
    "ax.plot(ticks,np.median(scores, axis=0), label='random solution (median)')\n",
    "ax.plot(ticks, heuristic_costs, label='Heuristic')\n",
    "ax.legend()\n",
    "fig.savefig('/home/ddeandres/spp_features_and_classes/performance_algorithms.pdf')"
   ]
  },
  {
   "cell_type": "markdown",
   "id": "bd4f4275-931f-4afd-815c-433293f28df4",
   "metadata": {},
   "source": [
    "We can still improve the Heuristic by using the objective value to select the number of clusters.\n",
    "iif the objective value and F1 score are correlated.\n",
    "The Heuristic will still be much, much more efficient, time-wise then."
   ]
  },
  {
   "cell_type": "markdown",
   "id": "ac6ea1e2-41b6-400e-b6fc-d8f0472ea749",
   "metadata": {},
   "source": [
    "We have seen already that the clusters and features are quite similar. For the ToN-IOT and UNSW(10). So maybe the only problem is the # of clusters."
   ]
  },
  {
   "cell_type": "code",
   "execution_count": 497,
   "id": "818ad99a-40f8-4e62-9f5e-4e1772d71df9",
   "metadata": {},
   "outputs": [
    {
     "data": {
      "image/png": "[encoded data removed]",
      "text/plain": [
       "<Figure size 640x480 with 1 Axes>"
      ]
     },
     "metadata": {},
     "output_type": "display_data"
    }
   ],
   "source": [
    "fig, ax = plt.subplots()\n",
    "ax.set_xlabel(\"n_classes\")\n",
    "ax.set_ylabel(\"Exec. Time [s]\")\n",
    "ax.set_xticks(np.arange(i_start,i_end))\n",
    "ax.plot(np.arange(i_start,i_end),ILP_exec_times)\n",
    "fig.show()\n",
    "# fig.savefig('/home/ddeandres/spp_features_and_classes/performance_algorithms.pdf')"
   ]
  },
  {
   "cell_type": "code",
   "execution_count": 2,
   "id": "1a4bf65c-3cef-45bc-b74b-e122956d2790",
   "metadata": {},
   "outputs": [],
   "source": [
    "import re\n",
    "import os\n",
    "import pandas as pd"
   ]
  },
  {
   "cell_type": "markdown",
   "id": "b48ee7c2-0e12-45f0-9208-ffb61d8ba902",
   "metadata": {},
   "source": [
    "### F1-analysis evaluation"
   ]
  },
  {
   "cell_type": "code",
   "id": "ec6265e2-07bf-48de-857c-db8155278cdd",
   "metadata": {
    "ExecuteTime": {
     "end_time": "2024-07-16T15:43:08.096646Z",
     "start_time": "2024-07-16T15:43:07.917406Z"
    }
   },
   "source": [
    "random_experiment_c4_costs = {}\n",
    "random_experiment_c6_costs = {}\n",
    "random_experiment_c4_noF1_costs = {}\n",
    "random_experiment_max_theta_costs = {}\n",
    "directory_in_str = '/home/ddeandres/distributed_in_band/UNSW/cluster_model_analysis_results/correlation_analysis_v2'\n",
    "directory = os.fsencode(directory_in_str)\n",
    "pattern = re.compile('[0-9]+')\n",
    "\n",
    "for file in os.listdir(directory):\n",
    "    file_string = file.decode(\"utf-8\")\n",
    "    solution_file_path = os.path.join(directory_in_str, file_string)\n",
    "    if os.path.isdir(solution_file_path) or 'csv' not in file_string:\n",
    "        # skip directories and must be csv file\n",
    "        continue\n",
    "    exp_id = int(pattern.findall(file_string)[1])\n",
    "    \n",
    "    cluster_info = pd.read_csv(f'{directory_in_str}/{file.decode(\"utf-8\")}', converters=dict.fromkeys(['Class List','Feature List'], literal_converter))\n",
    "    cluster_info = cluster_info.reset_index(drop=True).drop(columns=['Unnamed: 0']).set_index('Cluster')\n",
    "    \n",
    "    sol_costs, sol_groups, sol_feats = encode_cluster_solution(cluster_info.loc[0:], costf='C4')\n",
    "    random_experiment_c4_costs[exp_id]= sum(sol_costs)\n",
    "    sol_costs, sol_groups, sol_feats = encode_cluster_solution(cluster_info.loc[0:], costf='C4 (no F1)')\n",
    "    random_experiment_c4_noF1_costs[exp_id] = sum(sol_costs)\n",
    "    sol_costs, sol_groups, sol_feats = encode_cluster_solution(cluster_info.loc[0:], costf='C6')\n",
    "    random_experiment_c6_costs[exp_id] = sum(sol_costs)\n",
    "    sol_costs, sol_groups, sol_feats = encode_cluster_solution(cluster_info.loc[0:], costf='max Theta')\n",
    "    random_experiment_max_theta_costs[exp_id]= sum(sol_costs)"
   ],
   "outputs": [
    {
     "ename": "NameError",
     "evalue": "name 'os' is not defined",
     "output_type": "error",
     "traceback": [
      "\u001B[0;31m---------------------------------------------------------------------------\u001B[0m",
      "\u001B[0;31mNameError\u001B[0m                                 Traceback (most recent call last)",
      "Cell \u001B[0;32mIn[1], line 6\u001B[0m\n\u001B[1;32m      4\u001B[0m random_experiment_max_theta_costs \u001B[38;5;241m=\u001B[39m {}\n\u001B[1;32m      5\u001B[0m directory_in_str \u001B[38;5;241m=\u001B[39m \u001B[38;5;124m'\u001B[39m\u001B[38;5;124m/home/ddeandres/distributed_in_band/UNSW/cluster_model_analysis_results/correlation_analysis_v2\u001B[39m\u001B[38;5;124m'\u001B[39m\n\u001B[0;32m----> 6\u001B[0m directory \u001B[38;5;241m=\u001B[39m \u001B[43mos\u001B[49m\u001B[38;5;241m.\u001B[39mfsencode(directory_in_str)\n\u001B[1;32m      7\u001B[0m pattern \u001B[38;5;241m=\u001B[39m re\u001B[38;5;241m.\u001B[39mcompile(\u001B[38;5;124m'\u001B[39m\u001B[38;5;124m[0-9]+\u001B[39m\u001B[38;5;124m'\u001B[39m)\n\u001B[1;32m      9\u001B[0m \u001B[38;5;28;01mfor\u001B[39;00m file \u001B[38;5;129;01min\u001B[39;00m os\u001B[38;5;241m.\u001B[39mlistdir(directory):\n",
      "\u001B[0;31mNameError\u001B[0m: name 'os' is not defined"
     ]
    }
   ],
   "execution_count": 1
  },
  {
   "cell_type": "code",
   "execution_count": 40,
   "id": "2118b970-b529-4c30-a7d5-710d1693d337",
   "metadata": {},
   "outputs": [
    {
     "data": {
      "text/plain": [
       "{10: 15700.722756021123,\n",
       " 20: 2103.854647613981,\n",
       " 35: 6934.2716856329225,\n",
       " 23: 16896.4900124159,\n",
       " 16: 3071.4436495565506,\n",
       " 36: 13916.943185598397,\n",
       " 8: 11964.573671845967,\n",
       " 22: 10419.834856810421,\n",
       " 3: 7331.837726894942,\n",
       " 40: 12180.308740475552,\n",
       " 34: 16900.512671405177,\n",
       " 18: 6256.737276234699,\n",
       " 2: 8212.363890881383,\n",
       " 1: 27826.34346697472,\n",
       " 28: 9152.130958240492,\n",
       " 21: 26000.697844978957,\n",
       " 12: 15310.57529193383,\n",
       " 26: 12776.61195577002,\n",
       " 31: 17390.023056350532,\n",
       " 24: 16500.363941925076,\n",
       " 13: 3656.5236598147067,\n",
       " 30: 4350.537484181709,\n",
       " 15: 6986.868036127207,\n",
       " 33: 3372.391873883337,\n",
       " 25: 17232.615647605548,\n",
       " 9: 4825.718141752088,\n",
       " 29: 2277.4882768207262,\n",
       " 32: 14791.921437769264,\n",
       " 14: 24126.70721115115,\n",
       " 39: 7697.664424223108,\n",
       " 11: 28733.016660936602,\n",
       " 17: 15900.629377428582,\n",
       " 7: 4578.319571517824,\n",
       " 38: 22210.028190989335,\n",
       " 6: 2221.532463986455,\n",
       " 37: 22723.072856477746,\n",
       " 4: 5848.822428593316,\n",
       " 27: 11534.989740696732,\n",
       " 5: 24633.20931003424,\n",
       " 19: 26435.381240329993}"
      ]
     },
     "execution_count": 40,
     "metadata": {},
     "output_type": "execute_result"
    }
   ],
   "source": [
    "random_experiment_c4_costs"
   ]
  },
  {
   "cell_type": "code",
   "execution_count": 54,
   "id": "4ff416de-25b6-4343-a4fe-7226884d4104",
   "metadata": {},
   "outputs": [],
   "source": [
    "random_experiments_df = pd.read_csv('/home/ddeandres/spp_features_and_classes/correlation_experiment_F1_results_v2.csv',delimiter=';')\n",
    "random_experiments_df['cost_c4'] = random_experiments_df['exp_id'].apply(lambda x: random_experiment_c4_costs[x])\n",
    "random_experiments_df['cost_c4_no_F1'] = random_experiments_df['exp_id'].apply(lambda x: random_experiment_c4_noF1_costs[x])\n",
    "random_experiments_df['cost_c6'] = random_experiments_df['exp_id'].apply(lambda x: random_experiment_c6_costs[x])\n",
    "random_experiments_df['cost_max_Theta'] = random_experiments_df['exp_id'].apply(lambda x: random_experiment_max_theta_costs[x])\n",
    "random_experiments_df = random_experiments_df.set_index('exp_id', drop=True)\n",
    "random_experiments_df = random_experiments_df.assign(n_features_dist=np.nan)\n",
    "random_experiments_df = random_experiments_df.astype(dtype={\"n_features_dist\": \"object\"})\n",
    "random_experiments_df = random_experiments_df.assign(n_classes_dist=np.nan)\n",
    "random_experiments_df = random_experiments_df.astype(dtype={\"n_classes_dist\": \"object\"})\n",
    "for exp_id in list(random_experiments_df.index.values):\n",
    "    file_path = f'/home/ddeandres/distributed_in_band/UNSW/cluster_model_analysis_results/correlation_analysis_v2/20CL_{exp_id}_SPP_solution.csv'\n",
    "    cluster_info_df = pd.read_csv(file_path, converters=dict.fromkeys(['Class List','Feature List'], literal_converter))\n",
    "    cluster_info_df['n_features'] = cluster_info_df['Feature List'].str.len()\n",
    "    cluster_info_df['n_classes'] = cluster_info_df['Class List'].str.len()\n",
    "    random_experiments_df.at[exp_id, 'n_features_dist'] = cluster_info_df['n_features'].to_list()\n",
    "    random_experiments_df.at[exp_id, 'n_classes_dist'] = cluster_info_df['n_classes'].to_list()"
   ]
  },
  {
   "cell_type": "code",
   "execution_count": 55,
   "id": "8e5317c1-cdde-4c36-b2c4-6cfa60bf1e03",
   "metadata": {},
   "outputs": [
    {
     "data": {
      "text/html": [
       "<div>\n",
       "<style scoped>\n",
       "    .dataframe tbody tr th:only-of-type {\n",
       "        vertical-align: middle;\n",
       "    }\n",
       "\n",
       "    .dataframe tbody tr th {\n",
       "        vertical-align: top;\n",
       "    }\n",
       "\n",
       "    .dataframe thead th {\n",
       "        text-align: right;\n",
       "    }\n",
       "</style>\n",
       "<table border=\"1\" class=\"dataframe\">\n",
       "  <thead>\n",
       "    <tr style=\"text-align: right;\">\n",
       "      <th></th>\n",
       "      <th>F1_macro</th>\n",
       "      <th>F1_weighted</th>\n",
       "      <th>cost_c4</th>\n",
       "      <th>cost_c4_no_F1</th>\n",
       "      <th>cost_c6</th>\n",
       "      <th>cost_max_Theta</th>\n",
       "      <th>n_features_dist</th>\n",
       "      <th>n_classes_dist</th>\n",
       "    </tr>\n",
       "    <tr>\n",
       "      <th>exp_id</th>\n",
       "      <th></th>\n",
       "      <th></th>\n",
       "      <th></th>\n",
       "      <th></th>\n",
       "      <th></th>\n",
       "      <th></th>\n",
       "      <th></th>\n",
       "      <th></th>\n",
       "    </tr>\n",
       "  </thead>\n",
       "  <tbody>\n",
       "    <tr>\n",
       "      <th>1</th>\n",
       "      <td>71.827601</td>\n",
       "      <td>77.442888</td>\n",
       "      <td>27826.343467</td>\n",
       "      <td>354.857763</td>\n",
       "      <td>357.708493</td>\n",
       "      <td>5.142237</td>\n",
       "      <td>[3, 5, 5, 7, 5, 8, 4, 6, 6, 2, 3, 6, 5, 5, 5, ...</td>\n",
       "      <td>[1, 1, 1, 1, 1, 2, 1, 1, 1, 1, 1, 1, 1, 1, 1, ...</td>\n",
       "    </tr>\n",
       "    <tr>\n",
       "      <th>2</th>\n",
       "      <td>69.236603</td>\n",
       "      <td>75.826989</td>\n",
       "      <td>8212.363891</td>\n",
       "      <td>214.817572</td>\n",
       "      <td>217.714890</td>\n",
       "      <td>5.182428</td>\n",
       "      <td>[8, 6, 6, 2, 6, 5, 6, 5, 5, 6, 5]</td>\n",
       "      <td>[2, 1, 2, 2, 2, 1, 3, 3, 1, 1, 2]</td>\n",
       "    </tr>\n",
       "    <tr>\n",
       "      <th>3</th>\n",
       "      <td>69.776333</td>\n",
       "      <td>85.448486</td>\n",
       "      <td>7331.837727</td>\n",
       "      <td>154.052459</td>\n",
       "      <td>157.639178</td>\n",
       "      <td>5.947541</td>\n",
       "      <td>[6, 5, 6, 7, 6, 3, 6, 6]</td>\n",
       "      <td>[3, 3, 3, 2, 5, 1, 1, 2]</td>\n",
       "    </tr>\n",
       "    <tr>\n",
       "      <th>4</th>\n",
       "      <td>67.306375</td>\n",
       "      <td>85.272310</td>\n",
       "      <td>5848.822429</td>\n",
       "      <td>94.186814</td>\n",
       "      <td>97.694062</td>\n",
       "      <td>5.813186</td>\n",
       "      <td>[5, 6, 6, 6, 6]</td>\n",
       "      <td>[1, 5, 3, 1, 10]</td>\n",
       "    </tr>\n",
       "    <tr>\n",
       "      <th>5</th>\n",
       "      <td>71.782056</td>\n",
       "      <td>87.446694</td>\n",
       "      <td>24633.209310</td>\n",
       "      <td>314.425786</td>\n",
       "      <td>317.637465</td>\n",
       "      <td>5.574214</td>\n",
       "      <td>[6, 3, 5, 5, 8, 6, 4, 6, 5, 7, 6, 5, 6, 5, 6, 3]</td>\n",
       "      <td>[1, 1, 1, 1, 1, 3, 2, 1, 1, 1, 1, 1, 1, 1, 2, 1]</td>\n",
       "    </tr>\n",
       "    <tr>\n",
       "      <th>6</th>\n",
       "      <td>67.748497</td>\n",
       "      <td>83.416626</td>\n",
       "      <td>2221.532464</td>\n",
       "      <td>33.606256</td>\n",
       "      <td>37.659753</td>\n",
       "      <td>6.393744</td>\n",
       "      <td>[7, 6]</td>\n",
       "      <td>[7, 13]</td>\n",
       "    </tr>\n",
       "    <tr>\n",
       "      <th>7</th>\n",
       "      <td>69.582652</td>\n",
       "      <td>86.180757</td>\n",
       "      <td>4578.319572</td>\n",
       "      <td>93.927265</td>\n",
       "      <td>97.684161</td>\n",
       "      <td>6.072735</td>\n",
       "      <td>[7, 6, 6, 6, 6]</td>\n",
       "      <td>[4, 11, 1, 2, 2]</td>\n",
       "    </tr>\n",
       "    <tr>\n",
       "      <th>8</th>\n",
       "      <td>73.097840</td>\n",
       "      <td>79.783596</td>\n",
       "      <td>11964.573672</td>\n",
       "      <td>213.942004</td>\n",
       "      <td>217.637603</td>\n",
       "      <td>6.057996</td>\n",
       "      <td>[5, 3, 6, 6, 7, 5, 7, 6, 2, 6, 6]</td>\n",
       "      <td>[1, 1, 2, 1, 2, 1, 1, 2, 1, 1, 7]</td>\n",
       "    </tr>\n",
       "    <tr>\n",
       "      <th>9</th>\n",
       "      <td>75.329168</td>\n",
       "      <td>87.237980</td>\n",
       "      <td>4825.718142</td>\n",
       "      <td>134.097049</td>\n",
       "      <td>137.688997</td>\n",
       "      <td>5.902951</td>\n",
       "      <td>[6, 8, 7, 5, 5, 6, 6]</td>\n",
       "      <td>[2, 2, 2, 2, 1, 10, 1]</td>\n",
       "    </tr>\n",
       "    <tr>\n",
       "      <th>10</th>\n",
       "      <td>70.414767</td>\n",
       "      <td>76.367878</td>\n",
       "      <td>15700.722756</td>\n",
       "      <td>254.785673</td>\n",
       "      <td>257.659264</td>\n",
       "      <td>5.214327</td>\n",
       "      <td>[5, 6, 3, 5, 3, 6, 6, 6, 6, 5, 5, 4, 2]</td>\n",
       "      <td>[3, 3, 1, 1, 1, 1, 1, 2, 1, 1, 2, 2, 1]</td>\n",
       "    </tr>\n",
       "    <tr>\n",
       "      <th>11</th>\n",
       "      <td>74.370459</td>\n",
       "      <td>77.458347</td>\n",
       "      <td>28733.016661</td>\n",
       "      <td>374.981630</td>\n",
       "      <td>377.740307</td>\n",
       "      <td>5.018370</td>\n",
       "      <td>[3, 7, 4, 6, 6, 5, 5, 2, 5, 6, 8, 6, 5, 3, 5, ...</td>\n",
       "      <td>[1, 1, 1, 1, 1, 1, 1, 1, 1, 1, 1, 1, 1, 1, 1, ...</td>\n",
       "    </tr>\n",
       "    <tr>\n",
       "      <th>12</th>\n",
       "      <td>67.754987</td>\n",
       "      <td>75.921846</td>\n",
       "      <td>15310.575292</td>\n",
       "      <td>234.370508</td>\n",
       "      <td>237.675787</td>\n",
       "      <td>5.629492</td>\n",
       "      <td>[5, 5, 7, 6, 2, 6, 5, 7, 6, 5, 6, 8]</td>\n",
       "      <td>[1, 1, 2, 1, 2, 3, 1, 1, 2, 1, 4, 1]</td>\n",
       "    </tr>\n",
       "    <tr>\n",
       "      <th>13</th>\n",
       "      <td>70.345397</td>\n",
       "      <td>86.363135</td>\n",
       "      <td>3656.523660</td>\n",
       "      <td>94.357008</td>\n",
       "      <td>97.664007</td>\n",
       "      <td>5.642992</td>\n",
       "      <td>[6, 7, 5, 5, 5]</td>\n",
       "      <td>[7, 3, 5, 3, 2]</td>\n",
       "    </tr>\n",
       "    <tr>\n",
       "      <th>14</th>\n",
       "      <td>74.090961</td>\n",
       "      <td>77.437358</td>\n",
       "      <td>24126.707211</td>\n",
       "      <td>315.297786</td>\n",
       "      <td>317.811535</td>\n",
       "      <td>4.702214</td>\n",
       "      <td>[6, 6, 6, 5, 5, 5, 3, 6, 6, 5, 2, 8, 6, 4, 6, 5]</td>\n",
       "      <td>[3, 1, 1, 1, 1, 1, 1, 3, 1, 1, 1, 1, 1, 1, 1, 1]</td>\n",
       "    </tr>\n",
       "    <tr>\n",
       "      <th>15</th>\n",
       "      <td>70.607820</td>\n",
       "      <td>83.526103</td>\n",
       "      <td>6986.868036</td>\n",
       "      <td>154.765151</td>\n",
       "      <td>157.656509</td>\n",
       "      <td>5.234849</td>\n",
       "      <td>[3, 5, 5, 5, 5, 6, 5, 6]</td>\n",
       "      <td>[1, 6, 4, 2, 2, 2, 1, 2]</td>\n",
       "    </tr>\n",
       "    <tr>\n",
       "      <th>16</th>\n",
       "      <td>68.692177</td>\n",
       "      <td>85.380743</td>\n",
       "      <td>3071.443650</td>\n",
       "      <td>54.046136</td>\n",
       "      <td>57.639015</td>\n",
       "      <td>5.953864</td>\n",
       "      <td>[6, 5, 6]</td>\n",
       "      <td>[11, 3, 6]</td>\n",
       "    </tr>\n",
       "    <tr>\n",
       "      <th>17</th>\n",
       "      <td>77.480166</td>\n",
       "      <td>87.862479</td>\n",
       "      <td>15900.629377</td>\n",
       "      <td>294.871184</td>\n",
       "      <td>297.705930</td>\n",
       "      <td>5.128816</td>\n",
       "      <td>[3, 6, 6, 6, 5, 7, 6, 7, 5, 5, 4, 5, 5, 5, 5]</td>\n",
       "      <td>[1, 1, 1, 1, 1, 2, 2, 1, 2, 2, 2, 1, 1, 1, 1]</td>\n",
       "    </tr>\n",
       "    <tr>\n",
       "      <th>18</th>\n",
       "      <td>68.876628</td>\n",
       "      <td>86.981702</td>\n",
       "      <td>6256.737276</td>\n",
       "      <td>133.956036</td>\n",
       "      <td>137.587399</td>\n",
       "      <td>6.043964</td>\n",
       "      <td>[6, 6, 7, 7, 5, 4, 6]</td>\n",
       "      <td>[1, 2, 4, 3, 1, 6, 3]</td>\n",
       "    </tr>\n",
       "    <tr>\n",
       "      <th>19</th>\n",
       "      <td>75.146452</td>\n",
       "      <td>84.003506</td>\n",
       "      <td>26435.381240</td>\n",
       "      <td>354.841368</td>\n",
       "      <td>357.724976</td>\n",
       "      <td>5.158632</td>\n",
       "      <td>[6, 8, 3, 6, 4, 6, 5, 4, 5, 6, 6, 5, 6, 3, 6, ...</td>\n",
       "      <td>[1, 1, 1, 1, 2, 1, 1, 1, 1, 1, 1, 1, 1, 1, 2, ...</td>\n",
       "    </tr>\n",
       "    <tr>\n",
       "      <th>20</th>\n",
       "      <td>62.609999</td>\n",
       "      <td>83.102754</td>\n",
       "      <td>2103.854648</td>\n",
       "      <td>34.262596</td>\n",
       "      <td>37.657643</td>\n",
       "      <td>5.737404</td>\n",
       "      <td>[3, 6]</td>\n",
       "      <td>[3, 17]</td>\n",
       "    </tr>\n",
       "    <tr>\n",
       "      <th>21</th>\n",
       "      <td>72.968802</td>\n",
       "      <td>86.756589</td>\n",
       "      <td>26000.697845</td>\n",
       "      <td>352.462472</td>\n",
       "      <td>357.160932</td>\n",
       "      <td>7.537528</td>\n",
       "      <td>[5, 6, 5, 3, 6, 5, 5, 8, 6, 5, 7, 6, 5, 3, 5, ...</td>\n",
       "      <td>[1, 1, 1, 1, 1, 2, 1, 1, 2, 1, 1, 1, 1, 1, 1, ...</td>\n",
       "    </tr>\n",
       "    <tr>\n",
       "      <th>22</th>\n",
       "      <td>71.972022</td>\n",
       "      <td>86.466439</td>\n",
       "      <td>10419.834857</td>\n",
       "      <td>192.995980</td>\n",
       "      <td>197.479470</td>\n",
       "      <td>7.004020</td>\n",
       "      <td>[8, 6, 7, 6, 5, 6, 5, 7, 5, 6]</td>\n",
       "      <td>[1, 5, 3, 1, 1, 1, 2, 2, 2, 2]</td>\n",
       "    </tr>\n",
       "    <tr>\n",
       "      <th>23</th>\n",
       "      <td>75.336084</td>\n",
       "      <td>87.794247</td>\n",
       "      <td>16896.490012</td>\n",
       "      <td>292.831245</td>\n",
       "      <td>297.287461</td>\n",
       "      <td>7.168755</td>\n",
       "      <td>[3, 5, 7, 6, 5, 6, 4, 6, 5, 5, 4, 5, 6, 5, 7]</td>\n",
       "      <td>[1, 1, 2, 2, 1, 1, 1, 3, 1, 2, 1, 1, 1, 1, 1]</td>\n",
       "    </tr>\n",
       "    <tr>\n",
       "      <th>24</th>\n",
       "      <td>73.566882</td>\n",
       "      <td>88.471818</td>\n",
       "      <td>16500.363942</td>\n",
       "      <td>272.849440</td>\n",
       "      <td>277.384400</td>\n",
       "      <td>7.150560</td>\n",
       "      <td>[5, 7, 5, 5, 5, 6, 7, 8, 7, 5, 5, 6, 5, 6]</td>\n",
       "      <td>[1, 1, 2, 1, 1, 1, 2, 1, 2, 1, 3, 1, 1, 2]</td>\n",
       "    </tr>\n",
       "    <tr>\n",
       "      <th>25</th>\n",
       "      <td>71.241676</td>\n",
       "      <td>85.156040</td>\n",
       "      <td>17232.615648</td>\n",
       "      <td>252.930948</td>\n",
       "      <td>257.299654</td>\n",
       "      <td>7.069052</td>\n",
       "      <td>[8, 4, 6, 6, 5, 7, 6, 5, 3, 6, 6, 5, 6]</td>\n",
       "      <td>[1, 3, 2, 3, 1, 3, 1, 1, 1, 1, 1, 1, 1]</td>\n",
       "    </tr>\n",
       "    <tr>\n",
       "      <th>26</th>\n",
       "      <td>73.563582</td>\n",
       "      <td>86.465760</td>\n",
       "      <td>12776.611956</td>\n",
       "      <td>272.623713</td>\n",
       "      <td>277.150264</td>\n",
       "      <td>7.376287</td>\n",
       "      <td>[6, 5, 5, 7, 6, 4, 3, 6, 3, 5, 5, 6, 4, 5]</td>\n",
       "      <td>[1, 1, 1, 2, 2, 1, 1, 1, 1, 2, 2, 3, 1, 1]</td>\n",
       "    </tr>\n",
       "    <tr>\n",
       "      <th>27</th>\n",
       "      <td>70.468473</td>\n",
       "      <td>86.154679</td>\n",
       "      <td>11534.989741</td>\n",
       "      <td>233.033976</td>\n",
       "      <td>237.337993</td>\n",
       "      <td>6.966024</td>\n",
       "      <td>[6, 6, 6, 4, 5, 5, 5, 5, 7, 5, 7, 3]</td>\n",
       "      <td>[3, 1, 2, 1, 1, 2, 2, 2, 2, 1, 2, 1]</td>\n",
       "    </tr>\n",
       "    <tr>\n",
       "      <th>28</th>\n",
       "      <td>70.068192</td>\n",
       "      <td>87.293257</td>\n",
       "      <td>9152.130958</td>\n",
       "      <td>153.309338</td>\n",
       "      <td>157.505348</td>\n",
       "      <td>6.690662</td>\n",
       "      <td>[6, 6, 6, 6, 5, 6, 6, 6]</td>\n",
       "      <td>[3, 4, 3, 3, 3, 1, 2, 1]</td>\n",
       "    </tr>\n",
       "    <tr>\n",
       "      <th>29</th>\n",
       "      <td>63.056186</td>\n",
       "      <td>81.151478</td>\n",
       "      <td>2277.488277</td>\n",
       "      <td>33.753667</td>\n",
       "      <td>37.723380</td>\n",
       "      <td>6.246333</td>\n",
       "      <td>[7, 6]</td>\n",
       "      <td>[13, 7]</td>\n",
       "    </tr>\n",
       "    <tr>\n",
       "      <th>30</th>\n",
       "      <td>72.380662</td>\n",
       "      <td>84.165443</td>\n",
       "      <td>4350.537484</td>\n",
       "      <td>133.445954</td>\n",
       "      <td>137.645753</td>\n",
       "      <td>6.554046</td>\n",
       "      <td>[5, 6, 7, 6, 7, 6, 6]</td>\n",
       "      <td>[1, 2, 2, 3, 9, 2, 1]</td>\n",
       "    </tr>\n",
       "    <tr>\n",
       "      <th>31</th>\n",
       "      <td>74.034400</td>\n",
       "      <td>87.273280</td>\n",
       "      <td>17390.023056</td>\n",
       "      <td>292.888178</td>\n",
       "      <td>297.374592</td>\n",
       "      <td>7.111822</td>\n",
       "      <td>[6, 5, 6, 4, 5, 6, 8, 3, 5, 5, 6, 7, 6, 5, 7]</td>\n",
       "      <td>[1, 1, 2, 1, 1, 1, 1, 1, 2, 1, 1, 1, 2, 1, 3]</td>\n",
       "    </tr>\n",
       "    <tr>\n",
       "      <th>32</th>\n",
       "      <td>68.833999</td>\n",
       "      <td>85.376029</td>\n",
       "      <td>14791.921438</td>\n",
       "      <td>232.814538</td>\n",
       "      <td>237.345747</td>\n",
       "      <td>7.185462</td>\n",
       "      <td>[6, 6, 5, 6, 6, 6, 8, 4, 4, 5, 7, 7]</td>\n",
       "      <td>[3, 1, 2, 1, 2, 1, 1, 2, 2, 1, 3, 1]</td>\n",
       "    </tr>\n",
       "    <tr>\n",
       "      <th>33</th>\n",
       "      <td>66.148657</td>\n",
       "      <td>81.331200</td>\n",
       "      <td>3372.391874</td>\n",
       "      <td>53.785834</td>\n",
       "      <td>57.643801</td>\n",
       "      <td>6.214166</td>\n",
       "      <td>[6, 6, 7]</td>\n",
       "      <td>[5, 12, 3]</td>\n",
       "    </tr>\n",
       "    <tr>\n",
       "      <th>34</th>\n",
       "      <td>74.520413</td>\n",
       "      <td>87.113709</td>\n",
       "      <td>16900.512671</td>\n",
       "      <td>273.011455</td>\n",
       "      <td>277.366359</td>\n",
       "      <td>6.988545</td>\n",
       "      <td>[5, 8, 6, 6, 5, 7, 6, 4, 4, 5, 5, 3, 6, 6]</td>\n",
       "      <td>[1, 2, 1, 1, 1, 4, 2, 1, 1, 2, 1, 1, 1, 1]</td>\n",
       "    </tr>\n",
       "    <tr>\n",
       "      <th>35</th>\n",
       "      <td>70.699715</td>\n",
       "      <td>84.236349</td>\n",
       "      <td>6934.271686</td>\n",
       "      <td>113.466968</td>\n",
       "      <td>117.575927</td>\n",
       "      <td>6.533032</td>\n",
       "      <td>[5, 5, 7, 7, 6, 6]</td>\n",
       "      <td>[4, 1, 3, 5, 1, 6]</td>\n",
       "    </tr>\n",
       "    <tr>\n",
       "      <th>36</th>\n",
       "      <td>74.539969</td>\n",
       "      <td>86.719286</td>\n",
       "      <td>13916.943186</td>\n",
       "      <td>233.005106</td>\n",
       "      <td>237.373427</td>\n",
       "      <td>6.994894</td>\n",
       "      <td>[5, 6, 6, 3, 6, 5, 5, 6, 6, 6, 4, 6]</td>\n",
       "      <td>[1, 4, 1, 1, 1, 1, 1, 2, 1, 2, 2, 3]</td>\n",
       "    </tr>\n",
       "    <tr>\n",
       "      <th>37</th>\n",
       "      <td>72.174082</td>\n",
       "      <td>87.121633</td>\n",
       "      <td>22723.072856</td>\n",
       "      <td>312.716832</td>\n",
       "      <td>317.257995</td>\n",
       "      <td>7.283168</td>\n",
       "      <td>[6, 5, 7, 5, 6, 5, 6, 5, 7, 5, 3, 7, 6, 4, 5, 5]</td>\n",
       "      <td>[1, 1, 2, 1, 1, 1, 3, 1, 1, 1, 1, 2, 1, 1, 1, 1]</td>\n",
       "    </tr>\n",
       "    <tr>\n",
       "      <th>38</th>\n",
       "      <td>74.440827</td>\n",
       "      <td>87.193098</td>\n",
       "      <td>22210.028191</td>\n",
       "      <td>332.570394</td>\n",
       "      <td>337.142136</td>\n",
       "      <td>7.429606</td>\n",
       "      <td>[6, 5, 5, 5, 6, 6, 3, 5, 5, 4, 6, 5, 6, 4, 7, ...</td>\n",
       "      <td>[1, 2, 1, 1, 1, 1, 1, 1, 1, 1, 2, 1, 1, 1, 2, ...</td>\n",
       "    </tr>\n",
       "    <tr>\n",
       "      <th>39</th>\n",
       "      <td>72.368004</td>\n",
       "      <td>84.996380</td>\n",
       "      <td>7697.664424</td>\n",
       "      <td>173.197382</td>\n",
       "      <td>177.481143</td>\n",
       "      <td>6.802618</td>\n",
       "      <td>[5, 6, 8, 5, 5, 6, 7, 5, 5]</td>\n",
       "      <td>[3, 3, 2, 1, 1, 2, 4, 3, 1]</td>\n",
       "    </tr>\n",
       "    <tr>\n",
       "      <th>40</th>\n",
       "      <td>73.119284</td>\n",
       "      <td>85.158541</td>\n",
       "      <td>12180.308740</td>\n",
       "      <td>233.039530</td>\n",
       "      <td>237.336950</td>\n",
       "      <td>6.960470</td>\n",
       "      <td>[3, 5, 5, 5, 6, 6, 6, 7, 5, 6, 6, 4]</td>\n",
       "      <td>[1, 2, 1, 1, 2, 4, 1, 1, 1, 4, 1, 1]</td>\n",
       "    </tr>\n",
       "  </tbody>\n",
       "</table>\n",
       "</div>"
      ],
      "text/plain": [
       "         F1_macro  F1_weighted       cost_c4  cost_c4_no_F1     cost_c6  \\\n",
       "exp_id                                                                    \n",
       "1       71.827601    77.442888  27826.343467     354.857763  357.708493   \n",
       "2       69.236603    75.826989   8212.363891     214.817572  217.714890   \n",
       "3       69.776333    85.448486   7331.837727     154.052459  157.639178   \n",
       "4       67.306375    85.272310   5848.822429      94.186814   97.694062   \n",
       "5       71.782056    87.446694  24633.209310     314.425786  317.637465   \n",
       "6       67.748497    83.416626   2221.532464      33.606256   37.659753   \n",
       "7       69.582652    86.180757   4578.319572      93.927265   97.684161   \n",
       "8       73.097840    79.783596  11964.573672     213.942004  217.637603   \n",
       "9       75.329168    87.237980   4825.718142     134.097049  137.688997   \n",
       "10      70.414767    76.367878  15700.722756     254.785673  257.659264   \n",
       "11      74.370459    77.458347  28733.016661     374.981630  377.740307   \n",
       "12      67.754987    75.921846  15310.575292     234.370508  237.675787   \n",
       "13      70.345397    86.363135   3656.523660      94.357008   97.664007   \n",
       "14      74.090961    77.437358  24126.707211     315.297786  317.811535   \n",
       "15      70.607820    83.526103   6986.868036     154.765151  157.656509   \n",
       "16      68.692177    85.380743   3071.443650      54.046136   57.639015   \n",
       "17      77.480166    87.862479  15900.629377     294.871184  297.705930   \n",
       "18      68.876628    86.981702   6256.737276     133.956036  137.587399   \n",
       "19      75.146452    84.003506  26435.381240     354.841368  357.724976   \n",
       "20      62.609999    83.102754   2103.854648      34.262596   37.657643   \n",
       "21      72.968802    86.756589  26000.697845     352.462472  357.160932   \n",
       "22      71.972022    86.466439  10419.834857     192.995980  197.479470   \n",
       "23      75.336084    87.794247  16896.490012     292.831245  297.287461   \n",
       "24      73.566882    88.471818  16500.363942     272.849440  277.384400   \n",
       "25      71.241676    85.156040  17232.615648     252.930948  257.299654   \n",
       "26      73.563582    86.465760  12776.611956     272.623713  277.150264   \n",
       "27      70.468473    86.154679  11534.989741     233.033976  237.337993   \n",
       "28      70.068192    87.293257   9152.130958     153.309338  157.505348   \n",
       "29      63.056186    81.151478   2277.488277      33.753667   37.723380   \n",
       "30      72.380662    84.165443   4350.537484     133.445954  137.645753   \n",
       "31      74.034400    87.273280  17390.023056     292.888178  297.374592   \n",
       "32      68.833999    85.376029  14791.921438     232.814538  237.345747   \n",
       "33      66.148657    81.331200   3372.391874      53.785834   57.643801   \n",
       "34      74.520413    87.113709  16900.512671     273.011455  277.366359   \n",
       "35      70.699715    84.236349   6934.271686     113.466968  117.575927   \n",
       "36      74.539969    86.719286  13916.943186     233.005106  237.373427   \n",
       "37      72.174082    87.121633  22723.072856     312.716832  317.257995   \n",
       "38      74.440827    87.193098  22210.028191     332.570394  337.142136   \n",
       "39      72.368004    84.996380   7697.664424     173.197382  177.481143   \n",
       "40      73.119284    85.158541  12180.308740     233.039530  237.336950   \n",
       "\n",
       "        cost_max_Theta                                    n_features_dist  \\\n",
       "exp_id                                                                      \n",
       "1             5.142237  [3, 5, 5, 7, 5, 8, 4, 6, 6, 2, 3, 6, 5, 5, 5, ...   \n",
       "2             5.182428                  [8, 6, 6, 2, 6, 5, 6, 5, 5, 6, 5]   \n",
       "3             5.947541                           [6, 5, 6, 7, 6, 3, 6, 6]   \n",
       "4             5.813186                                    [5, 6, 6, 6, 6]   \n",
       "5             5.574214   [6, 3, 5, 5, 8, 6, 4, 6, 5, 7, 6, 5, 6, 5, 6, 3]   \n",
       "6             6.393744                                             [7, 6]   \n",
       "7             6.072735                                    [7, 6, 6, 6, 6]   \n",
       "8             6.057996                  [5, 3, 6, 6, 7, 5, 7, 6, 2, 6, 6]   \n",
       "9             5.902951                              [6, 8, 7, 5, 5, 6, 6]   \n",
       "10            5.214327            [5, 6, 3, 5, 3, 6, 6, 6, 6, 5, 5, 4, 2]   \n",
       "11            5.018370  [3, 7, 4, 6, 6, 5, 5, 2, 5, 6, 8, 6, 5, 3, 5, ...   \n",
       "12            5.629492               [5, 5, 7, 6, 2, 6, 5, 7, 6, 5, 6, 8]   \n",
       "13            5.642992                                    [6, 7, 5, 5, 5]   \n",
       "14            4.702214   [6, 6, 6, 5, 5, 5, 3, 6, 6, 5, 2, 8, 6, 4, 6, 5]   \n",
       "15            5.234849                           [3, 5, 5, 5, 5, 6, 5, 6]   \n",
       "16            5.953864                                          [6, 5, 6]   \n",
       "17            5.128816      [3, 6, 6, 6, 5, 7, 6, 7, 5, 5, 4, 5, 5, 5, 5]   \n",
       "18            6.043964                              [6, 6, 7, 7, 5, 4, 6]   \n",
       "19            5.158632  [6, 8, 3, 6, 4, 6, 5, 4, 5, 6, 6, 5, 6, 3, 6, ...   \n",
       "20            5.737404                                             [3, 6]   \n",
       "21            7.537528  [5, 6, 5, 3, 6, 5, 5, 8, 6, 5, 7, 6, 5, 3, 5, ...   \n",
       "22            7.004020                     [8, 6, 7, 6, 5, 6, 5, 7, 5, 6]   \n",
       "23            7.168755      [3, 5, 7, 6, 5, 6, 4, 6, 5, 5, 4, 5, 6, 5, 7]   \n",
       "24            7.150560         [5, 7, 5, 5, 5, 6, 7, 8, 7, 5, 5, 6, 5, 6]   \n",
       "25            7.069052            [8, 4, 6, 6, 5, 7, 6, 5, 3, 6, 6, 5, 6]   \n",
       "26            7.376287         [6, 5, 5, 7, 6, 4, 3, 6, 3, 5, 5, 6, 4, 5]   \n",
       "27            6.966024               [6, 6, 6, 4, 5, 5, 5, 5, 7, 5, 7, 3]   \n",
       "28            6.690662                           [6, 6, 6, 6, 5, 6, 6, 6]   \n",
       "29            6.246333                                             [7, 6]   \n",
       "30            6.554046                              [5, 6, 7, 6, 7, 6, 6]   \n",
       "31            7.111822      [6, 5, 6, 4, 5, 6, 8, 3, 5, 5, 6, 7, 6, 5, 7]   \n",
       "32            7.185462               [6, 6, 5, 6, 6, 6, 8, 4, 4, 5, 7, 7]   \n",
       "33            6.214166                                          [6, 6, 7]   \n",
       "34            6.988545         [5, 8, 6, 6, 5, 7, 6, 4, 4, 5, 5, 3, 6, 6]   \n",
       "35            6.533032                                 [5, 5, 7, 7, 6, 6]   \n",
       "36            6.994894               [5, 6, 6, 3, 6, 5, 5, 6, 6, 6, 4, 6]   \n",
       "37            7.283168   [6, 5, 7, 5, 6, 5, 6, 5, 7, 5, 3, 7, 6, 4, 5, 5]   \n",
       "38            7.429606  [6, 5, 5, 5, 6, 6, 3, 5, 5, 4, 6, 5, 6, 4, 7, ...   \n",
       "39            6.802618                        [5, 6, 8, 5, 5, 6, 7, 5, 5]   \n",
       "40            6.960470               [3, 5, 5, 5, 6, 6, 6, 7, 5, 6, 6, 4]   \n",
       "\n",
       "                                           n_classes_dist  \n",
       "exp_id                                                     \n",
       "1       [1, 1, 1, 1, 1, 2, 1, 1, 1, 1, 1, 1, 1, 1, 1, ...  \n",
       "2                       [2, 1, 2, 2, 2, 1, 3, 3, 1, 1, 2]  \n",
       "3                                [3, 3, 3, 2, 5, 1, 1, 2]  \n",
       "4                                        [1, 5, 3, 1, 10]  \n",
       "5        [1, 1, 1, 1, 1, 3, 2, 1, 1, 1, 1, 1, 1, 1, 2, 1]  \n",
       "6                                                 [7, 13]  \n",
       "7                                        [4, 11, 1, 2, 2]  \n",
       "8                       [1, 1, 2, 1, 2, 1, 1, 2, 1, 1, 7]  \n",
       "9                                  [2, 2, 2, 2, 1, 10, 1]  \n",
       "10                [3, 3, 1, 1, 1, 1, 1, 2, 1, 1, 2, 2, 1]  \n",
       "11      [1, 1, 1, 1, 1, 1, 1, 1, 1, 1, 1, 1, 1, 1, 1, ...  \n",
       "12                   [1, 1, 2, 1, 2, 3, 1, 1, 2, 1, 4, 1]  \n",
       "13                                        [7, 3, 5, 3, 2]  \n",
       "14       [3, 1, 1, 1, 1, 1, 1, 3, 1, 1, 1, 1, 1, 1, 1, 1]  \n",
       "15                               [1, 6, 4, 2, 2, 2, 1, 2]  \n",
       "16                                             [11, 3, 6]  \n",
       "17          [1, 1, 1, 1, 1, 2, 2, 1, 2, 2, 2, 1, 1, 1, 1]  \n",
       "18                                  [1, 2, 4, 3, 1, 6, 3]  \n",
       "19      [1, 1, 1, 1, 2, 1, 1, 1, 1, 1, 1, 1, 1, 1, 2, ...  \n",
       "20                                                [3, 17]  \n",
       "21      [1, 1, 1, 1, 1, 2, 1, 1, 2, 1, 1, 1, 1, 1, 1, ...  \n",
       "22                         [1, 5, 3, 1, 1, 1, 2, 2, 2, 2]  \n",
       "23          [1, 1, 2, 2, 1, 1, 1, 3, 1, 2, 1, 1, 1, 1, 1]  \n",
       "24             [1, 1, 2, 1, 1, 1, 2, 1, 2, 1, 3, 1, 1, 2]  \n",
       "25                [1, 3, 2, 3, 1, 3, 1, 1, 1, 1, 1, 1, 1]  \n",
       "26             [1, 1, 1, 2, 2, 1, 1, 1, 1, 2, 2, 3, 1, 1]  \n",
       "27                   [3, 1, 2, 1, 1, 2, 2, 2, 2, 1, 2, 1]  \n",
       "28                               [3, 4, 3, 3, 3, 1, 2, 1]  \n",
       "29                                                [13, 7]  \n",
       "30                                  [1, 2, 2, 3, 9, 2, 1]  \n",
       "31          [1, 1, 2, 1, 1, 1, 1, 1, 2, 1, 1, 1, 2, 1, 3]  \n",
       "32                   [3, 1, 2, 1, 2, 1, 1, 2, 2, 1, 3, 1]  \n",
       "33                                             [5, 12, 3]  \n",
       "34             [1, 2, 1, 1, 1, 4, 2, 1, 1, 2, 1, 1, 1, 1]  \n",
       "35                                     [4, 1, 3, 5, 1, 6]  \n",
       "36                   [1, 4, 1, 1, 1, 1, 1, 2, 1, 2, 2, 3]  \n",
       "37       [1, 1, 2, 1, 1, 1, 3, 1, 1, 1, 1, 2, 1, 1, 1, 1]  \n",
       "38      [1, 2, 1, 1, 1, 1, 1, 1, 1, 1, 2, 1, 1, 1, 2, ...  \n",
       "39                            [3, 3, 2, 1, 1, 2, 4, 3, 1]  \n",
       "40                   [1, 2, 1, 1, 2, 4, 1, 1, 1, 4, 1, 1]  "
      ]
     },
     "execution_count": 55,
     "metadata": {},
     "output_type": "execute_result"
    }
   ],
   "source": [
    "random_experiments_df.sort_values('exp_id')"
   ]
  },
  {
   "cell_type": "code",
   "execution_count": 57,
   "id": "8996e0ee-9b1f-4690-b075-0dbaf8cf666d",
   "metadata": {},
   "outputs": [
    {
     "data": {
      "text/html": [
       "<div>\n",
       "<style scoped>\n",
       "    .dataframe tbody tr th:only-of-type {\n",
       "        vertical-align: middle;\n",
       "    }\n",
       "\n",
       "    .dataframe tbody tr th {\n",
       "        vertical-align: top;\n",
       "    }\n",
       "\n",
       "    .dataframe thead th {\n",
       "        text-align: right;\n",
       "    }\n",
       "</style>\n",
       "<table border=\"1\" class=\"dataframe\">\n",
       "  <thead>\n",
       "    <tr style=\"text-align: right;\">\n",
       "      <th></th>\n",
       "      <th>F1_macro</th>\n",
       "      <th>cost_c4</th>\n",
       "      <th>cost_c4_no_F1</th>\n",
       "      <th>cost_c6</th>\n",
       "      <th>cost_max_Theta</th>\n",
       "    </tr>\n",
       "  </thead>\n",
       "  <tbody>\n",
       "    <tr>\n",
       "      <th>F1_macro</th>\n",
       "      <td>1.000000</td>\n",
       "      <td>0.634709</td>\n",
       "      <td>0.695685</td>\n",
       "      <td>0.696248</td>\n",
       "      <td>0.166417</td>\n",
       "    </tr>\n",
       "    <tr>\n",
       "      <th>cost_c4</th>\n",
       "      <td>0.634709</td>\n",
       "      <td>1.000000</td>\n",
       "      <td>0.978987</td>\n",
       "      <td>0.981801</td>\n",
       "      <td>0.078424</td>\n",
       "    </tr>\n",
       "    <tr>\n",
       "      <th>cost_c4_no_F1</th>\n",
       "      <td>0.695685</td>\n",
       "      <td>0.978987</td>\n",
       "      <td>1.000000</td>\n",
       "      <td>0.996435</td>\n",
       "      <td>0.046904</td>\n",
       "    </tr>\n",
       "    <tr>\n",
       "      <th>cost_c6</th>\n",
       "      <td>0.696248</td>\n",
       "      <td>0.981801</td>\n",
       "      <td>0.996435</td>\n",
       "      <td>1.000000</td>\n",
       "      <td>0.059850</td>\n",
       "    </tr>\n",
       "    <tr>\n",
       "      <th>cost_max_Theta</th>\n",
       "      <td>0.166417</td>\n",
       "      <td>0.078424</td>\n",
       "      <td>0.046904</td>\n",
       "      <td>0.059850</td>\n",
       "      <td>1.000000</td>\n",
       "    </tr>\n",
       "  </tbody>\n",
       "</table>\n",
       "</div>"
      ],
      "text/plain": [
       "                F1_macro   cost_c4  cost_c4_no_F1   cost_c6  cost_max_Theta\n",
       "F1_macro        1.000000  0.634709       0.695685  0.696248        0.166417\n",
       "cost_c4         0.634709  1.000000       0.978987  0.981801        0.078424\n",
       "cost_c4_no_F1   0.695685  0.978987       1.000000  0.996435        0.046904\n",
       "cost_c6         0.696248  0.981801       0.996435  1.000000        0.059850\n",
       "cost_max_Theta  0.166417  0.078424       0.046904  0.059850        1.000000"
      ]
     },
     "execution_count": 57,
     "metadata": {},
     "output_type": "execute_result"
    }
   ],
   "source": [
    "random_experiments_df[['F1_macro','cost_c4', 'cost_c4_no_F1', 'cost_c6', 'cost_max_Theta']].corr(method='spearman')"
   ]
  },
  {
   "cell_type": "code",
   "execution_count": 51,
   "id": "7991bc2d-6581-459c-a00f-5503779cc886",
   "metadata": {},
   "outputs": [
    {
     "data": {
      "text/plain": [
       "<Axes: xlabel='cost_c4', ylabel='F1_macro'>"
      ]
     },
     "execution_count": 51,
     "metadata": {},
     "output_type": "execute_result"
    },
    {
     "data": {
      "image/png": "[encoded data removed]",
      "text/plain": [
       "<Figure size 640x480 with 1 Axes>"
      ]
     },
     "metadata": {},
     "output_type": "display_data"
    }
   ],
   "source": [
    "random_experiments_df.plot.scatter(x='cost_c4',y='F1_macro')"
   ]
  },
  {
   "cell_type": "code",
   "execution_count": 101,
   "id": "28923b65-2695-444a-bc13-4f6db4ff404d",
   "metadata": {},
   "outputs": [
    {
     "data": {
      "text/plain": [
       "<Axes: xlabel='cost_c4_no_F1', ylabel='F1_macro'>"
      ]
     },
     "execution_count": 101,
     "metadata": {},
     "output_type": "execute_result"
    },
    {
     "data": {
      "image/png": "[encoded data removed]",
      "text/plain": [
       "<Figure size 640x480 with 1 Axes>"
      ]
     },
     "metadata": {},
     "output_type": "display_data"
    }
   ],
   "source": [
    "random_experiments_df.plot.scatter(x='cost_c4_no_F1',y='F1_macro')\n",
    "# cost: 771.7526401792112\n",
    "# F1: 80.15801615364094, 88.8571452713437"
   ]
  },
  {
   "cell_type": "code",
   "execution_count": 102,
   "id": "a081e776-5fc2-4c3e-91f1-ef03e2aabaae",
   "metadata": {},
   "outputs": [
    {
     "data": {
      "text/plain": [
       "<Axes: xlabel='cost_c6', ylabel='F1_macro'>"
      ]
     },
     "execution_count": 102,
     "metadata": {},
     "output_type": "execute_result"
    },
    {
     "data": {
      "image/png": "[encoded data removed]",
      "text/plain": [
       "<Figure size 640x480 with 1 Axes>"
      ]
     },
     "metadata": {},
     "output_type": "display_data"
    }
   ],
   "source": [
    "random_experiments_df.plot.scatter(x='cost_c6',y='F1_macro')"
   ]
  },
  {
   "cell_type": "code",
   "execution_count": null,
   "id": "da333ef7-636a-410a-89f2-cc6c19ece6c6",
   "metadata": {},
   "outputs": [],
   "source": []
  }
 ],
 "metadata": {
  "kernelspec": {
   "display_name": "Python 3 (ipykernel)",
   "language": "python",
   "name": "python3"
  },
  "language_info": {
   "codemirror_mode": {
    "name": "ipython",
    "version": 3
   },
   "file_extension": ".py",
   "mimetype": "text/x-python",
   "name": "python",
   "nbconvert_exporter": "python",
   "pygments_lexer": "ipython3",
   "version": "3.8.10"
  }
 },
 "nbformat": 4,
 "nbformat_minor": 5
}
