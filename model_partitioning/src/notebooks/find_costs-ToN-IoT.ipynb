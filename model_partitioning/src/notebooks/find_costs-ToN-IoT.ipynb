{
 "cells": [
  {
   "cell_type": "markdown",
   "id": "f5feee7a-2352-4834-996d-4d1ee767f945",
   "metadata": {},
   "source": [
    "This playbook implements the ILP described in: https://www.overleaf.com/read/tfphxmrnmdqz#5d9206"
   ]
  },
  {
   "cell_type": "markdown",
   "id": "5c675f18",
   "metadata": {},
   "source": [
    "# PCFI data generation"
   ]
  },
  {
   "cell_type": "code",
   "execution_count": 67,
   "id": "e47c4eff",
   "metadata": {
    "ExecuteTime": {
     "end_time": "2024-05-23T08:09:12.530272Z",
     "start_time": "2024-05-23T08:09:11.051018Z"
    }
   },
   "outputs": [],
   "source": [
    "import ast\n",
    "import itertools\n",
    "import numpy as np\n",
    "import matplotlib.pyplot as plt\n",
    "import pandas as pd\n",
    "import pulp\n",
    "from scipy.special import softmax\n",
    "from tqdm.notebook import tqdm\n",
    "import os\n",
    "import time"
   ]
  },
  {
   "cell_type": "code",
   "execution_count": 68,
   "id": "de5c1544-a2a6-4626-95c4-2f0f1a0d3e9e",
   "metadata": {},
   "outputs": [],
   "source": [
    "disable_tqdm = True"
   ]
  },
  {
   "cell_type": "code",
   "execution_count": 69,
   "id": "74bccea3-05bb-46db-b619-b5f1e130f5c3",
   "metadata": {},
   "outputs": [],
   "source": [
    "weights_file_path =  'importance_weights_ToN-IoT.csv'\n",
    "scores_file_path = 'ToN-IoT_score_per_class.csv'"
   ]
  },
  {
   "cell_type": "code",
   "execution_count": 70,
   "id": "72df909f-24ff-4140-a47b-e3d793158b35",
   "metadata": {},
   "outputs": [],
   "source": [
    "n_classes = 10\n",
    "n_features = 21\n",
    "phis = list(map(np.array, itertools.product([0, 1], repeat=n_features)))[1:-1]\n",
    "features_list = list(pd.read_csv(weights_file_path).drop(columns=['c_name']).columns)\n",
    "# unwanted_classes = ['Blipcare Blood Pressure meter', 'IPhone']"
   ]
  },
  {
   "cell_type": "code",
   "execution_count": 71,
   "id": "13531c9b-1d42-493d-b257-8ce0afd828e0",
   "metadata": {},
   "outputs": [
    {
     "data": {
      "text/plain": [
       "['ACK Flag Count',\n",
       " 'ECE Flag Count',\n",
       " 'FIN Flag Count',\n",
       " 'Max Packet Length',\n",
       " 'Min Packet Length',\n",
       " 'PSH Flag Count',\n",
       " 'Packet Length Total',\n",
       " 'RST Flag Count',\n",
       " 'SYN Flag Count',\n",
       " 'dstport',\n",
       " 'ip.len',\n",
       " 'ip.proto',\n",
       " 'ip.ttl',\n",
       " 'srcport',\n",
       " 'tcp.flags.ack',\n",
       " 'tcp.flags.push',\n",
       " 'tcp.flags.rst',\n",
       " 'tcp.flags.syn',\n",
       " 'tcp.hdr_len',\n",
       " 'tcp.window_size_value',\n",
       " 'udp.length']"
      ]
     },
     "execution_count": 71,
     "metadata": {},
     "output_type": "execute_result"
    }
   ],
   "source": [
    "features_list"
   ]
  },
  {
   "cell_type": "code",
   "execution_count": 5,
   "id": "7bb0f14c-8204-4490-9ba9-f4b3ecf639c5",
   "metadata": {},
   "outputs": [],
   "source": [
    "test_classes_list = ['Samsung Galaxy Tab', 'Amazon Echo', 'Netatmo Welcome', 'Netatmo weather station', 'Smart Things', 'TP-Link Smart plug', 'PIX-STAR Photo-frame', 'Samsung SmartCam', 'HP Printer', 'Dropcam', 'TP-Link Day Night Cloud camera', 'Belkin wemo motion sensor']\n",
    "test_classes_list.sort()\n",
    "test_classes_list = None"
   ]
  },
  {
   "cell_type": "code",
   "execution_count": 6,
   "id": "6c8dd674-2ee7-4eab-a17b-3a852e8da6a9",
   "metadata": {},
   "outputs": [],
   "source": [
    "test_classes_list"
   ]
  },
  {
   "cell_type": "code",
   "execution_count": 7,
   "id": "aba616b4",
   "metadata": {
    "ExecuteTime": {
     "end_time": "2024-05-23T08:09:12.582165Z",
     "start_time": "2024-05-23T08:09:12.532480Z"
    }
   },
   "outputs": [],
   "source": [
    "def generate_test_problem_data(test_classes_list,  n_features=15):\n",
    "    classes_list = test_classes_list\n",
    "    W = pd.read_csv(weights_file_path).set_index('c_name').loc[classes_list].values[:,:n_features]\n",
    "    F = pd.read_csv(scores_file_path).set_index('class').loc[classes_list].sort_values(by='class')['f1_score'].to_list()\n",
    "    return W, F, classes_list\n",
    "\n",
    "# W, F, classes_list = generate_problem_data(test_classes_list)\n",
    "# n_classes = len(classes_list)\n",
    "\n",
    "def generate_problem_data(n_classes, n_features):\n",
    "    if n_classes == 24:\n",
    "        pcfi_data = pd.read_csv(weights_file_path).set_index('c_name')\n",
    "        W = pcfi_data.loc[~pcfi_data.index.isin()]\n",
    "        usable_classes_list =  W.index.to_list()\n",
    "        classes_list = usable_classes_list\n",
    "    else:\n",
    "        pcfi_data = pd.read_csv(weights_file_path).set_index('c_name')\n",
    "        W = pcfi_data.values[:n_classes,:n_features]\n",
    "        classes_list = list(pd.read_csv(weights_file_path)['c_name'].values)[:n_classes]\n",
    "        F1_data = pd.read_csv(scores_file_path).set_index('class')\n",
    "        F = F1_data.sort_values(by='class')['f1_score'].to_list()[:n_classes]\n",
    "    return W, F, classes_list\n",
    "\n",
    "W, F, classes_list = generate_problem_data(n_classes, n_features)"
   ]
  },
  {
   "cell_type": "code",
   "execution_count": 8,
   "id": "1d40d449-9b11-47cd-abf4-277816913ebb",
   "metadata": {},
   "outputs": [],
   "source": [
    "# W, F, classes_list = generate_test_problem_data(test_classes_list)\n",
    "# n_classes = len(classes_list)"
   ]
  },
  {
   "cell_type": "markdown",
   "id": "80c99fcd-41c7-4628-b082-a8b55ec13879",
   "metadata": {},
   "source": [
    "For testing purposes, you might want to pick a set of classes at random. Uncomment accordingly"
   ]
  },
  {
   "cell_type": "code",
   "execution_count": 9,
   "id": "fe5cdf30-6a0e-4bac-94c3-9eca8decc27d",
   "metadata": {},
   "outputs": [],
   "source": [
    "# class_idx = np.random.randint(0,25,12)\n",
    "#class_idx_list = np.random.choice(25, 12, replace=False)\n",
    "#pd.read_csv('importance_weights.csv').iloc[class_idx_list]['c_name'].to_list()\n",
    "# print(class_idx_list)"
   ]
  },
  {
   "cell_type": "markdown",
   "id": "4b63213b-9f56-4308-b553-a3cd031db181",
   "metadata": {},
   "source": [
    "Throughout this notebook, the order of the classes is important because we perform binary encoding in the problem formulation. Below, we check that how the performed ordering results:"
   ]
  },
  {
   "cell_type": "code",
   "execution_count": 10,
   "id": "1449a3bf-3ff5-4754-8d2a-350b2d99f120",
   "metadata": {},
   "outputs": [
    {
     "data": {
      "text/html": [
       "<div>\n",
       "<style scoped>\n",
       "    .dataframe tbody tr th:only-of-type {\n",
       "        vertical-align: middle;\n",
       "    }\n",
       "\n",
       "    .dataframe tbody tr th {\n",
       "        vertical-align: top;\n",
       "    }\n",
       "\n",
       "    .dataframe thead th {\n",
       "        text-align: right;\n",
       "    }\n",
       "</style>\n",
       "<table border=\"1\" class=\"dataframe\">\n",
       "  <thead>\n",
       "    <tr style=\"text-align: right;\">\n",
       "      <th></th>\n",
       "      <th>Unnamed: 0</th>\n",
       "      <th>f1_score</th>\n",
       "    </tr>\n",
       "    <tr>\n",
       "      <th>class</th>\n",
       "      <th></th>\n",
       "      <th></th>\n",
       "    </tr>\n",
       "  </thead>\n",
       "  <tbody>\n",
       "    <tr>\n",
       "      <th>backdoor</th>\n",
       "      <td>7</td>\n",
       "      <td>34.555176</td>\n",
       "    </tr>\n",
       "    <tr>\n",
       "      <th>ddos</th>\n",
       "      <td>6</td>\n",
       "      <td>66.605869</td>\n",
       "    </tr>\n",
       "    <tr>\n",
       "      <th>dos</th>\n",
       "      <td>8</td>\n",
       "      <td>38.844885</td>\n",
       "    </tr>\n",
       "    <tr>\n",
       "      <th>injection</th>\n",
       "      <td>1</td>\n",
       "      <td>55.093587</td>\n",
       "    </tr>\n",
       "    <tr>\n",
       "      <th>mitm</th>\n",
       "      <td>9</td>\n",
       "      <td>77.862595</td>\n",
       "    </tr>\n",
       "    <tr>\n",
       "      <th>normal</th>\n",
       "      <td>3</td>\n",
       "      <td>97.569651</td>\n",
       "    </tr>\n",
       "    <tr>\n",
       "      <th>password</th>\n",
       "      <td>2</td>\n",
       "      <td>55.087741</td>\n",
       "    </tr>\n",
       "    <tr>\n",
       "      <th>ransomware</th>\n",
       "      <td>5</td>\n",
       "      <td>69.291108</td>\n",
       "    </tr>\n",
       "    <tr>\n",
       "      <th>scanning</th>\n",
       "      <td>4</td>\n",
       "      <td>45.273836</td>\n",
       "    </tr>\n",
       "    <tr>\n",
       "      <th>xss</th>\n",
       "      <td>0</td>\n",
       "      <td>74.017805</td>\n",
       "    </tr>\n",
       "  </tbody>\n",
       "</table>\n",
       "</div>"
      ],
      "text/plain": [
       "            Unnamed: 0   f1_score\n",
       "class                            \n",
       "backdoor             7  34.555176\n",
       "ddos                 6  66.605869\n",
       "dos                  8  38.844885\n",
       "injection            1  55.093587\n",
       "mitm                 9  77.862595\n",
       "normal               3  97.569651\n",
       "password             2  55.087741\n",
       "ransomware           5  69.291108\n",
       "scanning             4  45.273836\n",
       "xss                  0  74.017805"
      ]
     },
     "execution_count": 10,
     "metadata": {},
     "output_type": "execute_result"
    }
   ],
   "source": [
    "pd.read_csv(scores_file_path).set_index('class').loc[classes_list].sort_values(by='class')"
   ]
  },
  {
   "cell_type": "markdown",
   "id": "06e1287f-a6f5-4233-b203-338003687a49",
   "metadata": {
    "jp-MarkdownHeadingCollapsed": true
   },
   "source": [
    "# Cost Computation"
   ]
  },
  {
   "cell_type": "markdown",
   "id": "dadb4b0c-e9b0-455d-bb0b-0b54719a33e8",
   "metadata": {},
   "source": [
    "In case you want to generate random data, uncomment the below cell"
   ]
  },
  {
   "cell_type": "code",
   "execution_count": 9,
   "id": "8fff9864",
   "metadata": {
    "ExecuteTime": {
     "end_time": "2024-05-23T08:09:12.586825Z",
     "start_time": "2024-05-23T08:09:12.584095Z"
    }
   },
   "outputs": [],
   "source": [
    "# W = softmax(np.array([[random.random() for i in range(10)] for j in range(10)]), 1)"
   ]
  },
  {
   "cell_type": "markdown",
   "id": "5bcd9bda-16f9-411b-b66a-ff8e43d69437",
   "metadata": {},
   "source": [
    "Verify the binary encoding of groups. A 1 in the ith position indicates that the ith class is considered for the group."
   ]
  },
  {
   "cell_type": "code",
   "execution_count": 11,
   "id": "e3da98d7",
   "metadata": {
    "ExecuteTime": {
     "end_time": "2024-05-23T08:09:12.594360Z",
     "start_time": "2024-05-23T08:09:12.588590Z"
    }
   },
   "outputs": [
    {
     "name": "stdout",
     "output_type": "stream",
     "text": [
      "[0 1 0 1 0 0 0 0 1 0]\n"
     ]
    }
   ],
   "source": [
    "s_j = np.random.randint(2, size=n_classes)\n",
    "print(s_j)"
   ]
  },
  {
   "cell_type": "code",
   "execution_count": 12,
   "id": "97fe068f",
   "metadata": {
    "ExecuteTime": {
     "end_time": "2024-05-23T08:09:25.967060Z",
     "start_time": "2024-05-23T08:09:25.959126Z"
    }
   },
   "outputs": [
    {
     "data": {
      "text/plain": [
       "(1, 0, 0, 0, 0, 0, 0, 0, 0, 0)"
      ]
     },
     "execution_count": 12,
     "metadata": {},
     "output_type": "execute_result"
    }
   ],
   "source": [
    "def onehot(y, max=n_classes):\n",
    "    \"\"\"Returns the one-hot encoding of the input\n",
    "    \n",
    "    Parameters\n",
    "    ----------\n",
    "    y: int\n",
    "    The value to be encoded\n",
    "    max: int\n",
    "    The max encodable value, i.e, the length of the array.\n",
    "\n",
    "    Returns\n",
    "    -------\n",
    "    tuple\n",
    "        The one-hot encoding of the input, y.\n",
    "    \"\"\"\n",
    "    return tuple([1 if x+1 == y else 0 for x in range(max)])\n",
    "onehot(1)"
   ]
  },
  {
   "cell_type": "markdown",
   "id": "1be2d50c-793c-418d-8753-ce1f6ea9e101",
   "metadata": {},
   "source": [
    "Phis is the list of all possible feature combinations, each binary encoded. We remove the empty and full options."
   ]
  },
  {
   "cell_type": "code",
   "execution_count": 13,
   "id": "5a2e99a3",
   "metadata": {
    "ExecuteTime": {
     "end_time": "2024-05-23T08:09:26.397885Z",
     "start_time": "2024-05-23T08:09:26.360211Z"
    }
   },
   "outputs": [],
   "source": [
    "phis = list(map(np.array, itertools.product([0, 1], repeat=n_features)))\n",
    "assert len(phis) == 2 ** n_features\n",
    "phis = phis[1:-1]"
   ]
  },
  {
   "cell_type": "markdown",
   "id": "5af6459f-4d2e-430a-be02-6683d5f5d203",
   "metadata": {},
   "source": [
    "The below cell purpose is to verify the dimensions of vectors and matrices. If it does not throw an error, everything is fine."
   ]
  },
  {
   "cell_type": "code",
   "execution_count": 14,
   "id": "347e3216-b0fd-4932-904c-b3c6fa327227",
   "metadata": {},
   "outputs": [
    {
     "data": {
      "text/plain": [
       "array([0.04594018, 0.12886445, 0.04001901, 0.09834689, 0.01022458,\n",
       "       0.13164753, 0.08608689, 0.02886611, 0.13522088, 0.18242779])"
      ]
     },
     "execution_count": 14,
     "metadata": {},
     "output_type": "execute_result"
    }
   ],
   "source": [
    "(W @ phis[100])"
   ]
  },
  {
   "cell_type": "code",
   "execution_count": 15,
   "id": "e2fcd4f8",
   "metadata": {
    "ExecuteTime": {
     "end_time": "2024-05-23T08:09:26.771867Z",
     "start_time": "2024-05-23T08:09:26.767059Z"
    }
   },
   "outputs": [
    {
     "data": {
      "text/plain": [
       "-3.637567784771706"
      ]
     },
     "execution_count": 15,
     "metadata": {},
     "output_type": "execute_result"
    }
   ],
   "source": [
    "s_j @ (W @ phis[100]) - np.ones(n_features) @ phis[100]"
   ]
  },
  {
   "cell_type": "markdown",
   "id": "27f32c19-b593-41de-b6fb-0db293c39d3a",
   "metadata": {},
   "source": [
    "Below is an example of how the best features combination is selected, via an exhaustive search. Later we use a closed-form solution."
   ]
  },
  {
   "cell_type": "code",
   "execution_count": 16,
   "id": "62d1b7b4",
   "metadata": {
    "ExecuteTime": {
     "end_time": "2024-05-23T08:09:28.289139Z",
     "start_time": "2024-05-23T08:09:27.945694Z"
    }
   },
   "outputs": [
    {
     "name": "stdout",
     "output_type": "stream",
     "text": [
      "The index providing the max is: 216322\n",
      "[0 0 0 1 1 0 1 0 0 1 1 0 1 0 0 0 0 0 0 1 1]\n",
      "1.275675170752495\n"
     ]
    }
   ],
   "source": [
    "max_values = np.array([s_j @ (W @ phi) - np.ones(n_features) * (1 / n_features) * (np.ones(n_classes) @ s_j) @ phi for phi in phis])\n",
    "res = np.argmax(max_values)\n",
    "print(f'The index providing the max is: {res}')\n",
    "phi_star = phis[res]\n",
    "print(phi_star)\n",
    "print(max_values[res])"
   ]
  },
  {
   "cell_type": "code",
   "execution_count": 17,
   "id": "6ec4b065",
   "metadata": {
    "ExecuteTime": {
     "end_time": "2024-05-23T08:09:31.757183Z",
     "start_time": "2024-05-23T08:09:31.433954Z"
    }
   },
   "outputs": [
    {
     "data": {
      "text/plain": [
       "[<matplotlib.lines.Line2D at 0x7f76ca4091c0>]"
      ]
     },
     "execution_count": 17,
     "metadata": {},
     "output_type": "execute_result"
    },
    {
     "data": {
      "image/png": "[encoded data removed]",
      "text/plain": [
       "<Figure size 640x480 with 1 Axes>"
      ]
     },
     "metadata": {},
     "output_type": "display_data"
    }
   ],
   "source": [
    "plt.plot(max_values)"
   ]
  },
  {
   "cell_type": "code",
   "execution_count": 18,
   "id": "d3a77ae0",
   "metadata": {
    "ExecuteTime": {
     "end_time": "2024-05-23T08:09:36.303591Z",
     "start_time": "2024-05-23T08:09:36.300480Z"
    }
   },
   "outputs": [
    {
     "name": "stdout",
     "output_type": "stream",
     "text": [
      "2.9999999999999996\n"
     ]
    }
   ],
   "source": [
    "# This should match the total importance of the selected classes, i.e., the sum of the ones in s_j\n",
    "total_possible_importance = np.ones(n_features)*(1/n_features)*(np.ones(n_classes)@s_j) @ np.ones(n_features)\n",
    "assert s_j.sum() - total_possible_importance < 0.01\n",
    "print(total_possible_importance)"
   ]
  },
  {
   "cell_type": "code",
   "execution_count": 19,
   "id": "df619b07",
   "metadata": {
    "ExecuteTime": {
     "end_time": "2024-05-23T08:09:37.225674Z",
     "start_time": "2024-05-23T08:09:37.221439Z"
    }
   },
   "outputs": [
    {
     "data": {
      "text/plain": [
       "3.0"
      ]
     },
     "execution_count": 19,
     "metadata": {},
     "output_type": "execute_result"
    }
   ],
   "source": [
    "# A simpler method is:\n",
    "np.ones(n_classes)@s_j"
   ]
  },
  {
   "cell_type": "code",
   "execution_count": 20,
   "id": "a7d32cac",
   "metadata": {
    "ExecuteTime": {
     "end_time": "2024-05-23T08:09:37.990879Z",
     "start_time": "2024-05-23T08:09:37.987094Z"
    }
   },
   "outputs": [
    {
     "name": "stdout",
     "output_type": "stream",
     "text": [
      "The per feature cost is:\n",
      "0.047619047619047616\n"
     ]
    }
   ],
   "source": [
    "print('The per feature cost is:')\n",
    "feature_cost = (1 / n_features) * (np.ones(n_features)  * (np.ones(n_classes) @ np.array(onehot(2,n_classes)))) @ onehot(1,n_features)\n",
    "print(feature_cost)"
   ]
  },
  {
   "cell_type": "code",
   "execution_count": 21,
   "id": "62b4b7a2",
   "metadata": {
    "ExecuteTime": {
     "end_time": "2024-05-23T08:09:40.343567Z",
     "start_time": "2024-05-23T08:09:40.339967Z"
    }
   },
   "outputs": [],
   "source": [
    "def compute_group_cost(s_j, W=W):\n",
    "    \"\"\"Old version. It does not consider the F1 scores and makes exhaustive search\n",
    "    \"\"\"\n",
    "    max_values = np.array([s_j @ (W @ phi) - np.ones(n_features) * (1 / n_features) * (np.ones(n_classes) @ s_j) @ phi for phi in phis])\n",
    "    res = np.argmax(max_values)\n",
    "    return n_classes - max_values[res], phis[res]"
   ]
  },
  {
   "cell_type": "code",
   "execution_count": 22,
   "id": "b7ccc98c",
   "metadata": {
    "ExecuteTime": {
     "end_time": "2024-05-23T08:09:40.522270Z",
     "start_time": "2024-05-23T08:09:40.518933Z"
    }
   },
   "outputs": [],
   "source": [
    "def compute_group_cost_v2(s_j, W=W,F=F):\n",
    "    \"\"\"Returns the cost of grouping s_j, provided the per class feature\n",
    "    importance matrix, W, and the F1 scores list F. Also provides the set\n",
    "    of features leading to such cost.\n",
    "    \n",
    "    Parameters\n",
    "    ----------\n",
    "    W: numpy.ndarray\n",
    "    The importance matrix\n",
    "    F: numpy.ndarray\n",
    "    The F1 score list of the classes.\n",
    "    s_j : numpy.ndarray\n",
    "    The considered grouping\n",
    "\n",
    "    Returns\n",
    "    -------\n",
    "    numpy.float64\n",
    "        The cost of the grouping\n",
    "    numpy.ndarray\n",
    "        The features selected for the grouping\n",
    "    \"\"\"\n",
    "    n_classes = W.shape[0]\n",
    "    feats = (s_j @ W - np.transpose(np.ones(n_features) * (1 / n_features) * (np.ones(n_classes) @ s_j)))>0\n",
    "    feats = feats.astype(int)\n",
    "    cost = n_classes - (s_j @ (W @ feats) - np.ones(n_features) * (1 / n_features) * (np.ones(n_classes) @ s_j) @ feats)\n",
    "    f_scores = np.array(list(itertools.compress(F, s_j)))\n",
    "    if (sum(s_j) <= 1):\n",
    "        f_score_cost = np.max(f_scores)\n",
    "    else:\n",
    "        f_score_cost = np.ptp(f_scores)\n",
    "    cost = cost*f_score_cost\n",
    "    return cost, feats"
   ]
  },
  {
   "cell_type": "code",
   "execution_count": 23,
   "id": "69226ef3",
   "metadata": {
    "ExecuteTime": {
     "end_time": "2024-05-23T08:09:40.868705Z",
     "start_time": "2024-05-23T08:09:40.865518Z"
    }
   },
   "outputs": [],
   "source": [
    "def compute_costs(W, S, F):\n",
    "    \"\"\"Computes, iteratively, the cost of all possible groupings, i.e., over 2 ** n_classes -1 groupings\n",
    "    \"\"\"\n",
    "    c = np.zeros(len(S))\n",
    "    feats = []\n",
    "    for j, s_j in enumerate(tqdm(S, disable=disable_tqdm)):\n",
    "        # c[j], feat = compute_group_cost(s_j)\n",
    "        c[j], feat = compute_group_cost_v2(s_j, W, F)\n",
    "        feats.append(feat)\n",
    "    return c, feats"
   ]
  },
  {
   "cell_type": "code",
   "execution_count": 24,
   "id": "f2b2ae16",
   "metadata": {
    "ExecuteTime": {
     "end_time": "2024-05-23T08:09:42.366801Z",
     "start_time": "2024-05-23T08:09:42.362524Z"
    }
   },
   "outputs": [
    {
     "data": {
      "text/plain": [
       "(186.10758402624697,\n",
       " array([0, 0, 0, 1, 1, 0, 1, 0, 0, 1, 1, 0, 1, 0, 0, 0, 0, 0, 0, 1, 1]))"
      ]
     },
     "execution_count": 24,
     "metadata": {},
     "output_type": "execute_result"
    }
   ],
   "source": [
    "compute_group_cost_v2(s_j)"
   ]
  },
  {
   "cell_type": "code",
   "execution_count": 25,
   "id": "1cf2f990",
   "metadata": {
    "ExecuteTime": {
     "end_time": "2024-05-23T08:09:43.909251Z",
     "start_time": "2024-05-23T08:09:43.518500Z"
    }
   },
   "outputs": [
    {
     "data": {
      "text/plain": [
       "(8.724324829247506,\n",
       " array([0, 0, 0, 1, 1, 0, 1, 0, 0, 1, 1, 0, 1, 0, 0, 0, 0, 0, 0, 1, 1]))"
      ]
     },
     "execution_count": 25,
     "metadata": {},
     "output_type": "execute_result"
    }
   ],
   "source": [
    "# does not consider F1 score. If removed from _v2, it should match the above. It shows that the close form is equivalent\n",
    "compute_group_cost(s_j)"
   ]
  },
  {
   "cell_type": "markdown",
   "id": "0f37aa02-eafa-4dbd-8bda-3a081097a98c",
   "metadata": {},
   "source": [
    "Below, we pre-compute the cost of each possible grouping."
   ]
  },
  {
   "cell_type": "code",
   "execution_count": 26,
   "id": "84a6baa1",
   "metadata": {
    "ExecuteTime": {
     "end_time": "2024-05-23T08:14:17.513828Z",
     "start_time": "2024-05-23T08:09:55.574125Z"
    }
   },
   "outputs": [],
   "source": [
    "S = list(map(np.array, itertools.product([0, 1], repeat=n_classes)))[1:-1]\n",
    "C, feats =  compute_costs(W, S, F)"
   ]
  },
  {
   "cell_type": "markdown",
   "id": "84531881",
   "metadata": {},
   "source": [
    "# Formulate ILP"
   ]
  },
  {
   "cell_type": "code",
   "execution_count": 27,
   "id": "9c238cc2",
   "metadata": {
    "ExecuteTime": {
     "end_time": "2024-05-23T08:15:22.978429Z",
     "start_time": "2024-05-23T08:15:19.138054Z"
    }
   },
   "outputs": [],
   "source": [
    "possible_partitions = list(map(tuple, itertools.product([0, 1], repeat=n_classes)))[1:-1]"
   ]
  },
  {
   "cell_type": "code",
   "execution_count": 28,
   "id": "146058c9",
   "metadata": {
    "ExecuteTime": {
     "end_time": "2024-05-23T08:16:35.586730Z",
     "start_time": "2024-05-23T08:15:31.716624Z"
    }
   },
   "outputs": [],
   "source": [
    "x = pulp.LpVariable.dicts('part', possible_partitions, lowBound=0, upBound=1, cat=pulp.LpInteger)"
   ]
  },
  {
   "cell_type": "code",
   "execution_count": 29,
   "id": "9311f008",
   "metadata": {
    "ExecuteTime": {
     "end_time": "2024-05-23T08:16:44.981963Z",
     "start_time": "2024-05-23T08:16:44.979283Z"
    }
   },
   "outputs": [],
   "source": [
    "part_model = pulp.LpProblem('Part_Model', pulp.LpMinimize)"
   ]
  },
  {
   "cell_type": "code",
   "execution_count": 30,
   "id": "f7415513",
   "metadata": {
    "ExecuteTime": {
     "end_time": "2024-05-23T08:19:07.072967Z",
     "start_time": "2024-05-23T08:16:58.864180Z"
    }
   },
   "outputs": [],
   "source": [
    "part_model += pulp.lpSum((C[i]*x[part] for i,part in enumerate(possible_partitions)))"
   ]
  },
  {
   "cell_type": "markdown",
   "id": "d90e5e48-e5b1-4031-bdd9-a2491ff2fdac",
   "metadata": {},
   "source": [
    "**Attention!** Modify the below cell to specify the maximum number of classes"
   ]
  },
  {
   "cell_type": "code",
   "execution_count": 31,
   "id": "1278724f",
   "metadata": {
    "ExecuteTime": {
     "end_time": "2024-05-23T08:24:07.390991Z",
     "start_time": "2024-05-23T08:22:39.013919Z"
    }
   },
   "outputs": [],
   "source": [
    "part_model += (\n",
    "    pulp.lpSum([x[part] for part in possible_partitions]) <= n_classes-1,\n",
    "    # pulp.lpSum([x[part] for part in possible_partitions]) <= 2,\n",
    "    \"Maximum_number_of_partitions\",\n",
    ")"
   ]
  },
  {
   "cell_type": "code",
   "execution_count": 32,
   "id": "082971a0",
   "metadata": {
    "jupyter": {
     "is_executing": true
    }
   },
   "outputs": [],
   "source": [
    "for i in range(n_classes):\n",
    "    # print(onehot(i+1, n_classes))\n",
    "    part_model += (\n",
    "            pulp.lpSum([x[part] for part in possible_partitions if part[i]==1])==1,\n",
    "            f\"Must_include_{onehot(i+1, n_classes)}\",\n",
    "    )"
   ]
  },
  {
   "cell_type": "code",
   "execution_count": 33,
   "id": "8f58836d",
   "metadata": {
    "jupyter": {
     "is_executing": true
    },
    "scrolled": true
   },
   "outputs": [
    {
     "name": "stdout",
     "output_type": "stream",
     "text": [
      "Welcome to the CBC MILP Solver \n",
      "Version: 2.10.3 \n",
      "Build Date: Dec 15 2019 \n",
      "\n",
      "command line - /home/ddeandres/jupyter/.venv/lib/python3.8/site-packages/pulp/solverdir/cbc/linux/64/cbc /tmp/89dd650ab2ce4e0fa7aa358f0d2ccf76-pulp.mps -threads 4 -timeMode elapsed -branch -printingOptions all -solution /tmp/89dd650ab2ce4e0fa7aa358f0d2ccf76-pulp.sol (default strategy 1)\n",
      "At line 2 NAME          MODEL\n",
      "At line 3 ROWS\n",
      "At line 16 COLUMNS\n",
      "At line 9215 RHS\n",
      "At line 9227 BOUNDS\n",
      "At line 10250 ENDATA\n",
      "Problem MODEL has 11 rows, 1022 columns and 6132 elements\n",
      "Coin0008I MODEL read with 0 errors\n",
      "threads was changed from 0 to 4\n",
      "Option for timeMode changed from cpu to elapsed\n",
      "Continuous objective value is 319.353 - 0.00 seconds\n",
      "Cgl0004I processed model has 11 rows, 1022 columns (1022 integer (1022 of which binary)) and 6132 elements\n",
      "Cbc0038I Initial state - 0 integers unsatisfied sum - 0\n",
      "Cbc0038I Solution found of 319.353\n",
      "Cbc0038I Before mini branch and bound, 1022 integers at bound fixed and 0 continuous\n",
      "Cbc0038I Mini branch and bound did not improve solution (0.01 seconds)\n",
      "Cbc0038I After 0.01 seconds - Feasibility pump exiting with objective of 319.353 - took 0.00 seconds\n",
      "Cbc0012I Integer solution of 319.35262 found by feasibility pump after 0 iterations and 0 nodes (0.01 seconds)\n",
      "Cbc0030I Thread 0 used 0 times,  waiting to start 0.0037460327, 0 cpu time, 0 locks, 0 locked, 0 waiting for locks\n",
      "Cbc0030I Thread 1 used 0 times,  waiting to start 0.0027799606, 0 cpu time, 0 locks, 0 locked, 0 waiting for locks\n",
      "Cbc0030I Thread 2 used 0 times,  waiting to start 0.0017199516, 0 cpu time, 0 locks, 0 locked, 0 waiting for locks\n",
      "Cbc0030I Thread 3 used 0 times,  waiting to start 0.00063514709, 0 cpu time, 0 locks, 0 locked, 0 waiting for locks\n",
      "Cbc0030I Main thread 0 waiting for threads,  1 locks, 1.9073486e-06 locked, 0 waiting for locks\n",
      "Cbc0001I Search completed - best objective 319.3526225284732, took 0 iterations and 0 nodes (0.01 seconds)\n",
      "Cbc0035I Maximum depth 0, 0 variables fixed on reduced cost\n",
      "Cuts at root node changed objective from 319.353 to 319.353\n",
      "Probing was tried 0 times and created 0 cuts of which 0 were active after adding rounds of cuts (0.000 seconds)\n",
      "Gomory was tried 0 times and created 0 cuts of which 0 were active after adding rounds of cuts (0.000 seconds)\n",
      "Knapsack was tried 0 times and created 0 cuts of which 0 were active after adding rounds of cuts (0.000 seconds)\n",
      "Clique was tried 0 times and created 0 cuts of which 0 were active after adding rounds of cuts (0.000 seconds)\n",
      "MixedIntegerRounding2 was tried 0 times and created 0 cuts of which 0 were active after adding rounds of cuts (0.000 seconds)\n",
      "FlowCover was tried 0 times and created 0 cuts of which 0 were active after adding rounds of cuts (0.000 seconds)\n",
      "TwoMirCuts was tried 0 times and created 0 cuts of which 0 were active after adding rounds of cuts (0.000 seconds)\n",
      "ZeroHalf was tried 0 times and created 0 cuts of which 0 were active after adding rounds of cuts (0.000 seconds)\n",
      "\n",
      "Result - Optimal solution found\n",
      "\n",
      "Objective value:                319.35262253\n",
      "Enumerated nodes:               0\n",
      "Total iterations:               0\n",
      "Time (CPU seconds):             0.02\n",
      "Time (Wallclock seconds):       0.02\n",
      "\n",
      "Option for printingOptions changed from normal to all\n",
      "Total time (CPU seconds):       0.02   (Wallclock seconds):       0.02\n",
      "\n"
     ]
    },
    {
     "data": {
      "text/plain": [
       "1"
      ]
     },
     "execution_count": 33,
     "metadata": {},
     "output_type": "execute_result"
    }
   ],
   "source": [
    "part_model.solve(solver=pulp.apis.PULP_CBC_CMD(threads=4))"
   ]
  },
  {
   "cell_type": "code",
   "execution_count": 34,
   "id": "1924f8fa",
   "metadata": {
    "ExecuteTime": {
     "end_time": "2024-05-22T13:51:00.202568Z",
     "start_time": "2024-05-22T13:51:00.198804Z"
    }
   },
   "outputs": [
    {
     "name": "stdout",
     "output_type": "stream",
     "text": [
      "The clusters are:\n",
      "['mitm', 'normal', 'xss']\n",
      "ENCODING: [0, 0, 0, 0, 1, 1, 0, 0, 0, 1]\n",
      "\n",
      "['injection', 'password']\n",
      "ENCODING: [0, 0, 0, 1, 0, 0, 1, 0, 0, 0]\n",
      "\n",
      "['ddos', 'ransomware']\n",
      "ENCODING: [0, 1, 0, 0, 0, 0, 0, 1, 0, 0]\n",
      "\n",
      "['backdoor', 'dos', 'scanning']\n",
      "ENCODING: [1, 0, 1, 0, 0, 0, 0, 0, 1, 0]\n",
      "\n"
     ]
    }
   ],
   "source": [
    "print(f\"The clusters are:\")\n",
    "partition = []\n",
    "for part in possible_partitions:\n",
    "    if x[part].value() == 1.0:\n",
    "        partition.append(list(part))\n",
    "\n",
    "for part in partition:\n",
    "    part_labels = [c for mask, c in zip(part,classes_list) if mask==1]\n",
    "    print(part_labels)\n",
    "    print(\"ENCODING:\", part)\n",
    "    print()\n"
   ]
  },
  {
   "cell_type": "code",
   "execution_count": 35,
   "id": "aeaa36b1",
   "metadata": {
    "ExecuteTime": {
     "end_time": "2024-05-20T14:20:25.772354Z",
     "start_time": "2024-05-20T14:20:25.769485Z"
    }
   },
   "outputs": [],
   "source": [
    "# Need to recover which feature each grouping would use"
   ]
  },
  {
   "cell_type": "code",
   "execution_count": 36,
   "id": "c6cf3a87",
   "metadata": {
    "ExecuteTime": {
     "end_time": "2024-05-20T14:20:26.150726Z",
     "start_time": "2024-05-20T14:20:26.146345Z"
    }
   },
   "outputs": [],
   "source": [
    "clusters = [sum([2**i for i,val in enumerate(reversed(part)) if val==1]) for part in possible_partitions if x[part].value() == 1.0]"
   ]
  },
  {
   "cell_type": "code",
   "execution_count": 37,
   "id": "4f7a2edd",
   "metadata": {
    "ExecuteTime": {
     "end_time": "2024-05-20T14:20:26.402943Z",
     "start_time": "2024-05-20T14:20:26.398939Z"
    }
   },
   "outputs": [
    {
     "data": {
      "text/plain": [
       "[49, 72, 260, 642]"
      ]
     },
     "execution_count": 37,
     "metadata": {},
     "output_type": "execute_result"
    }
   ],
   "source": [
    "clusters"
   ]
  },
  {
   "cell_type": "code",
   "execution_count": 54,
   "id": "f2c04c23",
   "metadata": {
    "ExecuteTime": {
     "end_time": "2024-05-20T14:20:26.714935Z",
     "start_time": "2024-05-20T14:20:26.710230Z"
    }
   },
   "outputs": [
    {
     "name": "stdout",
     "output_type": "stream",
     "text": [
      "['Max Packet Length', 'Packet Length Total', 'dstport', 'ip.len', 'ip.ttl', 'srcport', 'tcp.window_size_value', 'udp.length']\n",
      "['Max Packet Length', 'Min Packet Length', 'Packet Length Total', 'dstport', 'ip.len', 'tcp.window_size_value']\n",
      "['Max Packet Length', 'Min Packet Length', 'Packet Length Total', 'dstport', 'ip.len', 'srcport', 'tcp.window_size_value', 'udp.length']\n",
      "['Max Packet Length', 'Min Packet Length', 'Packet Length Total', 'dstport', 'ip.len', 'ip.ttl', 'srcport', 'tcp.window_size_value']\n"
     ]
    }
   ],
   "source": [
    "costs = [C[id-1] for id in clusters]\n",
    "cluster_feats = [feats[id-1] for id in clusters]\n",
    "# print(costs)\n",
    "for item in cluster_feats:\n",
    "    feats_labels = [f for mask, f in zip(item,features_list) if mask==1]\n",
    "    print(feats_labels)\n",
    "    # print(\"ENCODING:\",item)"
   ]
  },
  {
   "cell_type": "code",
   "execution_count": 55,
   "id": "6a355ce6-f753-4d39-826a-db3f4724a7b7",
   "metadata": {},
   "outputs": [
    {
     "data": {
      "text/plain": [
       "['ACK Flag Count',\n",
       " 'ECE Flag Count',\n",
       " 'FIN Flag Count',\n",
       " 'Max Packet Length',\n",
       " 'Min Packet Length',\n",
       " 'PSH Flag Count',\n",
       " 'Packet Length Total',\n",
       " 'RST Flag Count',\n",
       " 'SYN Flag Count',\n",
       " 'dstport',\n",
       " 'ip.len',\n",
       " 'ip.proto',\n",
       " 'ip.ttl',\n",
       " 'srcport',\n",
       " 'tcp.flags.ack',\n",
       " 'tcp.flags.push',\n",
       " 'tcp.flags.rst',\n",
       " 'tcp.flags.syn',\n",
       " 'tcp.hdr_len',\n",
       " 'tcp.window_size_value',\n",
       " 'udp.length']"
      ]
     },
     "execution_count": 55,
     "metadata": {},
     "output_type": "execute_result"
    }
   ],
   "source": [
    "features_list"
   ]
  },
  {
   "cell_type": "code",
   "execution_count": 38,
   "id": "d2d043c0",
   "metadata": {
    "ExecuteTime": {
     "end_time": "2024-05-20T14:20:27.921520Z",
     "start_time": "2024-05-20T14:20:27.917669Z"
    }
   },
   "outputs": [
    {
     "data": {
      "text/plain": [
       "594.4505031292674"
      ]
     },
     "execution_count": 38,
     "metadata": {},
     "output_type": "execute_result"
    }
   ],
   "source": [
    "sum(costs)"
   ]
  },
  {
   "cell_type": "code",
   "execution_count": 73,
   "id": "670a964d-dcb0-4620-bbd3-2f1cccb49804",
   "metadata": {},
   "outputs": [],
   "source": [
    "def cluster_sol_to_csv(partition, cluster_feats, dst):\n",
    "    # for part, cluster_feats in zip(partition, cluster_feats):\n",
    "    part_labels = [[c for mask, c in zip(part,classes_list) if mask==1] for part in partition]\n",
    "    feats_labels = [[f for mask, f in zip(item,features_list) if mask==1] for item in cluster_feats]\n",
    "    cluster_sol = pd.DataFrame({'Cluster': list(range(len(partition))),\n",
    "                         'Class List': part_labels,\n",
    "                         'Feature List': feats_labels,\n",
    "                         'Depth': [-1]*len(partition),\n",
    "                         'Tree': [-1]*len(partition),\n",
    "                         'Feats': [-1]*len(partition)\n",
    "                        })\n",
    "\n",
    "    print(cluster_sol)\n",
    "    cluster_sol.to_csv(dst)\n",
    "    "
   ]
  },
  {
   "cell_type": "code",
   "execution_count": 66,
   "id": "45e0e42d-c248-45ec-9b3d-5e2282e757cb",
   "metadata": {},
   "outputs": [
    {
     "name": "stdout",
     "output_type": "stream",
     "text": [
      "   Cluster                 Class List  \\\n",
      "0        0        [mitm, normal, xss]   \n",
      "1        1      [injection, password]   \n",
      "2        2         [ddos, ransomware]   \n",
      "3        3  [backdoor, dos, scanning]   \n",
      "\n",
      "                                       Features List  Depth  Tree  Feats  \n",
      "0  [Max Packet Length, Packet Length Total, dstpo...     -1    -1     -1  \n",
      "1  [Max Packet Length, Min Packet Length, Packet ...     -1    -1     -1  \n",
      "2  [Max Packet Length, Min Packet Length, Packet ...     -1    -1     -1  \n",
      "3  [Max Packet Length, Min Packet Length, Packet ...     -1    -1     -1  \n"
     ]
    }
   ],
   "source": [
    "cluster_sol_to_csv(partition, cluster_feats, 'ToN-IoT_SPP_solution.csv')"
   ]
  },
  {
   "cell_type": "code",
   "execution_count": 450,
   "id": "7976a229-c0bb-4888-9b9b-8ca1217ed238",
   "metadata": {},
   "outputs": [],
   "source": [
    "def solve_SPP_with_ILP(n_classes, n_features=15):\n",
    "    W, F, classes_list = generate_problem_data(n_classes, n_features)\n",
    "    # print(W.shape)\n",
    "    # print(len(F))\n",
    "    # return\n",
    "    S = list(map(np.array, itertools.product([0, 1], repeat=n_classes)))[1:-1]\n",
    "    C, feats =  compute_costs(W, S, F)\n",
    "    \n",
    "    possible_partitions = list(map(tuple, itertools.product([0, 1], repeat=n_classes)))[1:-1]\n",
    "    x = pulp.LpVariable.dicts('part', possible_partitions, lowBound=0, upBound=1, cat=pulp.LpInteger)\n",
    "    part_model = pulp.LpProblem('Part_Model', pulp.LpMinimize)\n",
    "    part_model += pulp.lpSum((C[i]*x[part] for i,part in enumerate(possible_partitions)))\n",
    "\n",
    "    part_model += (\n",
    "        pulp.lpSum([x[part] for part in possible_partitions]) <= n_classes-1,\n",
    "        \"Maximum_number_of_partitions\",\n",
    "    )\n",
    "\n",
    "    for i in range(n_classes):\n",
    "        part_model += (\n",
    "                pulp.lpSum([x[part] for part in possible_partitions if part[i]==1])==1,\n",
    "                f\"Must_include_{onehot(i+1, n_classes)}\",\n",
    "        )\n",
    "    part_model.solve(solver=pulp.apis.PULP_CBC_CMD(threads=1, msg=0))\n",
    "    return pulp.value(part_model.objective)"
   ]
  },
  {
   "cell_type": "code",
   "execution_count": 453,
   "id": "1d718dd0-01fd-40ff-83eb-ad7f44ca857e",
   "metadata": {},
   "outputs": [
    {
     "data": {
      "application/vnd.jupyter.widget-view+json": {
       "model_id": "2b541b2f664b460489caa3a88e86339b",
       "version_major": 2,
       "version_minor": 0
      },
      "text/plain": [
       "  0%|          | 0/4094 [00:00<?, ?it/s]"
      ]
     },
     "metadata": {},
     "output_type": "display_data"
    },
    {
     "data": {
      "text/plain": [
       "482.7438015442232"
      ]
     },
     "execution_count": 453,
     "metadata": {},
     "output_type": "execute_result"
    }
   ],
   "source": [
    "solve_SPP_with_ILP(12)"
   ]
  },
  {
   "cell_type": "markdown",
   "id": "0a566b8a",
   "metadata": {},
   "source": [
    "# Compare correlation to euristic"
   ]
  },
  {
   "cell_type": "code",
   "execution_count": 271,
   "id": "7f79981a-cda5-49eb-8d2b-62607a518126",
   "metadata": {},
   "outputs": [],
   "source": [
    "test_classes_list = None"
   ]
  },
  {
   "cell_type": "code",
   "execution_count": 279,
   "id": "7c58bb53",
   "metadata": {
    "ExecuteTime": {
     "end_time": "2024-05-20T09:38:49.729267Z",
     "start_time": "2024-05-20T09:38:49.723276Z"
    }
   },
   "outputs": [],
   "source": [
    "# pcfi_data = pd.read_csv('importance_weights.csv').set_index('c_name').loc[test_classes_list].sort_values(by='c_name')\n",
    "# pcfi_data = pcfi_data.loc[~pcfi_data.index.isin(['Blipcare Blood Pressure meter', 'IPhone'])]\n",
    "if test_classes_list is not None:\n",
    "    n_classes = len(classes_list)\n",
    "    W_df = pd.read_csv('importance_weights.csv').set_index('c_name').loc[classes_list].sort_values(by='c_name')\n",
    "else:\n",
    "    W_df = pd.read_csv('importance_weights.csv').set_index('c_name').sort_values(by='c_name')"
   ]
  },
  {
   "cell_type": "code",
   "execution_count": 280,
   "id": "c80d5df9-85f9-4177-86ca-b142d2ba307b",
   "metadata": {},
   "outputs": [
    {
     "data": {
      "text/html": [
       "<div>\n",
       "<style scoped>\n",
       "    .dataframe tbody tr th:only-of-type {\n",
       "        vertical-align: middle;\n",
       "    }\n",
       "\n",
       "    .dataframe tbody tr th {\n",
       "        vertical-align: top;\n",
       "    }\n",
       "\n",
       "    .dataframe thead th {\n",
       "        text-align: right;\n",
       "    }\n",
       "</style>\n",
       "<table border=\"1\" class=\"dataframe\">\n",
       "  <thead>\n",
       "    <tr style=\"text-align: right;\">\n",
       "      <th></th>\n",
       "      <th>Flow Duration</th>\n",
       "      <th>Flow IAT Max</th>\n",
       "      <th>Flow IAT Mean</th>\n",
       "      <th>Flow IAT Min</th>\n",
       "      <th>Max Packet Length</th>\n",
       "      <th>Packet Length Mean</th>\n",
       "      <th>Packet Length Total</th>\n",
       "      <th>dstport</th>\n",
       "      <th>ip.len</th>\n",
       "      <th>ip.ttl</th>\n",
       "      <th>srcport</th>\n",
       "      <th>tcp.flags.rst</th>\n",
       "      <th>tcp.hdr_len</th>\n",
       "      <th>tcp.window_size_value</th>\n",
       "      <th>udp.length</th>\n",
       "    </tr>\n",
       "    <tr>\n",
       "      <th>c_name</th>\n",
       "      <th></th>\n",
       "      <th></th>\n",
       "      <th></th>\n",
       "      <th></th>\n",
       "      <th></th>\n",
       "      <th></th>\n",
       "      <th></th>\n",
       "      <th></th>\n",
       "      <th></th>\n",
       "      <th></th>\n",
       "      <th></th>\n",
       "      <th></th>\n",
       "      <th></th>\n",
       "      <th></th>\n",
       "      <th></th>\n",
       "    </tr>\n",
       "  </thead>\n",
       "  <tbody>\n",
       "    <tr>\n",
       "      <th>Amazon Echo</th>\n",
       "      <td>0.025057</td>\n",
       "      <td>0.027310</td>\n",
       "      <td>0.019237</td>\n",
       "      <td>0.017046</td>\n",
       "      <td>0.018665</td>\n",
       "      <td>0.012802</td>\n",
       "      <td>0.023736</td>\n",
       "      <td>0.074084</td>\n",
       "      <td>0.207489</td>\n",
       "      <td>0.139627</td>\n",
       "      <td>0.082112</td>\n",
       "      <td>0.009047</td>\n",
       "      <td>0.049904</td>\n",
       "      <td>0.142995</td>\n",
       "      <td>0.150889</td>\n",
       "    </tr>\n",
       "    <tr>\n",
       "      <th>Android Phone</th>\n",
       "      <td>0.045712</td>\n",
       "      <td>0.044124</td>\n",
       "      <td>0.046229</td>\n",
       "      <td>0.042840</td>\n",
       "      <td>0.041711</td>\n",
       "      <td>0.043758</td>\n",
       "      <td>0.042119</td>\n",
       "      <td>0.132792</td>\n",
       "      <td>0.120788</td>\n",
       "      <td>0.095389</td>\n",
       "      <td>0.148426</td>\n",
       "      <td>0.003311</td>\n",
       "      <td>0.020614</td>\n",
       "      <td>0.098158</td>\n",
       "      <td>0.074029</td>\n",
       "    </tr>\n",
       "    <tr>\n",
       "      <th>Belkin Wemo switch</th>\n",
       "      <td>0.018121</td>\n",
       "      <td>0.022457</td>\n",
       "      <td>0.020888</td>\n",
       "      <td>0.010830</td>\n",
       "      <td>0.092648</td>\n",
       "      <td>0.109969</td>\n",
       "      <td>0.125304</td>\n",
       "      <td>0.109375</td>\n",
       "      <td>0.110122</td>\n",
       "      <td>0.008969</td>\n",
       "      <td>0.122614</td>\n",
       "      <td>0.001983</td>\n",
       "      <td>0.018211</td>\n",
       "      <td>0.207913</td>\n",
       "      <td>0.020596</td>\n",
       "    </tr>\n",
       "    <tr>\n",
       "      <th>Belkin wemo motion sensor</th>\n",
       "      <td>0.017571</td>\n",
       "      <td>0.013200</td>\n",
       "      <td>0.013201</td>\n",
       "      <td>0.015718</td>\n",
       "      <td>0.098347</td>\n",
       "      <td>0.064911</td>\n",
       "      <td>0.120646</td>\n",
       "      <td>0.087788</td>\n",
       "      <td>0.083839</td>\n",
       "      <td>0.024094</td>\n",
       "      <td>0.195196</td>\n",
       "      <td>0.003932</td>\n",
       "      <td>0.041293</td>\n",
       "      <td>0.191854</td>\n",
       "      <td>0.028411</td>\n",
       "    </tr>\n",
       "    <tr>\n",
       "      <th>Blipcare Blood Pressure meter</th>\n",
       "      <td>0.058396</td>\n",
       "      <td>0.041963</td>\n",
       "      <td>0.068034</td>\n",
       "      <td>0.110424</td>\n",
       "      <td>0.042291</td>\n",
       "      <td>0.038395</td>\n",
       "      <td>0.046364</td>\n",
       "      <td>0.066484</td>\n",
       "      <td>0.073997</td>\n",
       "      <td>0.074138</td>\n",
       "      <td>0.183575</td>\n",
       "      <td>0.000007</td>\n",
       "      <td>0.043919</td>\n",
       "      <td>0.105386</td>\n",
       "      <td>0.046628</td>\n",
       "    </tr>\n",
       "    <tr>\n",
       "      <th>Dropcam</th>\n",
       "      <td>0.075238</td>\n",
       "      <td>0.048626</td>\n",
       "      <td>0.043006</td>\n",
       "      <td>0.030399</td>\n",
       "      <td>0.058361</td>\n",
       "      <td>0.046531</td>\n",
       "      <td>0.040391</td>\n",
       "      <td>0.057094</td>\n",
       "      <td>0.188075</td>\n",
       "      <td>0.083935</td>\n",
       "      <td>0.106228</td>\n",
       "      <td>0.000281</td>\n",
       "      <td>0.013296</td>\n",
       "      <td>0.038989</td>\n",
       "      <td>0.169548</td>\n",
       "    </tr>\n",
       "    <tr>\n",
       "      <th>HP Printer</th>\n",
       "      <td>0.037637</td>\n",
       "      <td>0.052840</td>\n",
       "      <td>0.048135</td>\n",
       "      <td>0.059175</td>\n",
       "      <td>0.035814</td>\n",
       "      <td>0.042276</td>\n",
       "      <td>0.042890</td>\n",
       "      <td>0.091708</td>\n",
       "      <td>0.049723</td>\n",
       "      <td>0.076614</td>\n",
       "      <td>0.186795</td>\n",
       "      <td>0.002026</td>\n",
       "      <td>0.012076</td>\n",
       "      <td>0.229024</td>\n",
       "      <td>0.033269</td>\n",
       "    </tr>\n",
       "    <tr>\n",
       "      <th>IPhone</th>\n",
       "      <td>0.029494</td>\n",
       "      <td>0.033630</td>\n",
       "      <td>0.031662</td>\n",
       "      <td>0.045338</td>\n",
       "      <td>0.007314</td>\n",
       "      <td>0.009832</td>\n",
       "      <td>0.010185</td>\n",
       "      <td>0.166205</td>\n",
       "      <td>0.055219</td>\n",
       "      <td>0.016105</td>\n",
       "      <td>0.534213</td>\n",
       "      <td>0.000071</td>\n",
       "      <td>0.001478</td>\n",
       "      <td>0.014229</td>\n",
       "      <td>0.045025</td>\n",
       "    </tr>\n",
       "    <tr>\n",
       "      <th>Insteon Camera</th>\n",
       "      <td>0.014977</td>\n",
       "      <td>0.014926</td>\n",
       "      <td>0.013501</td>\n",
       "      <td>0.017138</td>\n",
       "      <td>0.022827</td>\n",
       "      <td>0.015943</td>\n",
       "      <td>0.029497</td>\n",
       "      <td>0.098815</td>\n",
       "      <td>0.248757</td>\n",
       "      <td>0.076138</td>\n",
       "      <td>0.045764</td>\n",
       "      <td>0.109386</td>\n",
       "      <td>0.046439</td>\n",
       "      <td>0.076698</td>\n",
       "      <td>0.169194</td>\n",
       "    </tr>\n",
       "    <tr>\n",
       "      <th>Laptop</th>\n",
       "      <td>0.022977</td>\n",
       "      <td>0.030091</td>\n",
       "      <td>0.021638</td>\n",
       "      <td>0.011191</td>\n",
       "      <td>0.052492</td>\n",
       "      <td>0.048265</td>\n",
       "      <td>0.046957</td>\n",
       "      <td>0.088975</td>\n",
       "      <td>0.067205</td>\n",
       "      <td>0.194850</td>\n",
       "      <td>0.098118</td>\n",
       "      <td>0.017285</td>\n",
       "      <td>0.129218</td>\n",
       "      <td>0.129007</td>\n",
       "      <td>0.041733</td>\n",
       "    </tr>\n",
       "    <tr>\n",
       "      <th>Light Bulbs LiFX Smart Bulb</th>\n",
       "      <td>0.003884</td>\n",
       "      <td>0.004336</td>\n",
       "      <td>0.004403</td>\n",
       "      <td>0.003794</td>\n",
       "      <td>0.004355</td>\n",
       "      <td>0.004487</td>\n",
       "      <td>0.005747</td>\n",
       "      <td>0.275347</td>\n",
       "      <td>0.117889</td>\n",
       "      <td>0.252258</td>\n",
       "      <td>0.135137</td>\n",
       "      <td>0.001922</td>\n",
       "      <td>0.010465</td>\n",
       "      <td>0.018828</td>\n",
       "      <td>0.157149</td>\n",
       "    </tr>\n",
       "    <tr>\n",
       "      <th>MacBook</th>\n",
       "      <td>0.010415</td>\n",
       "      <td>0.006352</td>\n",
       "      <td>0.008697</td>\n",
       "      <td>0.005311</td>\n",
       "      <td>0.008298</td>\n",
       "      <td>0.007290</td>\n",
       "      <td>0.007732</td>\n",
       "      <td>0.055984</td>\n",
       "      <td>0.056533</td>\n",
       "      <td>0.060858</td>\n",
       "      <td>0.086244</td>\n",
       "      <td>0.007385</td>\n",
       "      <td>0.348343</td>\n",
       "      <td>0.290032</td>\n",
       "      <td>0.040526</td>\n",
       "    </tr>\n",
       "    <tr>\n",
       "      <th>NEST Protect smoke alarm</th>\n",
       "      <td>0.089982</td>\n",
       "      <td>0.073588</td>\n",
       "      <td>0.070527</td>\n",
       "      <td>0.053515</td>\n",
       "      <td>0.045583</td>\n",
       "      <td>0.064877</td>\n",
       "      <td>0.022036</td>\n",
       "      <td>0.082091</td>\n",
       "      <td>0.082336</td>\n",
       "      <td>0.145679</td>\n",
       "      <td>0.098962</td>\n",
       "      <td>0.000066</td>\n",
       "      <td>0.026786</td>\n",
       "      <td>0.107495</td>\n",
       "      <td>0.036477</td>\n",
       "    </tr>\n",
       "    <tr>\n",
       "      <th>Netatmo Welcome</th>\n",
       "      <td>0.035664</td>\n",
       "      <td>0.043433</td>\n",
       "      <td>0.024045</td>\n",
       "      <td>0.008468</td>\n",
       "      <td>0.033840</td>\n",
       "      <td>0.032852</td>\n",
       "      <td>0.035022</td>\n",
       "      <td>0.167240</td>\n",
       "      <td>0.089711</td>\n",
       "      <td>0.158423</td>\n",
       "      <td>0.107887</td>\n",
       "      <td>0.006183</td>\n",
       "      <td>0.026895</td>\n",
       "      <td>0.170002</td>\n",
       "      <td>0.060335</td>\n",
       "    </tr>\n",
       "    <tr>\n",
       "      <th>Netatmo weather station</th>\n",
       "      <td>0.038474</td>\n",
       "      <td>0.056783</td>\n",
       "      <td>0.084188</td>\n",
       "      <td>0.023134</td>\n",
       "      <td>0.032762</td>\n",
       "      <td>0.042676</td>\n",
       "      <td>0.060017</td>\n",
       "      <td>0.122004</td>\n",
       "      <td>0.052896</td>\n",
       "      <td>0.113677</td>\n",
       "      <td>0.140905</td>\n",
       "      <td>0.006198</td>\n",
       "      <td>0.117557</td>\n",
       "      <td>0.092282</td>\n",
       "      <td>0.016446</td>\n",
       "    </tr>\n",
       "    <tr>\n",
       "      <th>PIX-STAR Photo-frame</th>\n",
       "      <td>0.015124</td>\n",
       "      <td>0.019369</td>\n",
       "      <td>0.013265</td>\n",
       "      <td>0.012777</td>\n",
       "      <td>0.013310</td>\n",
       "      <td>0.018940</td>\n",
       "      <td>0.014072</td>\n",
       "      <td>0.095814</td>\n",
       "      <td>0.290704</td>\n",
       "      <td>0.050712</td>\n",
       "      <td>0.090491</td>\n",
       "      <td>0.001106</td>\n",
       "      <td>0.013058</td>\n",
       "      <td>0.073406</td>\n",
       "      <td>0.277853</td>\n",
       "    </tr>\n",
       "    <tr>\n",
       "      <th>Samsung Galaxy Tab</th>\n",
       "      <td>0.038602</td>\n",
       "      <td>0.039378</td>\n",
       "      <td>0.037730</td>\n",
       "      <td>0.031730</td>\n",
       "      <td>0.049564</td>\n",
       "      <td>0.042509</td>\n",
       "      <td>0.051508</td>\n",
       "      <td>0.143215</td>\n",
       "      <td>0.117028</td>\n",
       "      <td>0.062744</td>\n",
       "      <td>0.100569</td>\n",
       "      <td>0.003146</td>\n",
       "      <td>0.035252</td>\n",
       "      <td>0.162930</td>\n",
       "      <td>0.084095</td>\n",
       "    </tr>\n",
       "    <tr>\n",
       "      <th>Samsung SmartCam</th>\n",
       "      <td>0.021887</td>\n",
       "      <td>0.019937</td>\n",
       "      <td>0.016491</td>\n",
       "      <td>0.012517</td>\n",
       "      <td>0.035305</td>\n",
       "      <td>0.037621</td>\n",
       "      <td>0.047801</td>\n",
       "      <td>0.077415</td>\n",
       "      <td>0.191172</td>\n",
       "      <td>0.040766</td>\n",
       "      <td>0.127492</td>\n",
       "      <td>0.003416</td>\n",
       "      <td>0.023738</td>\n",
       "      <td>0.199154</td>\n",
       "      <td>0.145288</td>\n",
       "    </tr>\n",
       "    <tr>\n",
       "      <th>Smart Things</th>\n",
       "      <td>0.002197</td>\n",
       "      <td>0.002102</td>\n",
       "      <td>0.003511</td>\n",
       "      <td>0.003717</td>\n",
       "      <td>0.003395</td>\n",
       "      <td>0.002548</td>\n",
       "      <td>0.003199</td>\n",
       "      <td>0.343712</td>\n",
       "      <td>0.073387</td>\n",
       "      <td>0.224709</td>\n",
       "      <td>0.212618</td>\n",
       "      <td>0.004566</td>\n",
       "      <td>0.007489</td>\n",
       "      <td>0.018190</td>\n",
       "      <td>0.094661</td>\n",
       "    </tr>\n",
       "    <tr>\n",
       "      <th>TP-Link Day Night Cloud camera</th>\n",
       "      <td>0.038262</td>\n",
       "      <td>0.022593</td>\n",
       "      <td>0.022926</td>\n",
       "      <td>0.014022</td>\n",
       "      <td>0.033776</td>\n",
       "      <td>0.042014</td>\n",
       "      <td>0.051008</td>\n",
       "      <td>0.065842</td>\n",
       "      <td>0.235107</td>\n",
       "      <td>0.061469</td>\n",
       "      <td>0.065663</td>\n",
       "      <td>0.001368</td>\n",
       "      <td>0.053310</td>\n",
       "      <td>0.101947</td>\n",
       "      <td>0.190694</td>\n",
       "    </tr>\n",
       "    <tr>\n",
       "      <th>TP-Link Smart plug</th>\n",
       "      <td>0.020719</td>\n",
       "      <td>0.023438</td>\n",
       "      <td>0.032773</td>\n",
       "      <td>0.018750</td>\n",
       "      <td>0.039469</td>\n",
       "      <td>0.041281</td>\n",
       "      <td>0.035538</td>\n",
       "      <td>0.180794</td>\n",
       "      <td>0.240243</td>\n",
       "      <td>0.034590</td>\n",
       "      <td>0.116324</td>\n",
       "      <td>0.000460</td>\n",
       "      <td>0.007833</td>\n",
       "      <td>0.041365</td>\n",
       "      <td>0.166425</td>\n",
       "    </tr>\n",
       "    <tr>\n",
       "      <th>Triby Speaker</th>\n",
       "      <td>0.031258</td>\n",
       "      <td>0.035679</td>\n",
       "      <td>0.027074</td>\n",
       "      <td>0.024503</td>\n",
       "      <td>0.038295</td>\n",
       "      <td>0.030183</td>\n",
       "      <td>0.031936</td>\n",
       "      <td>0.223095</td>\n",
       "      <td>0.145749</td>\n",
       "      <td>0.046601</td>\n",
       "      <td>0.148527</td>\n",
       "      <td>0.000125</td>\n",
       "      <td>0.064500</td>\n",
       "      <td>0.073553</td>\n",
       "      <td>0.078923</td>\n",
       "    </tr>\n",
       "    <tr>\n",
       "      <th>Withings Aura smart sleep sensor</th>\n",
       "      <td>0.028188</td>\n",
       "      <td>0.034921</td>\n",
       "      <td>0.027359</td>\n",
       "      <td>0.011634</td>\n",
       "      <td>0.026932</td>\n",
       "      <td>0.019577</td>\n",
       "      <td>0.017979</td>\n",
       "      <td>0.093743</td>\n",
       "      <td>0.241012</td>\n",
       "      <td>0.080893</td>\n",
       "      <td>0.073694</td>\n",
       "      <td>0.001221</td>\n",
       "      <td>0.016519</td>\n",
       "      <td>0.138504</td>\n",
       "      <td>0.187825</td>\n",
       "    </tr>\n",
       "    <tr>\n",
       "      <th>Withings Smart Baby Monitor</th>\n",
       "      <td>0.034379</td>\n",
       "      <td>0.037743</td>\n",
       "      <td>0.043305</td>\n",
       "      <td>0.021498</td>\n",
       "      <td>0.026228</td>\n",
       "      <td>0.024537</td>\n",
       "      <td>0.027842</td>\n",
       "      <td>0.092204</td>\n",
       "      <td>0.209236</td>\n",
       "      <td>0.075814</td>\n",
       "      <td>0.056331</td>\n",
       "      <td>0.001145</td>\n",
       "      <td>0.014858</td>\n",
       "      <td>0.154123</td>\n",
       "      <td>0.180756</td>\n",
       "    </tr>\n",
       "    <tr>\n",
       "      <th>Withings Smart scale</th>\n",
       "      <td>0.053795</td>\n",
       "      <td>0.043593</td>\n",
       "      <td>0.040938</td>\n",
       "      <td>0.029864</td>\n",
       "      <td>0.023233</td>\n",
       "      <td>0.055376</td>\n",
       "      <td>0.040052</td>\n",
       "      <td>0.188419</td>\n",
       "      <td>0.094451</td>\n",
       "      <td>0.117091</td>\n",
       "      <td>0.203791</td>\n",
       "      <td>0.000060</td>\n",
       "      <td>0.008444</td>\n",
       "      <td>0.037640</td>\n",
       "      <td>0.063251</td>\n",
       "    </tr>\n",
       "    <tr>\n",
       "      <th>iHome</th>\n",
       "      <td>0.030473</td>\n",
       "      <td>0.045157</td>\n",
       "      <td>0.038558</td>\n",
       "      <td>0.029674</td>\n",
       "      <td>0.060954</td>\n",
       "      <td>0.070171</td>\n",
       "      <td>0.069746</td>\n",
       "      <td>0.109163</td>\n",
       "      <td>0.102145</td>\n",
       "      <td>0.130881</td>\n",
       "      <td>0.108571</td>\n",
       "      <td>0.000524</td>\n",
       "      <td>0.049495</td>\n",
       "      <td>0.135445</td>\n",
       "      <td>0.019039</td>\n",
       "    </tr>\n",
       "  </tbody>\n",
       "</table>\n",
       "</div>"
      ],
      "text/plain": [
       "                                  Flow Duration  Flow IAT Max  Flow IAT Mean  \\\n",
       "c_name                                                                         \n",
       "Amazon Echo                            0.025057      0.027310       0.019237   \n",
       "Android Phone                          0.045712      0.044124       0.046229   \n",
       "Belkin Wemo switch                     0.018121      0.022457       0.020888   \n",
       "Belkin wemo motion sensor              0.017571      0.013200       0.013201   \n",
       "Blipcare Blood Pressure meter          0.058396      0.041963       0.068034   \n",
       "Dropcam                                0.075238      0.048626       0.043006   \n",
       "HP Printer                             0.037637      0.052840       0.048135   \n",
       "IPhone                                 0.029494      0.033630       0.031662   \n",
       "Insteon Camera                         0.014977      0.014926       0.013501   \n",
       "Laptop                                 0.022977      0.030091       0.021638   \n",
       "Light Bulbs LiFX Smart Bulb            0.003884      0.004336       0.004403   \n",
       "MacBook                                0.010415      0.006352       0.008697   \n",
       "NEST Protect smoke alarm               0.089982      0.073588       0.070527   \n",
       "Netatmo Welcome                        0.035664      0.043433       0.024045   \n",
       "Netatmo weather station                0.038474      0.056783       0.084188   \n",
       "PIX-STAR Photo-frame                   0.015124      0.019369       0.013265   \n",
       "Samsung Galaxy Tab                     0.038602      0.039378       0.037730   \n",
       "Samsung SmartCam                       0.021887      0.019937       0.016491   \n",
       "Smart Things                           0.002197      0.002102       0.003511   \n",
       "TP-Link Day Night Cloud camera         0.038262      0.022593       0.022926   \n",
       "TP-Link Smart plug                     0.020719      0.023438       0.032773   \n",
       "Triby Speaker                          0.031258      0.035679       0.027074   \n",
       "Withings Aura smart sleep sensor       0.028188      0.034921       0.027359   \n",
       "Withings Smart Baby Monitor            0.034379      0.037743       0.043305   \n",
       "Withings Smart scale                   0.053795      0.043593       0.040938   \n",
       "iHome                                  0.030473      0.045157       0.038558   \n",
       "\n",
       "                                  Flow IAT Min  Max Packet Length  \\\n",
       "c_name                                                              \n",
       "Amazon Echo                           0.017046           0.018665   \n",
       "Android Phone                         0.042840           0.041711   \n",
       "Belkin Wemo switch                    0.010830           0.092648   \n",
       "Belkin wemo motion sensor             0.015718           0.098347   \n",
       "Blipcare Blood Pressure meter         0.110424           0.042291   \n",
       "Dropcam                               0.030399           0.058361   \n",
       "HP Printer                            0.059175           0.035814   \n",
       "IPhone                                0.045338           0.007314   \n",
       "Insteon Camera                        0.017138           0.022827   \n",
       "Laptop                                0.011191           0.052492   \n",
       "Light Bulbs LiFX Smart Bulb           0.003794           0.004355   \n",
       "MacBook                               0.005311           0.008298   \n",
       "NEST Protect smoke alarm              0.053515           0.045583   \n",
       "Netatmo Welcome                       0.008468           0.033840   \n",
       "Netatmo weather station               0.023134           0.032762   \n",
       "PIX-STAR Photo-frame                  0.012777           0.013310   \n",
       "Samsung Galaxy Tab                    0.031730           0.049564   \n",
       "Samsung SmartCam                      0.012517           0.035305   \n",
       "Smart Things                          0.003717           0.003395   \n",
       "TP-Link Day Night Cloud camera        0.014022           0.033776   \n",
       "TP-Link Smart plug                    0.018750           0.039469   \n",
       "Triby Speaker                         0.024503           0.038295   \n",
       "Withings Aura smart sleep sensor      0.011634           0.026932   \n",
       "Withings Smart Baby Monitor           0.021498           0.026228   \n",
       "Withings Smart scale                  0.029864           0.023233   \n",
       "iHome                                 0.029674           0.060954   \n",
       "\n",
       "                                  Packet Length Mean  Packet Length Total  \\\n",
       "c_name                                                                      \n",
       "Amazon Echo                                 0.012802             0.023736   \n",
       "Android Phone                               0.043758             0.042119   \n",
       "Belkin Wemo switch                          0.109969             0.125304   \n",
       "Belkin wemo motion sensor                   0.064911             0.120646   \n",
       "Blipcare Blood Pressure meter               0.038395             0.046364   \n",
       "Dropcam                                     0.046531             0.040391   \n",
       "HP Printer                                  0.042276             0.042890   \n",
       "IPhone                                      0.009832             0.010185   \n",
       "Insteon Camera                              0.015943             0.029497   \n",
       "Laptop                                      0.048265             0.046957   \n",
       "Light Bulbs LiFX Smart Bulb                 0.004487             0.005747   \n",
       "MacBook                                     0.007290             0.007732   \n",
       "NEST Protect smoke alarm                    0.064877             0.022036   \n",
       "Netatmo Welcome                             0.032852             0.035022   \n",
       "Netatmo weather station                     0.042676             0.060017   \n",
       "PIX-STAR Photo-frame                        0.018940             0.014072   \n",
       "Samsung Galaxy Tab                          0.042509             0.051508   \n",
       "Samsung SmartCam                            0.037621             0.047801   \n",
       "Smart Things                                0.002548             0.003199   \n",
       "TP-Link Day Night Cloud camera              0.042014             0.051008   \n",
       "TP-Link Smart plug                          0.041281             0.035538   \n",
       "Triby Speaker                               0.030183             0.031936   \n",
       "Withings Aura smart sleep sensor            0.019577             0.017979   \n",
       "Withings Smart Baby Monitor                 0.024537             0.027842   \n",
       "Withings Smart scale                        0.055376             0.040052   \n",
       "iHome                                       0.070171             0.069746   \n",
       "\n",
       "                                   dstport    ip.len    ip.ttl   srcport  \\\n",
       "c_name                                                                     \n",
       "Amazon Echo                       0.074084  0.207489  0.139627  0.082112   \n",
       "Android Phone                     0.132792  0.120788  0.095389  0.148426   \n",
       "Belkin Wemo switch                0.109375  0.110122  0.008969  0.122614   \n",
       "Belkin wemo motion sensor         0.087788  0.083839  0.024094  0.195196   \n",
       "Blipcare Blood Pressure meter     0.066484  0.073997  0.074138  0.183575   \n",
       "Dropcam                           0.057094  0.188075  0.083935  0.106228   \n",
       "HP Printer                        0.091708  0.049723  0.076614  0.186795   \n",
       "IPhone                            0.166205  0.055219  0.016105  0.534213   \n",
       "Insteon Camera                    0.098815  0.248757  0.076138  0.045764   \n",
       "Laptop                            0.088975  0.067205  0.194850  0.098118   \n",
       "Light Bulbs LiFX Smart Bulb       0.275347  0.117889  0.252258  0.135137   \n",
       "MacBook                           0.055984  0.056533  0.060858  0.086244   \n",
       "NEST Protect smoke alarm          0.082091  0.082336  0.145679  0.098962   \n",
       "Netatmo Welcome                   0.167240  0.089711  0.158423  0.107887   \n",
       "Netatmo weather station           0.122004  0.052896  0.113677  0.140905   \n",
       "PIX-STAR Photo-frame              0.095814  0.290704  0.050712  0.090491   \n",
       "Samsung Galaxy Tab                0.143215  0.117028  0.062744  0.100569   \n",
       "Samsung SmartCam                  0.077415  0.191172  0.040766  0.127492   \n",
       "Smart Things                      0.343712  0.073387  0.224709  0.212618   \n",
       "TP-Link Day Night Cloud camera    0.065842  0.235107  0.061469  0.065663   \n",
       "TP-Link Smart plug                0.180794  0.240243  0.034590  0.116324   \n",
       "Triby Speaker                     0.223095  0.145749  0.046601  0.148527   \n",
       "Withings Aura smart sleep sensor  0.093743  0.241012  0.080893  0.073694   \n",
       "Withings Smart Baby Monitor       0.092204  0.209236  0.075814  0.056331   \n",
       "Withings Smart scale              0.188419  0.094451  0.117091  0.203791   \n",
       "iHome                             0.109163  0.102145  0.130881  0.108571   \n",
       "\n",
       "                                  tcp.flags.rst  tcp.hdr_len  \\\n",
       "c_name                                                         \n",
       "Amazon Echo                            0.009047     0.049904   \n",
       "Android Phone                          0.003311     0.020614   \n",
       "Belkin Wemo switch                     0.001983     0.018211   \n",
       "Belkin wemo motion sensor              0.003932     0.041293   \n",
       "Blipcare Blood Pressure meter          0.000007     0.043919   \n",
       "Dropcam                                0.000281     0.013296   \n",
       "HP Printer                             0.002026     0.012076   \n",
       "IPhone                                 0.000071     0.001478   \n",
       "Insteon Camera                         0.109386     0.046439   \n",
       "Laptop                                 0.017285     0.129218   \n",
       "Light Bulbs LiFX Smart Bulb            0.001922     0.010465   \n",
       "MacBook                                0.007385     0.348343   \n",
       "NEST Protect smoke alarm               0.000066     0.026786   \n",
       "Netatmo Welcome                        0.006183     0.026895   \n",
       "Netatmo weather station                0.006198     0.117557   \n",
       "PIX-STAR Photo-frame                   0.001106     0.013058   \n",
       "Samsung Galaxy Tab                     0.003146     0.035252   \n",
       "Samsung SmartCam                       0.003416     0.023738   \n",
       "Smart Things                           0.004566     0.007489   \n",
       "TP-Link Day Night Cloud camera         0.001368     0.053310   \n",
       "TP-Link Smart plug                     0.000460     0.007833   \n",
       "Triby Speaker                          0.000125     0.064500   \n",
       "Withings Aura smart sleep sensor       0.001221     0.016519   \n",
       "Withings Smart Baby Monitor            0.001145     0.014858   \n",
       "Withings Smart scale                   0.000060     0.008444   \n",
       "iHome                                  0.000524     0.049495   \n",
       "\n",
       "                                  tcp.window_size_value  udp.length  \n",
       "c_name                                                               \n",
       "Amazon Echo                                    0.142995    0.150889  \n",
       "Android Phone                                  0.098158    0.074029  \n",
       "Belkin Wemo switch                             0.207913    0.020596  \n",
       "Belkin wemo motion sensor                      0.191854    0.028411  \n",
       "Blipcare Blood Pressure meter                  0.105386    0.046628  \n",
       "Dropcam                                        0.038989    0.169548  \n",
       "HP Printer                                     0.229024    0.033269  \n",
       "IPhone                                         0.014229    0.045025  \n",
       "Insteon Camera                                 0.076698    0.169194  \n",
       "Laptop                                         0.129007    0.041733  \n",
       "Light Bulbs LiFX Smart Bulb                    0.018828    0.157149  \n",
       "MacBook                                        0.290032    0.040526  \n",
       "NEST Protect smoke alarm                       0.107495    0.036477  \n",
       "Netatmo Welcome                                0.170002    0.060335  \n",
       "Netatmo weather station                        0.092282    0.016446  \n",
       "PIX-STAR Photo-frame                           0.073406    0.277853  \n",
       "Samsung Galaxy Tab                             0.162930    0.084095  \n",
       "Samsung SmartCam                               0.199154    0.145288  \n",
       "Smart Things                                   0.018190    0.094661  \n",
       "TP-Link Day Night Cloud camera                 0.101947    0.190694  \n",
       "TP-Link Smart plug                             0.041365    0.166425  \n",
       "Triby Speaker                                  0.073553    0.078923  \n",
       "Withings Aura smart sleep sensor               0.138504    0.187825  \n",
       "Withings Smart Baby Monitor                    0.154123    0.180756  \n",
       "Withings Smart scale                           0.037640    0.063251  \n",
       "iHome                                          0.135445    0.019039  "
      ]
     },
     "execution_count": 280,
     "metadata": {},
     "output_type": "execute_result"
    }
   ],
   "source": [
    "W_df"
   ]
  },
  {
   "cell_type": "markdown",
   "id": "3fbdfef1-650e-4d72-af5e-7246fc6d8b5c",
   "metadata": {},
   "source": [
    "To compare the ILP function with a Heuristic, you should provide the output in string format.\n",
    "\n",
    "**To-Do**: Make this easier, avoiding string formatting."
   ]
  },
  {
   "cell_type": "code",
   "execution_count": 276,
   "id": "92fb7556-b0c6-4a99-ac62-a922492f19a9",
   "metadata": {},
   "outputs": [],
   "source": [
    "# ILP Solution\n",
    "classes_cluster_0 = ['Dropcam', 'HP Printer', 'PIX-STAR Photo-frame', 'TP-Link Day Night Cloud camera', 'TP-Link Smart plug']\n",
    "classes_cluster_1 = ['Amazon Echo', 'Belkin wemo motion sensor', 'Netatmo Welcome', 'Netatmo weather station', 'Samsung Galaxy Tab', 'Samsung SmartCam', 'Smart Things']\n",
    "feats_cluster_0 = ['dstport', 'ip.len', 'srcport', 'tcp.window_size_value', 'udp.length']\n",
    "feats_cluster_1 = ['dstport', 'ip.len', 'ip.ttl', 'srcport', 'tcp.window_size_value', 'udp.length']"
   ]
  },
  {
   "cell_type": "code",
   "execution_count": 283,
   "id": "515ccc85-0246-4412-aee7-65055553bfe8",
   "metadata": {},
   "outputs": [],
   "source": [
    "# Clustering Solution\n",
    "classes_cluster_0 = ['Dropcam']\n",
    "classes_cluster_1 = ['Samsung Galaxy Tab', 'Amazon Echo', 'Netatmo Welcome', 'Netatmo weather station', 'Smart Things', 'TP-Link Smart plug', 'PIX-STAR Photo-frame', 'Samsung SmartCam', 'HP Printer', 'TP-Link Day Night Cloud camera', 'Belkin wemo motion sensor']\n",
    "feats_cluster_0 = ['Max Packet Length', 'Packet Length Total', 'dstport', 'ip.len', 'srcport', 'tcp.window_size_value']\n",
    "feats_cluster_1 = ['ip.len', 'udp.length', 'dstport', 'srcport', 'tcp.window_size_value', 'ip.ttl', 'Packet Length Total', 'Max Packet Length', 'Flow IAT Mean', 'tcp.hdr_len']\n",
    "# # Check we have all features \n",
    "# assert len(set(feats_cluster_0 + feats_cluster_1)) == 11\n",
    "# # Check we have all classes\n",
    "# assert set(classes_cluster_0+classes_cluster_1) == set(test_classes_list)"
   ]
  },
  {
   "cell_type": "code",
   "execution_count": 284,
   "id": "cef17ed9-0986-4454-a155-97e294d6a0d4",
   "metadata": {},
   "outputs": [
    {
     "data": {
      "text/html": [
       "<div>\n",
       "<style scoped>\n",
       "    .dataframe tbody tr th:only-of-type {\n",
       "        vertical-align: middle;\n",
       "    }\n",
       "\n",
       "    .dataframe tbody tr th {\n",
       "        vertical-align: top;\n",
       "    }\n",
       "\n",
       "    .dataframe thead th {\n",
       "        text-align: right;\n",
       "    }\n",
       "</style>\n",
       "<table border=\"1\" class=\"dataframe\">\n",
       "  <thead>\n",
       "    <tr style=\"text-align: right;\">\n",
       "      <th></th>\n",
       "      <th>Cluster</th>\n",
       "      <th>Class List</th>\n",
       "      <th>Feature List</th>\n",
       "    </tr>\n",
       "  </thead>\n",
       "  <tbody>\n",
       "    <tr>\n",
       "      <th>0</th>\n",
       "      <td>0</td>\n",
       "      <td>[Dropcam]</td>\n",
       "      <td>[Max Packet Length, Packet Length Total, dstpo...</td>\n",
       "    </tr>\n",
       "    <tr>\n",
       "      <th>1</th>\n",
       "      <td>1</td>\n",
       "      <td>[Samsung Galaxy Tab, Amazon Echo, Netatmo Welc...</td>\n",
       "      <td>[ip.len, udp.length, dstport, srcport, tcp.win...</td>\n",
       "    </tr>\n",
       "  </tbody>\n",
       "</table>\n",
       "</div>"
      ],
      "text/plain": [
       "   Cluster                                         Class List  \\\n",
       "0        0                                          [Dropcam]   \n",
       "1        1  [Samsung Galaxy Tab, Amazon Echo, Netatmo Welc...   \n",
       "\n",
       "                                        Feature List  \n",
       "0  [Max Packet Length, Packet Length Total, dstpo...  \n",
       "1  [ip.len, udp.length, dstport, srcport, tcp.win...  "
      ]
     },
     "execution_count": 284,
     "metadata": {},
     "output_type": "execute_result"
    }
   ],
   "source": [
    "cluster_info = pd.DataFrame({'Cluster':[0,1], 'Class List': [classes_cluster_0, classes_cluster_1], 'Feature List': [feats_cluster_0,feats_cluster_1]})\n",
    "cluster_info"
   ]
  },
  {
   "cell_type": "code",
   "execution_count": 91,
   "id": "9a0c3951",
   "metadata": {
    "ExecuteTime": {
     "end_time": "2024-05-20T08:45:15.362300Z",
     "start_time": "2024-05-20T08:45:15.352679Z"
    }
   },
   "outputs": [],
   "source": [
    "# # Read cluster solution from CSV file.\n",
    "# cluster_info = pd.read_csv('cluster_info_W_24CL_8cluster.csv')\n",
    "# cluster_info = cluster_info.reset_index(drop=True).drop(columns=['Unnamed: 0']).set_index('Cluster')\n",
    "# cluster_info.head()"
   ]
  },
  {
   "cell_type": "code",
   "execution_count": 272,
   "id": "6082b530",
   "metadata": {
    "ExecuteTime": {
     "end_time": "2024-05-20T12:23:44.850502Z",
     "start_time": "2024-05-20T12:23:44.846448Z"
    }
   },
   "outputs": [],
   "source": [
    "def encode_cluster_solution(cluster_info):\n",
    "    pcfi_data_no_idx = W_df.reset_index()\n",
    "    pcfi_data_transpose_no_idx = W_df.transpose().reset_index()\n",
    "    \n",
    "    groups_cost = []\n",
    "    class_lists = []\n",
    "    feats_lists = []\n",
    "    for cluster_idx,cluster in cluster_info.iterrows():\n",
    "        cluster_class_list = cluster_info.loc[cluster_idx][\"Class List\"]\n",
    "        cluster_features_list = cluster_info.loc[cluster_idx][\"Feature List\"]\n",
    "        # cluster_class_list = ast.literal_eval(cluster_info.loc[cluster_idx][\"Class List\"])\n",
    "        # cluster_features_list = ast.literal_eval(cluster_info.loc[cluster_idx][\"Feature List\"])\n",
    "        cluster_W = W_df.loc[cluster_class_list][cluster_features_list].values\n",
    "        cost = n_classes - (np.sum(cluster_W) - feature_cost*len(cluster_features_list)*len(cluster_class_list))\n",
    "        \n",
    "        # Class list binary encoding\n",
    "        cluster_class_idx = pcfi_data_no_idx.loc[pcfi_data_no_idx[\"c_name\"].isin(cluster_class_list)].index.values\n",
    "        cluster_class_encoding = np.sum([onehot(idx+1, n_classes) for idx in cluster_class_idx], axis=0)\n",
    "        class_lists.append(cluster_class_encoding)\n",
    "\n",
    "        # # Consider the PTP F1 score in the cost\n",
    "        f_scores = np.array(list(itertools.compress(F, cluster_class_encoding)))\n",
    "        if (sum(cluster_class_encoding) <= 1):\n",
    "            f_score_cost = np.max(f_scores)\n",
    "        else:\n",
    "            f_score_cost = np.ptp(f_scores)\n",
    "        cost = cost*f_score_cost\n",
    "        groups_cost.append(cost)\n",
    "        \n",
    "        # Features list binary encoding\n",
    "        cluster_feats_idx = pcfi_data_transpose_no_idx.loc[pcfi_data_transpose_no_idx[\"index\"].isin(cluster_features_list)].index.values\n",
    "        cluster_feats_encoding = np.sum([onehot(idx+1, n_features) for idx in cluster_feats_idx], axis=0)\n",
    "        feats_lists.append(cluster_feats_encoding)\n",
    "    \n",
    "    return groups_cost, class_lists, feats_lists"
   ]
  },
  {
   "cell_type": "code",
   "execution_count": 285,
   "id": "03c3467b",
   "metadata": {
    "ExecuteTime": {
     "end_time": "2024-05-20T12:44:31.684332Z",
     "start_time": "2024-05-20T12:44:31.671456Z"
    },
    "scrolled": true
   },
   "outputs": [
    {
     "name": "stdout",
     "output_type": "stream",
     "text": [
      "Groups: \t\t\t Cost: \t\t\t Feats: \t\n",
      "[0 0 0 0 0 1 0 0 0 0 0 0] 1182.4129327064686 [0 0 0 0 1 0 1 1 1 0 1 0 0 1 0]\n",
      "[1 0 0 1 0 0 1 0 0 0 0 0] 374.25331283815 [0 0 1 0 1 0 1 1 1 1 1 0 1 1 1]\n",
      "Total Cost: 1556.6662455446185\n"
     ]
    }
   ],
   "source": [
    "sol_costs, sol_groups, sol_feats = encode_cluster_solution(cluster_info.loc[0:])\n",
    "print(\"Groups: \\t\\t\\t\", \"Cost: \\t\\t\\t\", \"Feats: \\t\")\n",
    "for group, cost, group_feats in zip(sol_groups,sol_costs, sol_feats):\n",
    "    print(group, cost, group_feats)\n",
    "print(f\"Total Cost: {sum(sol_costs)}\")"
   ]
  },
  {
   "cell_type": "markdown",
   "id": "1b309405-fc31-4bfa-b00d-6bb3defe6132",
   "metadata": {},
   "source": [
    "# Compare against random"
   ]
  },
  {
   "cell_type": "code",
   "execution_count": 252,
   "id": "3a6f6118-ca37-4e36-a738-fbc37dfc16dc",
   "metadata": {},
   "outputs": [],
   "source": [
    "from random import choice, shuffle, sample, randint\n",
    "\n",
    "def encode_int_encoded_partition(partition, n_classes):\n",
    "    return np.sum([onehot(x, n_classes) for x in partition], axis=0)\n",
    "\n",
    "def pick_random_partition(lst):\n",
    "    # select n at random\n",
    "    n = randint(2, len(lst)-1)\n",
    "    \n",
    "    # Shuffle the list\n",
    "    shuffle(lst)\n",
    "\n",
    "    # Initialize the output lists\n",
    "    partitions = []\n",
    "\n",
    "    # Generate random lengths for the partitions\n",
    "    lengths = sorted(sample(range(0, len(lst)), n - 1))\n",
    "    lengths.append(len(lst))\n",
    "\n",
    "    # Use the lengths to slice the list and create the partitions\n",
    "    start = 0\n",
    "    for end in lengths:\n",
    "        partitions.append(lst[start:end])\n",
    "        start = end\n",
    "    \n",
    "    return np.stack([encode_int_encoded_partition(partition, len(lst)) for partition in partitions if len(partition)>0], axis=0)\n",
    "\n",
    "def pick_random_features(n_features, n_partitions):\n",
    "    return np.stack([np.random.randint(2, size=n_features) for i in range(n_partitions)])\n",
    "\n",
    "\n",
    "def generate_random_spp_solution(n_classes, n_features=15):\n",
    "    random_partition = pick_random_partition(list(np.arange(1, n_classes+1)))\n",
    "    random_feats = pick_random_features(n_features, len(random_partition))\n",
    "    part_labels = [[c for mask, c in zip(part,classes_list[:n_classes]) if mask==1] for part in random_partition]\n",
    "    feats_labels = [[c for mask, c in zip(sel,features_list) if mask==1] for sel in random_feats]\n",
    "    \n",
    "    return pd.DataFrame({'Cluster':list(range(len(random_partition))), 'Class List': part_labels, 'Feature List': feats_labels})"
   ]
  },
  {
   "cell_type": "code",
   "execution_count": 380,
   "id": "43c28ab4-5f04-4cab-b6f5-05429239124c",
   "metadata": {},
   "outputs": [
    {
     "name": "stdout",
     "output_type": "stream",
     "text": [
      "The cost of the random partition: 2147.765524955803\n"
     ]
    }
   ],
   "source": [
    "cluster_info = generate_random_spp_solution(10)\n",
    "sol_costs, sol_groups, sol_feats = encode_cluster_solution(cluster_info.loc[0:])\n",
    "print(\"The cost of the random partition:\", sum(sol_costs), end='\\n')"
   ]
  },
  {
   "cell_type": "code",
   "execution_count": 401,
   "id": "5a44aa22-f4bd-4152-b8f5-3a1213991ee0",
   "metadata": {},
   "outputs": [
    {
     "data": {
      "text/html": [
       "<div>\n",
       "<style scoped>\n",
       "    .dataframe tbody tr th:only-of-type {\n",
       "        vertical-align: middle;\n",
       "    }\n",
       "\n",
       "    .dataframe tbody tr th {\n",
       "        vertical-align: top;\n",
       "    }\n",
       "\n",
       "    .dataframe thead th {\n",
       "        text-align: right;\n",
       "    }\n",
       "</style>\n",
       "<table border=\"1\" class=\"dataframe\">\n",
       "  <thead>\n",
       "    <tr style=\"text-align: right;\">\n",
       "      <th></th>\n",
       "      <th>Cluster</th>\n",
       "      <th>Class List</th>\n",
       "      <th>Feature List</th>\n",
       "    </tr>\n",
       "  </thead>\n",
       "  <tbody>\n",
       "    <tr>\n",
       "      <th>0</th>\n",
       "      <td>0</td>\n",
       "      <td>[Insteon Camera]</td>\n",
       "      <td>[Flow IAT Max, Flow IAT Mean, Flow IAT Min, Ma...</td>\n",
       "    </tr>\n",
       "    <tr>\n",
       "      <th>1</th>\n",
       "      <td>1</td>\n",
       "      <td>[HP Printer]</td>\n",
       "      <td>[Flow Duration, Flow IAT Mean, Flow IAT Min, M...</td>\n",
       "    </tr>\n",
       "    <tr>\n",
       "      <th>2</th>\n",
       "      <td>2</td>\n",
       "      <td>[MacBook]</td>\n",
       "      <td>[Flow Duration, Flow IAT Mean, Flow IAT Min, P...</td>\n",
       "    </tr>\n",
       "    <tr>\n",
       "      <th>3</th>\n",
       "      <td>3</td>\n",
       "      <td>[Android Phone, Belkin Wemo switch, Belkin wem...</td>\n",
       "      <td>[Flow Duration, Packet Length Mean, Packet Len...</td>\n",
       "    </tr>\n",
       "    <tr>\n",
       "      <th>4</th>\n",
       "      <td>4</td>\n",
       "      <td>[Amazon Echo, IPhone]</td>\n",
       "      <td>[Flow Duration, Flow IAT Min, Packet Length To...</td>\n",
       "    </tr>\n",
       "    <tr>\n",
       "      <th>5</th>\n",
       "      <td>5</td>\n",
       "      <td>[NEST Protect smoke alarm]</td>\n",
       "      <td>[Flow IAT Max, Flow IAT Mean, Flow IAT Min, Pa...</td>\n",
       "    </tr>\n",
       "    <tr>\n",
       "      <th>6</th>\n",
       "      <td>6</td>\n",
       "      <td>[Laptop, Light Bulbs LiFX Smart Bulb]</td>\n",
       "      <td>[Packet Length Mean, dstport, srcport, tcp.fla...</td>\n",
       "    </tr>\n",
       "  </tbody>\n",
       "</table>\n",
       "</div>"
      ],
      "text/plain": [
       "   Cluster                                         Class List  \\\n",
       "0        0                                   [Insteon Camera]   \n",
       "1        1                                       [HP Printer]   \n",
       "2        2                                          [MacBook]   \n",
       "3        3  [Android Phone, Belkin Wemo switch, Belkin wem...   \n",
       "4        4                              [Amazon Echo, IPhone]   \n",
       "5        5                         [NEST Protect smoke alarm]   \n",
       "6        6              [Laptop, Light Bulbs LiFX Smart Bulb]   \n",
       "\n",
       "                                        Feature List  \n",
       "0  [Flow IAT Max, Flow IAT Mean, Flow IAT Min, Ma...  \n",
       "1  [Flow Duration, Flow IAT Mean, Flow IAT Min, M...  \n",
       "2  [Flow Duration, Flow IAT Mean, Flow IAT Min, P...  \n",
       "3  [Flow Duration, Packet Length Mean, Packet Len...  \n",
       "4  [Flow Duration, Flow IAT Min, Packet Length To...  \n",
       "5  [Flow IAT Max, Flow IAT Mean, Flow IAT Min, Pa...  \n",
       "6  [Packet Length Mean, dstport, srcport, tcp.fla...  "
      ]
     },
     "execution_count": 401,
     "metadata": {},
     "output_type": "execute_result"
    }
   ],
   "source": [
    "generate_random_spp_solution(13)"
   ]
  },
  {
   "cell_type": "code",
   "execution_count": 400,
   "id": "37f50bbe-a321-4b06-bfe3-649bf3684645",
   "metadata": {},
   "outputs": [
    {
     "data": {
      "text/plain": [
       "[96.68425698571494,\n",
       " 95.9425557382842,\n",
       " 19.178082191841053,\n",
       " 64.35521033868903,\n",
       " 89.52810439405708,\n",
       " 99.27182707828857,\n",
       " 57.63379470587561,\n",
       " 85.85647765606758,\n",
       " 97.74455264433816,\n",
       " 99.23920919159548,\n",
       " 46.50725697606184,\n",
       " 46.94251190040305]"
      ]
     },
     "execution_count": 400,
     "metadata": {},
     "output_type": "execute_result"
    }
   ],
   "source": [
    "F"
   ]
  },
  {
   "cell_type": "markdown",
   "id": "7a492453-bdc6-464e-8c88-54fb82e6cc4c",
   "metadata": {},
   "source": [
    "### Evaluate Performance vs Random"
   ]
  },
  {
   "cell_type": "code",
   "execution_count": 493,
   "id": "edf18b20-cf33-4c36-9748-5d3d39ab89aa",
   "metadata": {},
   "outputs": [
    {
     "name": "stdout",
     "output_type": "stream",
     "text": [
      "(10, 19)\n"
     ]
    },
    {
     "data": {
      "application/vnd.jupyter.widget-view+json": {
       "model_id": "ee1bdb41fdc342cf8196f013897ee68c",
       "version_major": 2,
       "version_minor": 0
      },
      "text/plain": [
       "  0%|          | 0/19 [00:00<?, ?it/s]"
      ]
     },
     "metadata": {},
     "output_type": "display_data"
    }
   ],
   "source": [
    "i_start = 3\n",
    "i_end = 22\n",
    "samples_per_size = 10\n",
    "scores = np.zeros((samples_per_size, i_end-i_start))\n",
    "ILP_scores = np.zeros(i_end-i_start)\n",
    "ILP_exec_times = np.zeros(i_end-i_start)\n",
    "\n",
    "for idx,i in tqdm(enumerate(range(i_start,i_end)),total=i_end-i_start):\n",
    "    start = time.time()\n",
    "    ILP_scores[idx] = solve_SPP_with_ILP(i)\n",
    "    end = time.time()\n",
    "    ILP_exec_times[idx] = (end - start)\n",
    "    for j in range(samples_per_size):\n",
    "        cluster_info = generate_random_spp_solution(i)\n",
    "        sol_costs, sol_groups, sol_feats = encode_cluster_solution(cluster_info.loc[0:])\n",
    "        scores[j][idx] = sum(sol_costs)\n",
    "    "
   ]
  },
  {
   "cell_type": "code",
   "execution_count": 72,
   "id": "db110525-a840-4fb2-8c01-56b9e4a105bf",
   "metadata": {},
   "outputs": [
    {
     "ename": "NameError",
     "evalue": "name 'ILP_scores' is not defined",
     "output_type": "error",
     "traceback": [
      "\u001b[0;31m---------------------------------------------------------------------------\u001b[0m",
      "\u001b[0;31mNameError\u001b[0m                                 Traceback (most recent call last)",
      "Cell \u001b[0;32mIn[72], line 2\u001b[0m\n\u001b[1;32m      1\u001b[0m \u001b[38;5;28;01mwith\u001b[39;00m \u001b[38;5;28mopen\u001b[39m(\u001b[38;5;124m'\u001b[39m\u001b[38;5;124m/home/ddeandres/spp_features_and_classes/performance_evaluation_ton_iot.npy\u001b[39m\u001b[38;5;124m'\u001b[39m, \u001b[38;5;124m'\u001b[39m\u001b[38;5;124mwb\u001b[39m\u001b[38;5;124m'\u001b[39m) \u001b[38;5;28;01mas\u001b[39;00m f:\n\u001b[0;32m----> 2\u001b[0m     np\u001b[38;5;241m.\u001b[39msave(f, \u001b[43mILP_scores\u001b[49m)\n\u001b[1;32m      3\u001b[0m     np\u001b[38;5;241m.\u001b[39msave(f, ILP_exec_times)\n",
      "\u001b[0;31mNameError\u001b[0m: name 'ILP_scores' is not defined"
     ]
    }
   ],
   "source": [
    "with open('/home/ddeandres/spp_features_and_classes/performance_evaluation_ton_iot.npy', 'wb') as f:\n",
    "    np.save(f, ILP_scores)\n",
    "    np.save(f, ILP_exec_times)"
   ]
  },
  {
   "cell_type": "code",
   "execution_count": 501,
   "id": "aa8f2a65-a8c3-49c3-a372-6a577f1e4c6c",
   "metadata": {},
   "outputs": [
    {
     "data": {
      "image/png": "[encoded data removed]",
      "text/plain": [
       "<Figure size 640x480 with 1 Axes>"
      ]
     },
     "metadata": {},
     "output_type": "display_data"
    }
   ],
   "source": [
    "fig, ax = plt.subplots()\n",
    "ax.set_xlabel(\"n_classes\")\n",
    "ax.set_ylabel(\"Objective value\")\n",
    "ax.boxplot(scores, labels=range(i_start,i_end))\n",
    "ticks = ax.get_xticks()\n",
    "ax.plot(ticks,ILP_scores, label='Optimal',)\n",
    "ax.plot(ticks,np.median(scores, axis=0), label='random solution')\n",
    "ax.legend()\n",
    "fig.savefig('/home/ddeandres/spp_features_and_classes/performance_algorithms.pdf')"
   ]
  },
  {
   "cell_type": "code",
   "execution_count": 497,
   "id": "818ad99a-40f8-4e62-9f5e-4e1772d71df9",
   "metadata": {},
   "outputs": [
    {
     "data": {
      "image/png": "[encoded data removed]",
      "text/plain": [
       "<Figure size 640x480 with 1 Axes>"
      ]
     },
     "metadata": {},
     "output_type": "display_data"
    }
   ],
   "source": [
    "fig, ax = plt.subplots()\n",
    "ax.set_xlabel(\"n_classes\")\n",
    "ax.set_ylabel(\"Exec. Time [s]\")\n",
    "ax.set_xticks(np.arange(i_start,i_end))\n",
    "ax.plot(np.arange(i_start,i_end),ILP_exec_times)\n",
    "fig.show()\n",
    "fig.savefig('/home/ddeandres/spp_features_and_classes/performance_algorithms.pdf')"
   ]
  },
  {
   "cell_type": "code",
   "execution_count": null,
   "id": "1a4bf65c-3cef-45bc-b74b-e122956d2790",
   "metadata": {},
   "outputs": [],
   "source": []
  }
 ],
 "metadata": {
  "kernelspec": {
   "display_name": "Python 3 (ipykernel)",
   "language": "python",
   "name": "python3"
  },
  "language_info": {
   "codemirror_mode": {
    "name": "ipython",
    "version": 3
   },
   "file_extension": ".py",
   "mimetype": "text/x-python",
   "name": "python",
   "nbconvert_exporter": "python",
   "pygments_lexer": "ipython3",
   "version": "3.8.10"
  }
 },
 "nbformat": 4,
 "nbformat_minor": 5
}
